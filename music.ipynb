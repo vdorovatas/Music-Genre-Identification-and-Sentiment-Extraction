{
  "metadata": {
    "kernelspec": {
      "language": "python",
      "display_name": "Python 3",
      "name": "python3"
    },
    "language_info": {
      "name": "python",
      "version": "3.6.6",
      "mimetype": "text/x-python",
      "codemirror_mode": {
        "name": "ipython",
        "version": 3
      },
      "pygments_lexer": "ipython3",
      "nbconvert_exporter": "python",
      "file_extension": ".py"
    },
    "kaggle": {
      "accelerator": "gpu",
      "dataSources": [
        {
          "sourceId": 892850,
          "sourceType": "datasetVersion",
          "datasetId": 476917
        }
      ],
      "dockerImageVersionId": 29867,
      "isInternetEnabled": true,
      "language": "python",
      "sourceType": "notebook",
      "isGpuEnabled": true
    },
    "colab": {
      "provenance": []
    }
  },
  "nbformat_minor": 0,
  "nbformat": 4,
  "cells": [
    {
      "cell_type": "code",
      "source": [
        "import numpy as np\n",
        "import librosa.display\n",
        "import matplotlib.pyplot as plt\n",
        "import os"
      ],
      "metadata": {
        "_uuid": "8f2839f25d086af736a60e9eeb907d3b93b6e0e5",
        "_cell_guid": "b1076dfc-b9ad-4769-8c92-a6c4dae69d19",
        "execution": {
          "iopub.status.busy": "2023-12-05T09:27:54.039550Z",
          "iopub.execute_input": "2023-12-05T09:27:54.039821Z",
          "iopub.status.idle": "2023-12-05T09:27:56.954323Z",
          "shell.execute_reply.started": "2023-12-05T09:27:54.039793Z",
          "shell.execute_reply": "2023-12-05T09:27:56.953558Z"
        },
        "trusted": true,
        "id": "nAYxW-rEUQ-a"
      },
      "execution_count": null,
      "outputs": []
    },
    {
      "cell_type": "code",
      "source": [
        "os.listdir(\"../input/patreco3-multitask-affective-music/data/\")"
      ],
      "metadata": {
        "execution": {
          "iopub.status.busy": "2023-12-05T09:28:03.312096Z",
          "iopub.execute_input": "2023-12-05T09:28:03.312399Z",
          "iopub.status.idle": "2023-12-05T09:28:03.329505Z",
          "shell.execute_reply.started": "2023-12-05T09:28:03.312367Z",
          "shell.execute_reply": "2023-12-05T09:28:03.328841Z"
        },
        "trusted": true,
        "id": "JzZsdVciUQ-f",
        "outputId": "817dfc16-db40-48cf-e5ca-a44d763a6ea1"
      },
      "execution_count": null,
      "outputs": [
        {
          "execution_count": 2,
          "output_type": "execute_result",
          "data": {
            "text/plain": "['multitask_dataset_beat',\n 'fma_genre_spectrograms',\n 'fma_genre_spectrograms_beat',\n 'multitask_dataset']"
          },
          "metadata": {}
        }
      ]
    },
    {
      "cell_type": "code",
      "source": [
        "import pandas as pd\n",
        "labels = pd.read_csv(\"../input/patreco3-multitask-affective-music/data/fma_genre_spectrograms/train_labels.txt\", sep=\" \")\n",
        "labels = pd.DataFrame.to_numpy(labels)\n",
        "print(labels.shape)"
      ],
      "metadata": {
        "execution": {
          "iopub.status.busy": "2023-11-26T17:40:50.209148Z",
          "iopub.execute_input": "2023-11-26T17:40:50.209424Z",
          "iopub.status.idle": "2023-11-26T17:40:50.222365Z",
          "shell.execute_reply.started": "2023-11-26T17:40:50.209396Z",
          "shell.execute_reply": "2023-11-26T17:40:50.221576Z"
        },
        "trusted": true,
        "id": "Yp2BrXRJUQ-g"
      },
      "execution_count": null,
      "outputs": []
    },
    {
      "cell_type": "markdown",
      "source": [
        "**choose 2 labels**"
      ],
      "metadata": {
        "id": "oJoHML0_UQ-h"
      }
    },
    {
      "cell_type": "code",
      "source": [
        "def get_index(s):\n",
        "    return s[0].split(\".\")[0], s[0].split(\".\")[-1].split('\\t')[1]\n",
        "\n",
        "idx1, genre1 = get_index(labels[1910])\n",
        "idx2, genre2 = get_index(labels[3])\n",
        "idx3, genre3 = get_index(labels[600])\n",
        "\n",
        "print(idx1, idx2, idx3)\n",
        "print(genre1, genre2, genre3)"
      ],
      "metadata": {
        "execution": {
          "iopub.status.busy": "2023-11-26T16:26:14.887017Z",
          "iopub.execute_input": "2023-11-26T16:26:14.887372Z",
          "iopub.status.idle": "2023-11-26T16:26:14.895891Z",
          "shell.execute_reply.started": "2023-11-26T16:26:14.887334Z",
          "shell.execute_reply": "2023-11-26T16:26:14.894951Z"
        },
        "trusted": true,
        "id": "cN0qG58kUQ-j"
      },
      "execution_count": null,
      "outputs": []
    },
    {
      "cell_type": "code",
      "source": [
        "spec1 = np.load('/kaggle/input/patreco3-multitask-affective-music/data/fma_genre_spectrograms/train/' +idx1+'.fused.full.npy')\n",
        "spec2 = np.load('/kaggle/input/patreco3-multitask-affective-music/data/fma_genre_spectrograms/train/'+idx2+'.fused.full.npy')\n",
        "spec3 = np.load('/kaggle/input/patreco3-multitask-affective-music/data/fma_genre_spectrograms/train/'+idx3+'.fused.full.npy')"
      ],
      "metadata": {
        "execution": {
          "iopub.status.busy": "2023-11-26T15:04:39.515412Z",
          "iopub.execute_input": "2023-11-26T15:04:39.515746Z",
          "iopub.status.idle": "2023-11-26T15:04:39.602073Z",
          "shell.execute_reply.started": "2023-11-26T15:04:39.515707Z",
          "shell.execute_reply": "2023-11-26T15:04:39.601079Z"
        },
        "trusted": true,
        "id": "UdmjZNR6UQ-k"
      },
      "execution_count": null,
      "outputs": []
    },
    {
      "cell_type": "markdown",
      "source": [
        "**The shape is (mel + chroma frequencies, timesteps)**"
      ],
      "metadata": {
        "id": "TFq2jV-8UQ-k"
      }
    },
    {
      "cell_type": "code",
      "source": [
        "print(spec1.shape)\n",
        "print(spec2.shape)"
      ],
      "metadata": {
        "execution": {
          "iopub.status.busy": "2023-11-26T15:04:39.604322Z",
          "iopub.execute_input": "2023-11-26T15:04:39.604608Z",
          "iopub.status.idle": "2023-11-26T15:04:39.610713Z",
          "shell.execute_reply.started": "2023-11-26T15:04:39.604577Z",
          "shell.execute_reply": "2023-11-26T15:04:39.609557Z"
        },
        "trusted": true,
        "id": "IpfFdaLnUQ-l"
      },
      "execution_count": null,
      "outputs": []
    },
    {
      "cell_type": "markdown",
      "source": [
        "**decomposing into mel spectrogram and chromagram**"
      ],
      "metadata": {
        "id": "uClqmz9FUQ-l"
      }
    },
    {
      "cell_type": "code",
      "source": [
        "mel1, chroma1 = spec1[:128], spec1[128:]\n",
        "mel2, chroma2 = spec2[:128], spec2[128:]\n",
        "mel3, chroma3 = spec3[:128], spec3[128:]"
      ],
      "metadata": {
        "execution": {
          "iopub.status.busy": "2023-11-26T15:04:39.612079Z",
          "iopub.execute_input": "2023-11-26T15:04:39.612351Z",
          "iopub.status.idle": "2023-11-26T15:04:39.621415Z",
          "shell.execute_reply.started": "2023-11-26T15:04:39.612322Z",
          "shell.execute_reply": "2023-11-26T15:04:39.620342Z"
        },
        "trusted": true,
        "id": "Dz5NNM0DUQ-m"
      },
      "execution_count": null,
      "outputs": []
    },
    {
      "cell_type": "code",
      "source": [
        "print(mel1.shape, chroma1.shape)"
      ],
      "metadata": {
        "execution": {
          "iopub.status.busy": "2023-11-26T15:04:39.623361Z",
          "iopub.execute_input": "2023-11-26T15:04:39.624303Z",
          "iopub.status.idle": "2023-11-26T15:04:39.633970Z",
          "shell.execute_reply.started": "2023-11-26T15:04:39.624250Z",
          "shell.execute_reply": "2023-11-26T15:04:39.632804Z"
        },
        "trusted": true,
        "id": "I9nlUDMNUQ-m"
      },
      "execution_count": null,
      "outputs": []
    },
    {
      "cell_type": "code",
      "source": [
        "#ploting the Spectograms\n",
        "plt.plot()\n",
        "plt.close()\n",
        "fig, ax = plt.subplots()\n",
        "img = librosa.display.specshow(mel1, x_axis='time', y_axis='linear', ax=ax)\n",
        "ax.set(title='Spectrogram of genre: ' + genre1)\n",
        "#fig.colorbar(img, ax=ax, format=\"%+2.f dB\")\n",
        "#black -> -80dB"
      ],
      "metadata": {
        "execution": {
          "iopub.status.busy": "2023-11-26T15:04:39.636167Z",
          "iopub.execute_input": "2023-11-26T15:04:39.636920Z",
          "iopub.status.idle": "2023-11-26T15:04:39.987565Z",
          "shell.execute_reply.started": "2023-11-26T15:04:39.636842Z",
          "shell.execute_reply": "2023-11-26T15:04:39.986556Z"
        },
        "trusted": true,
        "id": "pZXuW6P_UQ-m"
      },
      "execution_count": null,
      "outputs": []
    },
    {
      "cell_type": "code",
      "source": [
        "fig, ax = plt.subplots()\n",
        "img = librosa.display.specshow(mel2, x_axis='time', y_axis='linear', ax=ax)\n",
        "ax.set(title='Spectrogram of genre: ' + genre2)\n",
        "#fig.colorbar(img, ax=ax, format=\"%+2.f dB\")"
      ],
      "metadata": {
        "execution": {
          "iopub.status.busy": "2023-11-26T15:04:39.988870Z",
          "iopub.execute_input": "2023-11-26T15:04:39.989288Z",
          "iopub.status.idle": "2023-11-26T15:04:40.275872Z",
          "shell.execute_reply.started": "2023-11-26T15:04:39.989254Z",
          "shell.execute_reply": "2023-11-26T15:04:40.274812Z"
        },
        "trusted": true,
        "id": "T4QraGNVUQ-m"
      },
      "execution_count": null,
      "outputs": []
    },
    {
      "cell_type": "code",
      "source": [
        "fig, ax = plt.subplots()\n",
        "img = librosa.display.specshow(mel3, x_axis='time', y_axis='linear', ax=ax)\n",
        "ax.set(title='Spectrogram of genre: ' + genre3)\n",
        "#fig.colorbar(img, ax=ax, format=\"%+2.f dB\")"
      ],
      "metadata": {
        "execution": {
          "iopub.status.busy": "2023-11-26T15:04:40.277414Z",
          "iopub.execute_input": "2023-11-26T15:04:40.277718Z",
          "iopub.status.idle": "2023-11-26T15:04:40.574330Z",
          "shell.execute_reply.started": "2023-11-26T15:04:40.277687Z",
          "shell.execute_reply": "2023-11-26T15:04:40.573306Z"
        },
        "trusted": true,
        "id": "d52ZJ6TXUQ-n"
      },
      "execution_count": null,
      "outputs": []
    },
    {
      "cell_type": "code",
      "source": [
        "spec1 = np.load('/kaggle/input/patreco3-multitask-affective-music/data/fma_genre_spectrograms_beat/train/' +idx1+'.fused.full.npy')\n",
        "spec2 = np.load('/kaggle/input/patreco3-multitask-affective-music/data/fma_genre_spectrograms_beat/train/'+idx2+'.fused.full.npy')\n",
        "\n",
        "mel1, chroma1 = spec1[:128], spec1[128:]\n",
        "mel2, chroma2 = spec2[:128], spec2[128:]"
      ],
      "metadata": {
        "execution": {
          "iopub.status.busy": "2023-11-26T15:05:41.172884Z",
          "iopub.execute_input": "2023-11-26T15:05:41.173299Z",
          "iopub.status.idle": "2023-11-26T15:05:41.185443Z",
          "shell.execute_reply.started": "2023-11-26T15:05:41.173257Z",
          "shell.execute_reply": "2023-11-26T15:05:41.184223Z"
        },
        "trusted": true,
        "id": "YITgDMkGUQ-n"
      },
      "execution_count": null,
      "outputs": []
    },
    {
      "cell_type": "code",
      "source": [
        "fig, ax = plt.subplots()\n",
        "img = librosa.display.specshow(mel1, x_axis='time', y_axis='linear', ax=ax)\n",
        "ax.set(title='Beat-Synced Spectrogram of genre: ' + genre1)\n",
        "#fig.colorbar(img, ax=ax, format=\"%+2.f dB\")"
      ],
      "metadata": {
        "execution": {
          "iopub.status.busy": "2023-11-26T15:06:30.399843Z",
          "iopub.execute_input": "2023-11-26T15:06:30.400230Z",
          "iopub.status.idle": "2023-11-26T15:06:30.592078Z",
          "shell.execute_reply.started": "2023-11-26T15:06:30.400196Z",
          "shell.execute_reply": "2023-11-26T15:06:30.591029Z"
        },
        "trusted": true,
        "id": "ph68cZlJUQ-n"
      },
      "execution_count": null,
      "outputs": []
    },
    {
      "cell_type": "code",
      "source": [
        "fig, ax = plt.subplots()\n",
        "img = librosa.display.specshow(mel2, x_axis='time', y_axis='linear', ax=ax)\n",
        "ax.set(title='Beat-Synced Spectrogram of genre: ' + genre2)\n",
        "#fig.colorbar(img, ax=ax, format=\"%+2.f dB\")"
      ],
      "metadata": {
        "execution": {
          "iopub.status.busy": "2023-11-26T15:06:32.469596Z",
          "iopub.execute_input": "2023-11-26T15:06:32.469985Z",
          "iopub.status.idle": "2023-11-26T15:06:32.658419Z",
          "shell.execute_reply.started": "2023-11-26T15:06:32.469949Z",
          "shell.execute_reply": "2023-11-26T15:06:32.657414Z"
        },
        "trusted": true,
        "id": "qNUwimYoUQ-n"
      },
      "execution_count": null,
      "outputs": []
    },
    {
      "cell_type": "code",
      "source": [
        "import numpy as np\n",
        "import copy\n",
        "from sklearn.preprocessing import LabelEncoder\n",
        "from torch.utils.data import Dataset\n",
        "from torch.utils.data import SubsetRandomSampler, DataLoader\n",
        "import re\n",
        "\n",
        "# Combine similar classes and remove underrepresented classes\n",
        "class_mapping = {\n",
        "    'Rock': 'Rock',\n",
        "    'Psych-Rock': 'Rock',\n",
        "    'Indie-Rock': None,\n",
        "    'Post-Rock': 'Rock',\n",
        "    'Psych-Folk': 'Folk',\n",
        "    'Folk': 'Folk',\n",
        "    'Metal': 'Metal',\n",
        "    'Punk': 'Metal',\n",
        "    'Post-Punk': None,\n",
        "    'Trip-Hop': 'Trip-Hop',\n",
        "    'Pop': 'Pop',\n",
        "    'Electronic': 'Electronic',\n",
        "    'Hip-Hop': 'Hip-Hop',\n",
        "    'Classical': 'Classical',\n",
        "    'Blues': 'Blues',\n",
        "    'Chiptune': 'Electronic',\n",
        "    'Jazz': 'Jazz',\n",
        "    'Soundtrack': None,\n",
        "    'International': None,\n",
        "    'Old-Time': None\n",
        "}\n",
        "\n",
        "\n",
        "# Helper functions to read fused, mel, and chromagram\n",
        "def read_fused_spectrogram(spectrogram_file):\n",
        "    spectrogram = np.load(spectrogram_file)\n",
        "    return spectrogram.T\n",
        "\n",
        "\n",
        "def read_mel_spectrogram(spectrogram_file):\n",
        "    spectrogram = np.load(spectrogram_file)[:128]\n",
        "    return spectrogram.T\n",
        "\n",
        "\n",
        "def read_chromagram(spectrogram_file):\n",
        "    spectrogram = np.load(spectrogram_file)[128:]\n",
        "    return spectrogram.T\n"
      ],
      "metadata": {
        "execution": {
          "iopub.status.busy": "2023-12-05T09:28:12.081229Z",
          "iopub.execute_input": "2023-12-05T09:28:12.081517Z",
          "iopub.status.idle": "2023-12-05T09:28:13.284451Z",
          "shell.execute_reply.started": "2023-12-05T09:28:12.081490Z",
          "shell.execute_reply": "2023-12-05T09:28:13.283676Z"
        },
        "trusted": true,
        "id": "cqVIU_5qUQ-n"
      },
      "execution_count": null,
      "outputs": []
    },
    {
      "cell_type": "code",
      "source": [
        "# TODO: Comment on how the train and validation splits are created.\n",
        "# TODO: It's useful to set the seed when debugging but when experimenting ALWAYS set seed=None. Why?\n",
        "def torch_train_val_split(\n",
        "        dataset, batch_train, batch_eval,\n",
        "        val_size=.2, shuffle=True, seed=None):\n",
        "    # Creating data indices for training and validation splits:\n",
        "    dataset_size = len(dataset)\n",
        "    # Creating a list of all indices in dataset\n",
        "    indices = list(range(dataset_size))\n",
        "    # Calculate the number of validation data\n",
        "    val_split = int(np.floor(val_size * dataset_size))\n",
        "    # Shuffle the indices\n",
        "    if shuffle:\n",
        "        np.random.seed(seed)\n",
        "        np.random.shuffle(indices)\n",
        "    # Split the indices for training and validation set according to the calculated number of val data\n",
        "    train_indices = indices[val_split:]\n",
        "    val_indices = indices[:val_split]\n",
        "\n",
        "    # Creating PT data samplers and loaders:\n",
        "    train_sampler = SubsetRandomSampler(train_indices)\n",
        "    val_sampler = SubsetRandomSampler(val_indices)\n",
        "\n",
        "    train_loader = DataLoader(dataset,\n",
        "                              batch_size=batch_train,\n",
        "                              sampler=train_sampler)\n",
        "    val_loader = DataLoader(dataset,\n",
        "                            batch_size=batch_eval,\n",
        "                            sampler=val_sampler)\n",
        "    return train_loader, val_loader\n",
        "\n",
        "\n",
        "class LabelTransformer(LabelEncoder):\n",
        "    def inverse(self, y):\n",
        "        try:\n",
        "            return super(LabelTransformer, self).inverse_transform(y)\n",
        "        except:\n",
        "            return super(LabelTransformer, self).inverse_transform([y])\n",
        "\n",
        "    def transform(self, y):\n",
        "        try:\n",
        "            return super(LabelTransformer, self).transform(y)\n",
        "        except:\n",
        "            return super(LabelTransformer, self).transform([y])\n",
        "\n",
        "\n",
        "# TODO: Comment on why padding is needed\n",
        "# class that pads object with zeros or cross it to max_length\n",
        "class PaddingTransform(object):\n",
        "    def __init__(self, max_length, padding_value=0):\n",
        "        self.max_length = max_length\n",
        "        self.padding_value = padding_value\n",
        "\n",
        "    def __call__(self, s):\n",
        "        if len(s) == self.max_length:\n",
        "            return s\n",
        "\n",
        "        if len(s) > self.max_length:\n",
        "            return s[:self.max_length]\n",
        "\n",
        "        if len(s) < self.max_length:\n",
        "            s1 = copy.deepcopy(s)\n",
        "            pad = np.zeros((self.max_length - s.shape[0], s.shape[1]), dtype=np.float32)\n",
        "            s1 = np.vstack((s1, pad))\n",
        "            return s1\n",
        "\n",
        "# Pytorch Dataset Class for creating the dataset\n",
        "class SpectrogramDataset(Dataset):\n",
        "    def __init__(self, path, class_mapping=None, train=True, max_length=-1, read_spec_fn=read_fused_spectrogram):\n",
        "        t = 'train' if train else 'test'\n",
        "        # Construct the path to label text file\n",
        "        p = os.path.join(path, t)\n",
        "        self.full_path = p\n",
        "        self.index = os.path.join(path, \"{}_labels.txt\".format(t))\n",
        "        # get training or test files and also their label\n",
        "        self.files, labels = self.get_files_labels(self.index, class_mapping)\n",
        "        # load spectrogram or chomagram or both from eaxh file\n",
        "        self.feats = [read_spec_fn(os.path.join(p, f)) for f in self.files]\n",
        "        self.feat_dim = self.feats[0].shape[1]\n",
        "        # keep length for each datum and max _length in dataset\n",
        "        self.lengths = [len(i) for i in self.feats]\n",
        "        self.max_length = max(self.lengths) if max_length <= 0 else max_length\n",
        "        # zero padd data to max_length\n",
        "        self.zero_pad_and_stack = PaddingTransform(self.max_length)\n",
        "        # trasform labels to numbers\n",
        "        self.label_transformer = LabelTransformer()\n",
        "        if isinstance(labels, (list, tuple)):\n",
        "            self.labels = np.array(self.label_transformer.fit_transform(labels)).astype('int64')\n",
        "\n",
        "    def get_files_labels(self, txt, class_mapping):\n",
        "        with open(txt, 'r') as fd:\n",
        "            lines = [l.rstrip().split('\\t') for l in fd.readlines()[1:]]\n",
        "        files, labels = [], []\n",
        "        for l in lines:\n",
        "            label = l[1]\n",
        "            # map label according to class mapping\n",
        "            if class_mapping:\n",
        "                label = class_mapping[l[1]]\n",
        "            if not label:\n",
        "                continue\n",
        "            # Kaggle automatically unzips the npy.gz format so this hack is needed\n",
        "            fname = l[0]\n",
        "            if fname.endswith(\".gz\"):\n",
        "                fname = \".\".join(fname.split(\".\")[:-1])\n",
        "            if 'fma_genre_spectrograms_beat' in self.full_path.split('/'): # necessary fix 1\n",
        "                fname = fname.replace('beatsync.fused', 'fused.full')\n",
        "            if 'test' in self.full_path.split('/'): # necessary fix 2\n",
        "                fname = fname.replace('full.fused', 'fused.full')\n",
        "            files.append(fname)\n",
        "            labels.append(label)\n",
        "        return files, labels\n",
        "\n",
        "    def __getitem__(self, item):\n",
        "        # TODO: Inspect output and comment on how the output is formatted\n",
        "        l = min(self.lengths[item], self.max_length)\n",
        "        # output = padded feature eg 128 * max_length for spectrogram, label, original feat lenght\n",
        "        return self.zero_pad_and_stack(self.feats[item]), self.labels[item], l\n",
        "\n",
        "    def __len__(self):\n",
        "        return len(self.labels)"
      ],
      "metadata": {
        "execution": {
          "iopub.status.busy": "2023-12-05T09:28:16.711799Z",
          "iopub.execute_input": "2023-12-05T09:28:16.712114Z",
          "iopub.status.idle": "2023-12-05T09:28:16.751263Z",
          "shell.execute_reply.started": "2023-12-05T09:28:16.712083Z",
          "shell.execute_reply": "2023-12-05T09:28:16.750540Z"
        },
        "trusted": true,
        "id": "625EANXGUQ-o"
      },
      "execution_count": null,
      "outputs": []
    },
    {
      "cell_type": "code",
      "source": [
        "#  create a dataset for spectrograms\n",
        "path = '../input/patreco3-multitask-affective-music/data/fma_genre_spectrograms_beat/'\n",
        "beat_mel_specs_wo = SpectrogramDataset(\n",
        "         path,\n",
        "         train=True,\n",
        "         class_mapping=None,\n",
        "         max_length=-1,\n",
        "         read_spec_fn=read_mel_spectrogram)\n",
        "# get labels for data without mapping classes\n",
        "_, ll = beat_mel_specs_wo.get_files_labels(path + 'train_labels.txt', None)\n",
        "# get labels for data mapping classes as class mapping propose\n",
        "_, ll_ = beat_mel_specs_wo.get_files_labels(path + 'train_labels.txt', class_mapping)"
      ],
      "metadata": {
        "execution": {
          "iopub.status.busy": "2023-11-26T15:07:54.607585Z",
          "iopub.execute_input": "2023-11-26T15:07:54.607955Z",
          "iopub.status.idle": "2023-11-26T15:08:18.303245Z",
          "shell.execute_reply.started": "2023-11-26T15:07:54.607921Z",
          "shell.execute_reply": "2023-11-26T15:08:18.302148Z"
        },
        "trusted": true,
        "id": "4TsPp-1_UQ-o"
      },
      "execution_count": null,
      "outputs": []
    },
    {
      "cell_type": "code",
      "source": [
        "import pandas\n",
        "from collections import Counter\n",
        "# Plot histograms before and after mapping\n",
        "genre_c = Counter(ll)\n",
        "df = pandas.DataFrame.from_dict(genre_c, orient='index')\n",
        "ax = df.plot(kind='bar', title = 'before mapping', figsize=(28,10))\n",
        "ax.figure.savefig('before.png')\n",
        "\n",
        "genre_c = Counter(ll_)\n",
        "df = pandas.DataFrame.from_dict(genre_c, orient='index')\n",
        "ax = df.plot(kind='bar', title = 'after mapping', figsize=(28,10))\n",
        "ax.figure.savefig('after.png')"
      ],
      "metadata": {
        "execution": {
          "iopub.status.busy": "2023-11-26T15:08:26.899370Z",
          "iopub.execute_input": "2023-11-26T15:08:26.899700Z",
          "iopub.status.idle": "2023-11-26T15:08:27.933319Z",
          "shell.execute_reply.started": "2023-11-26T15:08:26.899670Z",
          "shell.execute_reply": "2023-11-26T15:08:27.932019Z"
        },
        "trusted": true,
        "id": "KsDLHNrlUQ-o"
      },
      "execution_count": null,
      "outputs": []
    },
    {
      "cell_type": "markdown",
      "source": [
        "**LSTM.py**"
      ],
      "metadata": {
        "id": "e0HuEohnUQ-o"
      }
    },
    {
      "cell_type": "code",
      "source": [
        "# A full LSTM implementation is provided\n",
        "# You can use this or the one you implemented in the second lab\n",
        "\n",
        "import torch\n",
        "import torch.nn as nn\n",
        "from torch.nn.utils.rnn import pack_padded_sequence, pad_packed_sequence\n",
        "\n",
        "\n",
        "class PadPackedSequence(nn.Module):\n",
        "    def __init__(self):\n",
        "        \"\"\"Wrap sequence padding in nn.Module\n",
        "        Args:\n",
        "            batch_first (bool, optional): Use batch first representation. Defaults to True.\n",
        "        \"\"\"\n",
        "        super(PadPackedSequence, self).__init__()\n",
        "        self.batch_first = True\n",
        "        self.max_length = None\n",
        "\n",
        "    def forward(self, x):\n",
        "        \"\"\"Convert packed sequence to padded sequence\n",
        "        Args:\n",
        "            x (torch.nn.utils.rnn.PackedSequence): Packed sequence\n",
        "        Returns:\n",
        "            torch.Tensor: Padded sequence\n",
        "        \"\"\"\n",
        "        out, lengths = pad_packed_sequence(\n",
        "            x, batch_first=self.batch_first, total_length=self.max_length  # type: ignore\n",
        "        )\n",
        "        lengths = lengths.to(out.device)\n",
        "        return out, lengths  # type: ignore\n",
        "\n",
        "\n",
        "class PackSequence(nn.Module):\n",
        "    def __init__(self):\n",
        "        \"\"\"Wrap sequence packing in nn.Module\n",
        "        Args:\n",
        "            batch_first (bool, optional): Use batch first representation. Defaults to True.\n",
        "        \"\"\"\n",
        "        super(PackSequence, self).__init__()\n",
        "        self.batch_first = True\n",
        "\n",
        "    def forward(self, x, lengths):\n",
        "        \"\"\"Pack a padded sequence and sort lengths\n",
        "        Args:\n",
        "            x (torch.Tensor): Padded tensor\n",
        "            lengths (torch.Tensor): Original lengths befor padding\n",
        "        Returns:\n",
        "            Tuple[torch.nn.utils.rnn.PackedSequence, torch.Tensor]: (packed sequence, sorted lengths)\n",
        "        \"\"\"\n",
        "        lengths = lengths.to(\"cpu\")\n",
        "        out = pack_padded_sequence(\n",
        "            x, lengths, batch_first=self.batch_first, enforce_sorted=False\n",
        "        )\n",
        "\n",
        "        return out\n",
        "\n",
        "\n",
        "class LSTMBackbone(nn.Module):\n",
        "    def __init__(\n",
        "        self,\n",
        "        input_dim,\n",
        "        rnn_size=128,\n",
        "        num_layers=1,\n",
        "        bidirectional=False,\n",
        "        dropout=0.1,\n",
        "    ):\n",
        "        super(LSTMBackbone, self).__init__()\n",
        "        self.batch_first = True\n",
        "        self.bidirectional = bidirectional\n",
        "        self.feature_size = rnn_size * 2 if self.bidirectional else rnn_size\n",
        "\n",
        "        self.input_dim = input_dim\n",
        "        self.rnn_size = rnn_size\n",
        "        self.num_layers = num_layers\n",
        "        self.hidden_size = rnn_size\n",
        "        self.pack = PackSequence()\n",
        "        self.unpack = PadPackedSequence()\n",
        "        self.lstm = nn.LSTM(\n",
        "            input_size=input_dim,\n",
        "            hidden_size=rnn_size,\n",
        "            num_layers=num_layers,\n",
        "            batch_first=True,\n",
        "            bidirectional=self.bidirectional,\n",
        "            dropout=dropout,\n",
        "        )\n",
        "        self.drop = nn.Dropout(dropout)\n",
        "\n",
        "    def forward(self, x, lengths):\n",
        "        \"\"\"LSTM forward\n",
        "        Args:\n",
        "            x (torch.Tensor):\n",
        "                [B, S, F] Batch size x sequence length x feature size\n",
        "                padded inputs\n",
        "            lengths (torch.tensor):\n",
        "                [B] Original lengths of each padded sequence in the batch\n",
        "        Returns:\n",
        "            torch.Tensor:\n",
        "                [B, H] Batch size x hidden size lstm last timestep outputs\n",
        "                2 x hidden_size if bidirectional\n",
        "        \"\"\"\n",
        "        packed = self.pack(x, lengths)\n",
        "        output, _ = self.lstm(packed)\n",
        "        output, lengths = self.unpack(output)\n",
        "        output = self.drop(output)\n",
        "\n",
        "        rnn_all_outputs, last_timestep = self._final_output(output, lengths)\n",
        "        # Use the last_timestep for classification / regression\n",
        "        # Alternatively rnn_all_outputs can be used with an attention mechanism\n",
        "        return last_timestep\n",
        "\n",
        "    def _merge_bi(self, forward, backward):\n",
        "        \"\"\"Merge forward and backward states\n",
        "        Args:\n",
        "            forward (torch.Tensor): [B, L, H] Forward states\n",
        "            backward (torch.Tensor): [B, L, H] Backward states\n",
        "        Returns:\n",
        "            torch.Tensor: [B, L, 2*H] Merged forward and backward states\n",
        "        \"\"\"\n",
        "        return torch.cat((forward, backward), dim=-1)\n",
        "\n",
        "    def _final_output(self, out, lengths):\n",
        "        \"\"\"Create RNN ouputs\n",
        "        Collect last hidden state for forward and backward states\n",
        "        Code adapted from https://stackoverflow.com/a/50950188\n",
        "        Args:\n",
        "            out (torch.Tensor): [B, L, num_directions * H] RNN outputs\n",
        "            lengths (torch.Tensor): [B] Original sequence lengths\n",
        "        Returns:\n",
        "            Tuple[torch.Tensor, torch.Tensor]: (\n",
        "                merged forward and backward states [B, L, H] or [B, L, 2*H],\n",
        "                merged last forward and backward state [B, H] or [B, 2*H]\n",
        "            )\n",
        "        \"\"\"\n",
        "\n",
        "        if not self.bidirectional:\n",
        "            return out, self._select_last_unpadded(out, lengths)\n",
        "\n",
        "        forward, backward = (out[..., : self.hidden_size], out[..., self.hidden_size :])\n",
        "        # Last backward corresponds to first token\n",
        "        last_backward_out = backward[:, 0, :] if self.batch_first else backward[0, ...]\n",
        "        # Last forward for real length or seq (unpadded tokens)\n",
        "        last_forward_out = self._select_last_unpadded(forward, lengths)\n",
        "        out = self._merge_bi(forward, backward)\n",
        "\n",
        "        return out, self._merge_bi(last_forward_out, last_backward_out)\n",
        "\n",
        "    def _select_last_unpadded(self, out, lengths):\n",
        "        \"\"\"Get the last timestep before padding starts\n",
        "        Args:\n",
        "            out (torch.Tensor): [B, L, H] Fprward states\n",
        "            lengths (torch.Tensor): [B] Original sequence lengths\n",
        "        Returns:\n",
        "            torch.Tensor: [B, H] Features for last sequence timestep\n",
        "        \"\"\"\n",
        "        gather_dim = 1  # Batch first\n",
        "        gather_idx = (\n",
        "            (lengths - 1)  # -1 to convert to indices\n",
        "            .unsqueeze(1)  # (B) -> (B, 1)\n",
        "            .expand((-1, self.hidden_size))  # (B, 1) -> (B, H)\n",
        "            # (B, 1, H) if batch_first else (1, B, H)\n",
        "            .unsqueeze(gather_dim)\n",
        "        )\n",
        "        # Last forward for real length or seq (unpadded tokens)\n",
        "        last_out = out.gather(gather_dim, gather_idx).squeeze(gather_dim)\n",
        "\n",
        "        return last_out"
      ],
      "metadata": {
        "execution": {
          "iopub.status.busy": "2023-12-05T09:28:24.848344Z",
          "iopub.execute_input": "2023-12-05T09:28:24.848643Z",
          "iopub.status.idle": "2023-12-05T09:28:24.878430Z",
          "shell.execute_reply.started": "2023-12-05T09:28:24.848614Z",
          "shell.execute_reply": "2023-12-05T09:28:24.877679Z"
        },
        "trusted": true,
        "id": "9N_D_I4aUQ-p"
      },
      "execution_count": null,
      "outputs": []
    },
    {
      "cell_type": "code",
      "source": [
        "import sys\n",
        "sys.path.insert(1, '/kaggle/input/lstm-b')\n",
        "#from lstm import LSTMBackbone\n",
        "from sklearn.metrics import accuracy_score, confusion_matrix\n",
        "#from modules import Classifier, MultitaskRegressor, Regressor\n",
        "\n",
        "\n",
        "class EarlyStopping(object):\n",
        "    def __init__(self, patience, mode=\"min\", base=np.Inf):\n",
        "        self.best = base\n",
        "        self.patience = patience\n",
        "        self.patience_left = patience\n",
        "        self.mode = mode\n",
        "\n",
        "    def stop(self, model, value: float) -> bool:\n",
        "        # TODO: YOUR CODE HERE\n",
        "        # Decrease patience if the metric hs not improved\n",
        "        # Stop when patience reaches zero\n",
        "        if not self.has_improved(value):\n",
        "            self.patience_left-=1\n",
        "        else:\n",
        "            #keep the best value of the metric so far\n",
        "            self.best = value\n",
        "            #save the model with the best metric so far\n",
        "            self.checkpoint(model)\n",
        "        #if there is no patience left stop training process\n",
        "        return self.patience_left == 0\n",
        "    #A function to save best models parameters during training\n",
        "    def checkpoint(self, model):\n",
        "        torch.save(model.state_dict(), 'best_model.pth')\n",
        "\n",
        "    #A function to load parameters of the best model during training\n",
        "    def resume(self, model):\n",
        "        model.load_state_dict(torch.load('best_model.pth'))\n",
        "\n",
        "    def has_improved(self, value: float) -> bool:\n",
        "        # TODO: YOUR CODE HERE\n",
        "        # Check if the metric has improved\n",
        "        return value < self.best\n",
        "\n",
        "\n",
        "def training_loop(model, train_dataloader, optimizer, criterion, device=\"cuda\"):\n",
        "    model.train()\n",
        "    running_loss = 0.0\n",
        "    num_batches = 0\n",
        "    for batch in train_dataloader:\n",
        "        features, labels, lengths = batch\n",
        "        features = features.to(device)\n",
        "        labels = labels.to(device)\n",
        "        labels = torch.tensor(labels, dtype=torch.long, device=device)\n",
        "        lengths = lengths.to(device)\n",
        "        # zero grads in the optimizer\n",
        "        optimizer.zero_grad()\n",
        "        # run forward pass\n",
        "        outputs = model.forward(features.float(), lengths)\n",
        "        # calculate loss\n",
        "        loss = criterion(outputs, labels)\n",
        "        # Run backward pass\n",
        "        loss.backward()\n",
        "        # Update the parameteres\n",
        "        optimizer.step()\n",
        "        running_loss += loss.item()\n",
        "        num_batches += 1\n",
        "    train_loss = running_loss / num_batches\n",
        "\n",
        "    return train_loss  # Return train_loss and anything else you need\n",
        "\n",
        "\n",
        "def validation_loop(model, val_dataloader, criterion, device=\"cuda\"):\n",
        "    model.eval()\n",
        "    running_loss = 0.0\n",
        "    num_batches = 0\n",
        "    #y_pred = torch.empty(0, dtype=torch.int64)\n",
        "    #y_true = torch.empty(0, dtype=torch.int64)\n",
        "    y_pred = torch.empty(0, dtype=torch.int64, device=device)\n",
        "    y_true = torch.empty(0, dtype=torch.int64, device=device)\n",
        "    with torch.no_grad():\n",
        "        for num_batch, batch in enumerate(val_dataloader):\n",
        "            features, labels, lengths = batch\n",
        "            features = features.to(device)\n",
        "            labels = labels.to(device)\n",
        "            labels = torch.tensor(labels, dtype=torch.long, device=device)\n",
        "            lengths = lengths.to(device)\n",
        "            # TODO: YOUR CODE HERE\n",
        "            # Run forward pass\n",
        "            logits = model.forward(features.float(), lengths)\n",
        "            # calculate loss\n",
        "            loss = criterion(logits, labels)\n",
        "            running_loss += loss.item()\n",
        "            # Predict\n",
        "            outputs = torch.argmax(logits, dim = 1)# Calculate the argmax of logits\n",
        "            y_pred = torch.cat((y_pred, outputs))\n",
        "            y_true = torch.cat((y_true, labels))\n",
        "            num_batches += 1\n",
        "    valid_loss = running_loss / num_batches\n",
        "\n",
        "    return valid_loss, y_pred, y_true  # Return validation_loss and anything else you need\n",
        "\n",
        "\n",
        "def overfit_with_a_couple_of_batches(model, train_dataloader, optimizer, criterion):\n",
        "    epochs = 5000  # An absurd number of epochs\n",
        "    # TODO: select a couple of batches from the dataloader\n",
        "    batches = [next(iter(train_dataloader)) for i in range(2)]\n",
        "    # TODO: Run the training loop for an absurd amount of epochs\n",
        "    for epoch in range(epochs):\n",
        "        training_loss = training_loop(model, batches, optimizer, criterion)\n",
        "        if epoch%1000 is 0:\n",
        "            print(\"Epoch:\", epoch)\n",
        "    b_loss, y_pred, y_true = validation_loop(model, batches, criterion)\n",
        "    y_pred = torch.tensor(y_pred, device='cpu')\n",
        "    y_true = torch.tensor(y_true, device='cpu')\n",
        "    b_accuracy = accuracy_score(y_true, y_pred)\n",
        "    print(\"Batch overfitting: loss = {}, acc = {}\".format(b_loss, b_accuracy))\n",
        "\n",
        "\n",
        "def train(model, train_dataloader, val_dataloader, optimizer, epochs, criterion, device=\"cuda\", overfit_batch=False, patience = 20):\n",
        "    t_loss = []\n",
        "    val_loss = []\n",
        "    val_acc = []\n",
        "    model = model.to(device).float()\n",
        "    early_stopping = EarlyStopping(patience, mode=\"min\")\n",
        "    if overfit_batch:\n",
        "        overfit_with_a_couple_of_batches(model, train_dataloader, optimizer, criterion)\n",
        "    else:\n",
        "        for epoch in range(epochs):\n",
        "            training_loss = training_loop(model, train_dataloader, optimizer, criterion)\n",
        "            valid_loss, y_pred, y_true = validation_loop(model, val_dataloader, criterion)\n",
        "\n",
        "            # TODO: Calculate and print accuracy score\n",
        "            y_pred = torch.tensor(y_pred, device='cpu')\n",
        "            y_true = torch.tensor(y_true, device='cpu')\n",
        "            valid_accuracy = accuracy_score(y_true, y_pred)\n",
        "            print(\n",
        "                \"Epoch {}: train loss = {}, valid loss = {}, valid acc = {}\".format(\n",
        "                    epoch, training_loss, valid_loss, valid_accuracy\n",
        "                )\n",
        "            )\n",
        "            t_loss.append(training_loss)\n",
        "            val_loss.append(valid_loss)\n",
        "            val_acc.append(valid_accuracy)\n",
        "            #check early stop criterion if early_stp is True\n",
        "            if early_stp and early_stopping.stop(model, valid_loss):\n",
        "                print(\"early stopping... \", epoch)\n",
        "                early_stopping.resume(model)\n",
        "                break\n",
        "    #return trained model and losses during training\n",
        "    return model, t_loss, val_loss, val_acc"
      ],
      "metadata": {
        "execution": {
          "iopub.status.busy": "2023-12-05T16:28:03.775940Z",
          "iopub.execute_input": "2023-12-05T16:28:03.776254Z",
          "iopub.status.idle": "2023-12-05T16:28:03.813489Z",
          "shell.execute_reply.started": "2023-12-05T16:28:03.776225Z",
          "shell.execute_reply": "2023-12-05T16:28:03.812541Z"
        },
        "trusted": true,
        "id": "Glb0Eg3yUQ-p"
      },
      "execution_count": null,
      "outputs": []
    },
    {
      "cell_type": "code",
      "source": [
        "path = '../input/patreco3-multitask-affective-music/data/fma_genre_spectrograms/'\n",
        "\n",
        "# construct dataset\n",
        "mel_specs = SpectrogramDataset(\n",
        "         path,\n",
        "         train=True,\n",
        "         class_mapping=class_mapping,\n",
        "         max_length=-1,\n",
        "         read_spec_fn=read_mel_spectrogram)\n",
        "#split dataset to train, val\n",
        "train_loader_mel, val_loader_mel = torch_train_val_split(mel_specs, 32 ,32, val_size=.2)\n",
        "\n",
        "# construct test dataset\n",
        "test_loader = SpectrogramDataset(\n",
        "     path,\n",
        "     train=False,\n",
        "     class_mapping=class_mapping,\n",
        "     max_length=-1,\n",
        "     read_spec_fn=read_mel_spectrogram)\n",
        "test_loader, _ = torch_train_val_split(test_loader, 32 ,32, val_size=0)\n",
        "\n",
        "# fix model hyperparameters\n",
        "input_dim = train_loader_mel.dataset.feats[0].shape[-1]\n",
        "rnn_size = 128\n",
        "output_dim = len(np.unique(train_loader_mel.dataset.labels)) # number of genres\n",
        "num_layers = 2\n",
        "bidirectional = False\n",
        "dropout = 0.1\n",
        "lr = 1e-4\n",
        "weight_decay = 0\n",
        "epochs = 70\n",
        "early_stp = True"
      ],
      "metadata": {
        "execution": {
          "iopub.status.busy": "2023-12-05T16:28:08.697959Z",
          "iopub.execute_input": "2023-12-05T16:28:08.698245Z",
          "iopub.status.idle": "2023-12-05T16:28:17.385258Z",
          "shell.execute_reply.started": "2023-12-05T16:28:08.698217Z",
          "shell.execute_reply": "2023-12-05T16:28:17.384555Z"
        },
        "trusted": true,
        "id": "qFamVkcWUQ-q"
      },
      "execution_count": null,
      "outputs": []
    },
    {
      "cell_type": "code",
      "source": [
        "model_f = LSTMBackbone(\n",
        "                input_dim,\n",
        "                rnn_size,\n",
        "                num_layers,\n",
        "                bidirectional=bidirectional,\n",
        "                dropout=dropout,\n",
        "            )\n",
        "\n",
        "# Initialize AdamW\n",
        "criterion = nn.CrossEntropyLoss()\n",
        "optimizer = torch.optim.AdamW(model_f.parameters(),  lr=lr, weight_decay=weight_decay)\n",
        "\n",
        "#train model\n",
        "model_f, t_loss, val_loss, val_acc =train(model_f,train_loader_mel, val_loader_mel, optimizer, epochs, criterion)\n",
        "#plot losses during learning\n",
        "plt.plot(t_loss, label = 'training_loss')\n",
        "plt.plot(val_loss, label = 'validation_loss')\n",
        "plt.xlabel('epoch')\n",
        "plt.ylabel('mean loss')\n",
        "plt.legend( loc='upper left')\n",
        "plt.show()"
      ],
      "metadata": {
        "execution": {
          "iopub.status.busy": "2023-12-05T16:28:17.387179Z",
          "iopub.execute_input": "2023-12-05T16:28:17.387483Z",
          "iopub.status.idle": "2023-12-05T16:33:29.087165Z",
          "shell.execute_reply.started": "2023-12-05T16:28:17.387448Z",
          "shell.execute_reply": "2023-12-05T16:33:29.086227Z"
        },
        "trusted": true,
        "id": "br7wPSOUUQ-q",
        "outputId": "20243352-292d-4f96-9c16-a1f58cc9ef9f"
      },
      "execution_count": null,
      "outputs": [
        {
          "name": "stderr",
          "text": "/opt/conda/lib/python3.6/site-packages/ipykernel_launcher.py:50: UserWarning: To copy construct from a tensor, it is recommended to use sourceTensor.clone().detach() or sourceTensor.clone().detach().requires_grad_(True), rather than torch.tensor(sourceTensor).\n/opt/conda/lib/python3.6/site-packages/ipykernel_launcher.py:82: UserWarning: To copy construct from a tensor, it is recommended to use sourceTensor.clone().detach() or sourceTensor.clone().detach().requires_grad_(True), rather than torch.tensor(sourceTensor).\n/opt/conda/lib/python3.6/site-packages/ipykernel_launcher.py:130: UserWarning: To copy construct from a tensor, it is recommended to use sourceTensor.clone().detach() or sourceTensor.clone().detach().requires_grad_(True), rather than torch.tensor(sourceTensor).\n/opt/conda/lib/python3.6/site-packages/ipykernel_launcher.py:131: UserWarning: To copy construct from a tensor, it is recommended to use sourceTensor.clone().detach() or sourceTensor.clone().detach().requires_grad_(True), rather than torch.tensor(sourceTensor).\n",
          "output_type": "stream"
        },
        {
          "name": "stdout",
          "text": "Epoch 0: train loss = 2.2654786644310785, valid loss = 2.2324947357177733, valid acc = 0.18872017353579176\nEpoch 1: train loss = 2.206927480368779, valid loss = 2.1977300961812336, valid acc = 0.21691973969631237\nEpoch 2: train loss = 2.1716250016771514, valid loss = 2.150477925936381, valid acc = 0.23210412147505424\nEpoch 3: train loss = 2.1242229178034027, valid loss = 2.127933971087138, valid acc = 0.21691973969631237\nEpoch 4: train loss = 2.1624161827153174, valid loss = 2.1540499051411945, valid acc = 0.20824295010845986\nEpoch 5: train loss = 2.0951263945678185, valid loss = 2.028818901379903, valid acc = 0.27331887201735355\nEpoch 6: train loss = 2.0248371670986045, valid loss = 1.9968175729115805, valid acc = 0.2668112798264642\nEpoch 7: train loss = 2.006832344778653, valid loss = 1.9648905754089356, valid acc = 0.2885032537960954\nEpoch 8: train loss = 2.0962795882389464, valid loss = 2.3377018928527833, valid acc = 0.1301518438177874\nEpoch 9: train loss = 2.1174719765268524, valid loss = 2.0204819281895956, valid acc = 0.26898047722342733\nEpoch 10: train loss = 2.0157455452557267, valid loss = 2.0032833099365233, valid acc = 0.30585683297180044\nEpoch 11: train loss = 1.989166742768781, valid loss = 1.9297707796096801, valid acc = 0.34490238611713664\nEpoch 12: train loss = 1.9451268973021671, valid loss = 1.9190955400466918, valid acc = 0.3036876355748373\nEpoch 13: train loss = 1.957026296648486, valid loss = 2.0264740308125813, valid acc = 0.2841648590021692\nEpoch 14: train loss = 1.9293659802140861, valid loss = 1.960292911529541, valid acc = 0.29067245119305857\nEpoch 15: train loss = 2.013644915202568, valid loss = 2.0439167261123656, valid acc = 0.2754880694143167\nEpoch 16: train loss = 1.997781661050073, valid loss = 1.932685661315918, valid acc = 0.2993492407809111\nEpoch 17: train loss = 1.9174108011969204, valid loss = 1.9039470911026002, valid acc = 0.3210412147505423\nEpoch 18: train loss = 1.9093452959225095, valid loss = 1.9051887432734171, valid acc = 0.30151843817787416\nEpoch 19: train loss = 1.9490933233293994, valid loss = 1.9094027121861776, valid acc = 0.3188720173535792\nEpoch 20: train loss = 1.8869372709044094, valid loss = 1.9161994934082032, valid acc = 0.31670281995661603\nEpoch 21: train loss = 1.8896784104149917, valid loss = 1.9712650378545125, valid acc = 0.2754880694143167\nEpoch 22: train loss = 1.8688140429299454, valid loss = 1.8492546081542969, valid acc = 0.34273318872017355\nEpoch 23: train loss = 1.8774764167851414, valid loss = 1.886689273516337, valid acc = 0.3080260303687636\nEpoch 24: train loss = 1.9763424006001702, valid loss = 1.9787757953008016, valid acc = 0.2993492407809111\nEpoch 25: train loss = 1.9233989160636376, valid loss = 1.9638597249984742, valid acc = 0.28199566160520606\nEpoch 26: train loss = 2.1179190216393304, valid loss = 2.032111930847168, valid acc = 0.2668112798264642\nEpoch 27: train loss = 2.034339090873455, valid loss = 2.0182389577229816, valid acc = 0.29067245119305857\nEpoch 28: train loss = 1.9743485779597842, valid loss = 1.9233418385187784, valid acc = 0.31019522776572667\nEpoch 29: train loss = 1.9248518820466667, valid loss = 1.9468146403630575, valid acc = 0.2885032537960954\nEpoch 30: train loss = 1.9045956484202682, valid loss = 1.87371822198232, valid acc = 0.3318872017353579\nearly stopping...  30\n",
          "output_type": "stream"
        },
        {
          "output_type": "display_data",
          "data": {
            "text/plain": "<Figure size 432x288 with 1 Axes>",
            "image/png": "[encoded data removed]"
          },
          "metadata": {
            "needs_background": "light"
          }
        }
      ]
    },
    {
      "cell_type": "code",
      "source": [
        "# Report metrics on trained model\n",
        "from sklearn.metrics import classification_report\n",
        "\n",
        "test_loss, y_pred, y_true = validation_loop(model_f, test_loader, criterion)\n",
        "y_pred = torch.tensor(y_pred, device='cpu')\n",
        "y_true = torch.tensor(y_true, device='cpu')\n",
        "print(classification_report(y_true, y_pred))\n"
      ],
      "metadata": {
        "execution": {
          "iopub.status.busy": "2023-12-05T16:45:15.088125Z",
          "iopub.execute_input": "2023-12-05T16:45:15.088499Z",
          "iopub.status.idle": "2023-12-05T16:45:16.071934Z",
          "shell.execute_reply.started": "2023-12-05T16:45:15.088463Z",
          "shell.execute_reply": "2023-12-05T16:45:16.070973Z"
        },
        "trusted": true,
        "id": "WCrOxxWNUQ-q",
        "outputId": "8c2cdb98-b398-473f-8c97-8e49737050fe"
      },
      "execution_count": null,
      "outputs": [
        {
          "name": "stderr",
          "text": "/opt/conda/lib/python3.6/site-packages/ipykernel_launcher.py:82: UserWarning: To copy construct from a tensor, it is recommended to use sourceTensor.clone().detach() or sourceTensor.clone().detach().requires_grad_(True), rather than torch.tensor(sourceTensor).\n",
          "output_type": "stream"
        },
        {
          "name": "stdout",
          "text": "              precision    recall  f1-score   support\n\n           0       0.00      0.00      0.00        40\n           1       0.35      0.55      0.43        40\n           2       0.26      0.78      0.39        80\n           3       0.38      0.45      0.41        80\n           4       0.00      0.00      0.00        40\n           5       0.00      0.00      0.00        40\n           6       0.44      0.46      0.45        78\n           7       0.00      0.00      0.00        40\n           8       0.38      0.37      0.37       103\n           9       0.00      0.00      0.00        34\n\n    accuracy                           0.34       575\n   macro avg       0.18      0.26      0.21       575\nweighted avg       0.24      0.34      0.27       575\n\n",
          "output_type": "stream"
        },
        {
          "name": "stderr",
          "text": "/opt/conda/lib/python3.6/site-packages/ipykernel_launcher.py:5: UserWarning: To copy construct from a tensor, it is recommended to use sourceTensor.clone().detach() or sourceTensor.clone().detach().requires_grad_(True), rather than torch.tensor(sourceTensor).\n  \"\"\"\n/opt/conda/lib/python3.6/site-packages/ipykernel_launcher.py:6: UserWarning: To copy construct from a tensor, it is recommended to use sourceTensor.clone().detach() or sourceTensor.clone().detach().requires_grad_(True), rather than torch.tensor(sourceTensor).\n  \n/opt/conda/lib/python3.6/site-packages/sklearn/metrics/_classification.py:1272: UndefinedMetricWarning: Precision and F-score are ill-defined and being set to 0.0 in labels with no predicted samples. Use `zero_division` parameter to control this behavior.\n  _warn_prf(average, modifier, msg_start, len(result))\n",
          "output_type": "stream"
        }
      ]
    },
    {
      "cell_type": "code",
      "source": [
        "# try to overfit on a couple of batches from dataset to examine if the model has the expressive\n",
        "# capability for solving the problem\n",
        "t = train(model_f,train_loader_mel, val_loader_mel, optimizer, epochs, criterion, device = 'cuda', overfit_batch = True)\n",
        "\n",
        "\n",
        "# ### Train second model with beat syncronized mel spectrograms. The model is faster since features lie in far less dimensions\n"
      ],
      "metadata": {
        "id": "znXPauClUQ-q"
      },
      "execution_count": null,
      "outputs": []
    },
    {
      "cell_type": "code",
      "source": [
        "path = '../input/patreco3-multitask-affective-music/data/fma_genre_spectrograms_beat/'\n",
        "\n",
        "# construct dataset\n",
        "beat_mel_specs = SpectrogramDataset(\n",
        "         path,\n",
        "         train=True,\n",
        "         class_mapping=class_mapping,\n",
        "         max_length=-1,\n",
        "         read_spec_fn=read_mel_spectrogram)\n",
        "\n",
        "#split dataset to train, val\n",
        "train_loader_beat_mel, val_loader_beat_mel = torch_train_val_split(beat_mel_specs, 32 ,32, val_size=.2)\n",
        "\n",
        "# construct test dataset\n",
        "test_loader = SpectrogramDataset(\n",
        "     path,\n",
        "     train=False,\n",
        "     class_mapping=class_mapping,\n",
        "     max_length=-1,\n",
        "     read_spec_fn=read_mel_spectrogram)\n",
        "test_loader, _ = torch_train_val_split(test_loader, 32 ,32, val_size=0)\n",
        "\n",
        "# fix model hyperparameters\n",
        "input_dim = train_loader_beat_mel.dataset.feats[0].shape[-1]"
      ],
      "metadata": {
        "id": "O_cycgXRUQ-q"
      },
      "execution_count": null,
      "outputs": []
    },
    {
      "cell_type": "code",
      "source": [
        "model_f_beat = LSTMBackbone(\n",
        "                input_dim,\n",
        "                rnn_size,\n",
        "                num_layers,\n",
        "                bidirectional=bidirectional,\n",
        "                dropout=dropout,\n",
        "            )\n",
        "\n",
        "# Initialize AdamW\n",
        "criterion = nn.CrossEntropyLoss()\n",
        "optimizer = torch.optim.AdamW(model_f_beat.parameters(),  lr=lr, weight_decay=weight_decay)\n",
        "\n",
        "# train model\n",
        "model_f_beat, t_loss, val_loss, val_acc =train(model_f_beat,train_loader_beat_mel, val_loader_beat_mel, optimizer, epochs, criterion)\n",
        "#plot losses during learning\n",
        "plt.plot(t_loss, label = 'training_loss')\n",
        "plt.plot(val_loss, label = 'validation_loss')\n",
        "plt.xlabel('epoch')\n",
        "plt.ylabel('mean loss')\n",
        "plt.legend( loc='upper left')\n",
        "plt.show()\n"
      ],
      "metadata": {
        "id": "0lZ1xutuUQ-q"
      },
      "execution_count": null,
      "outputs": []
    },
    {
      "cell_type": "code",
      "source": [
        "# Report metrics on trained model\n",
        "\n",
        "test_loss, y_pred, y_true = validation_loop(model_f_beat, test_loader, criterion)\n",
        "y_pred = torch.tensor(y_pred, device='cpu')\n",
        "y_true = torch.tensor(y_true, device='cpu')\n",
        "print(classification_report(y_true, y_pred))"
      ],
      "metadata": {
        "id": "gq6htf2yUQ-r"
      },
      "execution_count": null,
      "outputs": []
    },
    {
      "cell_type": "code",
      "source": [
        "# batch overfitting\n",
        "t = train(model_f_beat,train_loader_beat_mel, val_loader_beat_mel, optimizer, epochs, criterion, device = 'cuda', overfit_batch = True)\n",
        "\n",
        "\n",
        "# ### Train third model with chromatograms. The model is the fastest, but unable to learn classifing data"
      ],
      "metadata": {
        "id": "d4s1SEjIUQ-r"
      },
      "execution_count": null,
      "outputs": []
    },
    {
      "cell_type": "code",
      "source": [
        "path = '../input/patreco3-multitask-affective-music/data/fma_genre_spectrograms/'\n",
        "\n",
        "# construct dataset\n",
        "beat_chrom_specs = SpectrogramDataset(\n",
        "         path,\n",
        "         train=True,\n",
        "         class_mapping=class_mapping,\n",
        "         max_length=-1,\n",
        "         read_spec_fn=read_chromagram)\n",
        "\n",
        "# construct test dataset\n",
        "test_loader = SpectrogramDataset(\n",
        "     path,\n",
        "     train=False,\n",
        "     class_mapping=class_mapping,\n",
        "     max_length=-1,\n",
        "     read_spec_fn=read_chromagram)\n",
        "test_loader, _ = torch_train_val_split(test_loader, 32 ,32, val_size=0)\n",
        "\n",
        "#split dataset to train, val\n",
        "train_loader_chrom, val_loader_chrom = torch_train_val_split(beat_chrom_specs, 32 ,32, val_size=.2)\n",
        "\n",
        "# fix model hyperparameters\n",
        "input_dim = train_loader_chrom.dataset.feats[0].shape[-1]\n",
        "le = 1e-5"
      ],
      "metadata": {
        "id": "8aWbWnqOUQ-r"
      },
      "execution_count": null,
      "outputs": []
    },
    {
      "cell_type": "code",
      "source": [
        "# define model according to given code\n",
        "model_chrom = LSTMBackbone(\n",
        "                input_dim,\n",
        "                rnn_size,\n",
        "                num_layers,\n",
        "                bidirectional=bidirectional,\n",
        "                dropout=dropout,\n",
        "            )\n",
        "\n",
        "# Initialize AdamW\n",
        "criterion = nn.CrossEntropyLoss()\n",
        "optimizer = torch.optim.AdamW(model_chrom.parameters(),  lr=lr, weight_decay=weight_decay)\n",
        "\n",
        "# train model\n",
        "model_chrom, t_loss, val_loss, val_acc =train(model_chrom,train_loader_chrom, val_loader_chrom, optimizer, epochs, criterion)\n",
        "#plot losses during learning\n",
        "plt.plot(t_loss, label = 'training_loss')\n",
        "plt.plot(val_loss, label = 'validation_loss')\n",
        "plt.xlabel('epoch')\n",
        "plt.ylabel('mean loss')\n",
        "plt.legend( loc='upper left')\n",
        "plt.show()"
      ],
      "metadata": {
        "id": "31oVxt9qUQ-r"
      },
      "execution_count": null,
      "outputs": []
    },
    {
      "cell_type": "code",
      "source": [
        "# Report metrics on trained model\n",
        "test_loss, y_pred, y_true = validation_loop(model_chrom, test_loader, criterion)\n",
        "y_pred = torch.tensor(y_pred, device='cpu')\n",
        "y_true = torch.tensor(y_true, device='cpu')\n",
        "print(classification_report(y_true, y_pred))"
      ],
      "metadata": {
        "id": "-9Xk3gPQUQ-s"
      },
      "execution_count": null,
      "outputs": []
    },
    {
      "cell_type": "code",
      "source": [
        "# batch overfitting\n",
        "t = train(model_chrom,train_loader_chrom, val_loader_chrom, optimizer, epochs, criterion, device = 'cuda', overfit_batch = True)"
      ],
      "metadata": {
        "id": "TlOWI57UUQ-s"
      },
      "execution_count": null,
      "outputs": []
    },
    {
      "cell_type": "markdown",
      "source": [
        " # ***Main Part***"
      ],
      "metadata": {
        "id": "4q_3snL0UQ-s"
      }
    },
    {
      "cell_type": "code",
      "source": [
        "import torch\n",
        "import torch.nn as nn\n",
        "\n",
        "# CNN definition\n",
        "\n",
        "class CNNBackbone(nn.Module):\n",
        "\n",
        "    def __init__(self, H, W):\n",
        "\n",
        "        super(CNNBackbone, self).__init__()\n",
        "        self.a = H\n",
        "        self.b = W\n",
        "        for i in range(4):\n",
        "            self.a = ((self.a-6)//2) + 1\n",
        "            self.b = ((self.b-6)//2) + 1\n",
        "\n",
        "        self.layer1 = nn.Sequential(\n",
        "            nn.Conv2d(in_channels=1, out_channels=4, kernel_size=5),\n",
        "            nn.BatchNorm2d(num_features=4),\n",
        "            nn.ReLU(),\n",
        "            nn.MaxPool2d(kernel_size=2, stride=2),\n",
        "\n",
        "        )\n",
        "        self.layer2 = nn.Sequential(\n",
        "            nn.Conv2d(in_channels=4, out_channels=16, kernel_size=5),\n",
        "            nn.BatchNorm2d(num_features=16),\n",
        "            nn.ReLU(),\n",
        "            nn.MaxPool2d(kernel_size=2, stride=2),\n",
        "\n",
        "        )\n",
        "        self.layer3 = nn.Sequential(\n",
        "            nn.Conv2d(in_channels=16, out_channels=64, kernel_size=5),\n",
        "            nn.BatchNorm2d(num_features=64),\n",
        "            nn.ReLU(),\n",
        "            nn.MaxPool2d(kernel_size=2, stride=2),\n",
        "\n",
        "        )\n",
        "        self.layer4 = nn.Sequential(\n",
        "            nn.Conv2d(in_channels=64, out_channels=256, kernel_size=5),\n",
        "            nn.BatchNorm2d(num_features=256),\n",
        "            nn.ReLU(),\n",
        "            nn.MaxPool2d(kernel_size=2, stride=2),\n",
        "\n",
        "        )\n",
        "\n",
        "        self.fc1 = nn.Linear(self.a*self.b*256, 10)  #78848\n",
        "        self.dropout = nn.Dropout2d(p=0.1)\n",
        "\n",
        "    #(n_samples, channels, height, width)\n",
        "    def forward(self, x, lengths):\n",
        "        x = x.unsqueeze(1)\n",
        "        output = self.layer1(x)\n",
        "        output = self.layer2(output)\n",
        "        output = self.layer3(output)\n",
        "        output = self.layer4(output)\n",
        "        output = output.view(output.size(0), -1)\n",
        "        output = self.dropout(output)\n",
        "        output = self.fc1(output)\n",
        "        return output"
      ],
      "metadata": {
        "execution": {
          "iopub.status.busy": "2023-12-05T09:30:08.277997Z",
          "iopub.execute_input": "2023-12-05T09:30:08.278309Z",
          "iopub.status.idle": "2023-12-05T09:30:08.298542Z",
          "shell.execute_reply.started": "2023-12-05T09:30:08.278279Z",
          "shell.execute_reply": "2023-12-05T09:30:08.297617Z"
        },
        "trusted": true,
        "id": "26NUWmUEUQ-s"
      },
      "execution_count": null,
      "outputs": []
    },
    {
      "cell_type": "code",
      "source": [
        "# Train first model with mel spectrograms without beat sync\n",
        "\n",
        "path = '../input/patreco3-multitask-affective-music/data/fma_genre_spectrograms/'\n",
        "\n",
        "# construct dataset\n",
        "mel_specs = SpectrogramDataset(\n",
        "         path,\n",
        "         train=True,\n",
        "         class_mapping=class_mapping,\n",
        "         max_length=-1,\n",
        "         read_spec_fn=read_mel_spectrogram)\n",
        "#split dataset to train, val\n",
        "train_loader_mel, val_loader_mel = torch_train_val_split(mel_specs, 32 ,32, val_size=.2)\n",
        "\n",
        "# construct test dataset\n",
        "test_loader = SpectrogramDataset(\n",
        "     path,\n",
        "     train=False,\n",
        "     class_mapping=class_mapping,\n",
        "     max_length=-1,\n",
        "     read_spec_fn=read_mel_spectrogram)\n",
        "test_loader, _ = torch_train_val_split(test_loader, 32 ,32, val_size=0)\n",
        "\n",
        "# fix model hyperparameters\n",
        "lr = 1e-4\n",
        "weight_decay = 0\n",
        "epochs = 70\n",
        "early_stp = True\n",
        "input_dim = train_loader_mel.dataset.feats[0].shape"
      ],
      "metadata": {
        "execution": {
          "iopub.status.busy": "2023-12-05T09:28:46.170033Z",
          "iopub.execute_input": "2023-12-05T09:28:46.170325Z",
          "iopub.status.idle": "2023-12-05T09:29:46.072359Z",
          "shell.execute_reply.started": "2023-12-05T09:28:46.170291Z",
          "shell.execute_reply": "2023-12-05T09:29:46.071644Z"
        },
        "trusted": true,
        "id": "Qe1HfxKVUQ-s"
      },
      "execution_count": null,
      "outputs": []
    },
    {
      "cell_type": "code",
      "source": [
        "# define model according to given code\n",
        "\n",
        "model_f = CNNBackbone(input_dim[0], input_dim[1])\n",
        "\n",
        "# Initialize AdamW\n",
        "criterion = nn.CrossEntropyLoss()\n",
        "optimizer = torch.optim.AdamW(model_f.parameters(),  lr=lr, weight_decay=weight_decay)"
      ],
      "metadata": {
        "execution": {
          "iopub.status.busy": "2023-12-05T09:30:10.886369Z",
          "iopub.execute_input": "2023-12-05T09:30:10.886685Z",
          "iopub.status.idle": "2023-12-05T09:30:10.902615Z",
          "shell.execute_reply.started": "2023-12-05T09:30:10.886652Z",
          "shell.execute_reply": "2023-12-05T09:30:10.901659Z"
        },
        "trusted": true,
        "id": "OtLap1QGUQ-w"
      },
      "execution_count": null,
      "outputs": []
    },
    {
      "cell_type": "code",
      "source": [
        "# try to overfit on a couple of batches from dataset to examine if the model has the expressive\n",
        "# capability for solving the problem\n",
        "print(\"Overfitting Model 1...\")\n",
        "model_f, t_loss, val_loss, val_acc = train(model_f,train_loader_mel, val_loader_mel, optimizer, epochs, criterion, device = 'cuda', overfit_batch = True)"
      ],
      "metadata": {
        "execution": {
          "iopub.status.busy": "2023-11-27T08:33:46.384903Z",
          "iopub.execute_input": "2023-11-27T08:33:46.385178Z",
          "iopub.status.idle": "2023-11-27T08:33:49.068967Z",
          "shell.execute_reply.started": "2023-11-27T08:33:46.385152Z",
          "shell.execute_reply": "2023-11-27T08:33:49.067784Z"
        },
        "trusted": true,
        "id": "-iqjxe07UQ-x"
      },
      "execution_count": null,
      "outputs": []
    },
    {
      "cell_type": "code",
      "source": [
        "#train model\n",
        "\n",
        "model_f, t_loss, val_loss, val_acc = train(model_f,train_loader_mel, val_loader_mel, optimizer, epochs, criterion)\n",
        "#plot losses during learning\n",
        "plt.plot(t_loss, label = 'training_loss')\n",
        "plt.plot(val_loss, label = 'validation_loss')\n",
        "plt.xlabel('epoch')\n",
        "plt.ylabel('mean loss')\n",
        "plt.legend( loc='upper left')\n",
        "plt.show()"
      ],
      "metadata": {
        "execution": {
          "iopub.status.busy": "2023-12-05T09:30:13.589832Z",
          "iopub.execute_input": "2023-12-05T09:30:13.590114Z",
          "iopub.status.idle": "2023-12-05T09:36:09.804407Z",
          "shell.execute_reply.started": "2023-12-05T09:30:13.590087Z",
          "shell.execute_reply": "2023-12-05T09:36:09.803624Z"
        },
        "trusted": true,
        "id": "hNkTvZjIUQ-x",
        "outputId": "db1c5d74-8d3b-4231-ce60-734ad9f71eba"
      },
      "execution_count": null,
      "outputs": [
        {
          "name": "stderr",
          "text": "/opt/conda/lib/python3.6/site-packages/ipykernel_launcher.py:50: UserWarning: To copy construct from a tensor, it is recommended to use sourceTensor.clone().detach() or sourceTensor.clone().detach().requires_grad_(True), rather than torch.tensor(sourceTensor).\n/opt/conda/lib/python3.6/site-packages/ipykernel_launcher.py:82: UserWarning: To copy construct from a tensor, it is recommended to use sourceTensor.clone().detach() or sourceTensor.clone().detach().requires_grad_(True), rather than torch.tensor(sourceTensor).\n/opt/conda/lib/python3.6/site-packages/ipykernel_launcher.py:130: UserWarning: To copy construct from a tensor, it is recommended to use sourceTensor.clone().detach() or sourceTensor.clone().detach().requires_grad_(True), rather than torch.tensor(sourceTensor).\n/opt/conda/lib/python3.6/site-packages/ipykernel_launcher.py:131: UserWarning: To copy construct from a tensor, it is recommended to use sourceTensor.clone().detach() or sourceTensor.clone().detach().requires_grad_(True), rather than torch.tensor(sourceTensor).\n",
          "output_type": "stream"
        },
        {
          "name": "stdout",
          "text": "Epoch 0: train loss = 2.716868875355556, valid loss = 2.2240768829981485, valid acc = 0.3080260303687636\nEpoch 1: train loss = 1.7441944747135556, valid loss = 2.0055235862731933, valid acc = 0.31453362255965295\nEpoch 2: train loss = 1.3447378462758557, valid loss = 2.2083637873331705, valid acc = 0.3470715835140998\nEpoch 3: train loss = 0.9925644644375505, valid loss = 2.110916336377462, valid acc = 0.351409978308026\nEpoch 4: train loss = 0.5557106728183812, valid loss = 2.1519459009170534, valid acc = 0.3383947939262473\nEpoch 5: train loss = 0.3895577395270611, valid loss = 1.9254561026891073, valid acc = 0.3362255965292842\nEpoch 6: train loss = 0.24572300551266507, valid loss = 1.8336304585138956, valid acc = 0.3882863340563991\nEpoch 7: train loss = 0.15188057271057162, valid loss = 1.8356951157251993, valid acc = 0.3882863340563991\nEpoch 8: train loss = 0.11879390760742385, valid loss = 1.839079785346985, valid acc = 0.37093275488069416\nEpoch 9: train loss = 0.07419076317857051, valid loss = 1.8322484890619914, valid acc = 0.39913232104121477\nEpoch 10: train loss = 0.052585523318627786, valid loss = 1.7956560532251993, valid acc = 0.3947939262472885\nEpoch 11: train loss = 0.04357405154612558, valid loss = 1.8331003586451213, valid acc = 0.41865509761388287\nEpoch 12: train loss = 0.03505235409428333, valid loss = 1.9062165816624959, valid acc = 0.3969631236442516\nEpoch 13: train loss = 0.027234004296619315, valid loss = 1.9027079900105794, valid acc = 0.39045553145336226\nEpoch 14: train loss = 0.024363461175355417, valid loss = 1.893096129099528, valid acc = 0.3882863340563991\nEpoch 15: train loss = 0.021380356320276343, valid loss = 1.906847063700358, valid acc = 0.403470715835141\nEpoch 16: train loss = 0.019758653489808584, valid loss = 1.9125632842381795, valid acc = 0.3947939262472885\nEpoch 17: train loss = 0.01700519853881721, valid loss = 1.827330199877421, valid acc = 0.3947939262472885\nEpoch 18: train loss = 0.014269301908668774, valid loss = 1.8664884249369302, valid acc = 0.4078091106290672\nEpoch 19: train loss = 0.013034881654612977, valid loss = 1.9205016613006591, valid acc = 0.4078091106290672\nEpoch 20: train loss = 0.012093678582459688, valid loss = 1.8423333565394084, valid acc = 0.4121475054229935\nEpoch 21: train loss = 0.01034697761823391, valid loss = 1.8686708291371663, valid acc = 0.41431670281995664\nEpoch 22: train loss = 0.009895046675128156, valid loss = 1.8667179981867472, valid acc = 0.39913232104121477\nEpoch 23: train loss = 0.00875355740045679, valid loss = 1.8959370692571005, valid acc = 0.420824295010846\nEpoch 24: train loss = 0.008411020144884443, valid loss = 1.8481606086095175, valid acc = 0.3947939262472885\nEpoch 25: train loss = 0.008133333915009582, valid loss = 1.8331136067708333, valid acc = 0.403470715835141\nearly stopping...  25\n",
          "output_type": "stream"
        },
        {
          "output_type": "display_data",
          "data": {
            "text/plain": "<Figure size 432x288 with 1 Axes>",
            "image/png": "[encoded data removed]"
          },
          "metadata": {
            "needs_background": "light"
          }
        }
      ]
    },
    {
      "cell_type": "code",
      "source": [
        "# Report metrics on trained model\n",
        "from sklearn.metrics import classification_report\n",
        "\n",
        "test_loss, y_pred, y_true = validation_loop(model_f, test_loader, criterion)\n",
        "y_pred = torch.tensor(y_pred, device='cpu')\n",
        "y_true = torch.tensor(y_true, device='cpu')\n",
        "print(classification_report(y_true, y_pred))"
      ],
      "metadata": {
        "execution": {
          "iopub.status.busy": "2023-12-05T09:40:09.930170Z",
          "iopub.execute_input": "2023-12-05T09:40:09.930496Z",
          "iopub.status.idle": "2023-12-05T09:40:10.952987Z",
          "shell.execute_reply.started": "2023-12-05T09:40:09.930468Z",
          "shell.execute_reply": "2023-12-05T09:40:10.952119Z"
        },
        "trusted": true,
        "id": "_kxUnjMeUQ-x",
        "outputId": "9fa2fe8b-fc43-414a-c24f-515e813888c6"
      },
      "execution_count": null,
      "outputs": [
        {
          "name": "stderr",
          "text": "/opt/conda/lib/python3.6/site-packages/ipykernel_launcher.py:82: UserWarning: To copy construct from a tensor, it is recommended to use sourceTensor.clone().detach() or sourceTensor.clone().detach().requires_grad_(True), rather than torch.tensor(sourceTensor).\n",
          "output_type": "stream"
        },
        {
          "name": "stdout",
          "text": "              precision    recall  f1-score   support\n\n           0       0.15      0.12      0.14        40\n           1       0.51      0.65      0.57        40\n           2       0.78      0.40      0.53        80\n           3       0.39      0.47      0.43        80\n           4       0.49      0.45      0.47        40\n           5       0.19      0.10      0.13        40\n           6       0.47      0.56      0.51        78\n           7       0.23      0.20      0.21        40\n           8       0.32      0.40      0.36       103\n           9       0.29      0.32      0.31        34\n\n    accuracy                           0.39       575\n   macro avg       0.38      0.37      0.37       575\nweighted avg       0.41      0.39      0.39       575\n\n",
          "output_type": "stream"
        },
        {
          "name": "stderr",
          "text": "/opt/conda/lib/python3.6/site-packages/ipykernel_launcher.py:5: UserWarning: To copy construct from a tensor, it is recommended to use sourceTensor.clone().detach() or sourceTensor.clone().detach().requires_grad_(True), rather than torch.tensor(sourceTensor).\n  \"\"\"\n/opt/conda/lib/python3.6/site-packages/ipykernel_launcher.py:6: UserWarning: To copy construct from a tensor, it is recommended to use sourceTensor.clone().detach() or sourceTensor.clone().detach().requires_grad_(True), rather than torch.tensor(sourceTensor).\n  \n",
          "output_type": "stream"
        }
      ]
    },
    {
      "cell_type": "markdown",
      "source": [
        "# Regression"
      ],
      "metadata": {
        "id": "hqXuEOFjUQ-x"
      }
    },
    {
      "cell_type": "code",
      "source": [
        "#STEP 8\n",
        "\n",
        "def torch_train_val_test_split(dataset, batch_train, batch_eval, batch_test,\n",
        "                            val_size=.15, test_size=.15, shuffle=True, seed=None):\n",
        "\n",
        "    # Creating data indices for training and validation splits:\n",
        "    dataset_size = len(dataset)\n",
        "    indices = list(range(dataset_size))\n",
        "    val_split = int(np.floor(val_size * dataset_size))\n",
        "    test_split = int(np.floor(test_size * dataset_size))\n",
        "\n",
        "    if shuffle:\n",
        "        np.random.seed(seed)\n",
        "        np.random.shuffle(indices)\n",
        "\n",
        "    train_indices = indices[test_split+val_split:]\n",
        "    val_indices = indices[:val_split]\n",
        "    test_indices = indices[val_split:test_split+val_split]\n",
        "\n",
        "    # Creating PT data samplers and loaders:\n",
        "    train_sampler = SubsetRandomSampler(train_indices)\n",
        "    val_sampler = SubsetRandomSampler(val_indices)\n",
        "    test_sampler = SubsetRandomSampler(test_indices)\n",
        "\n",
        "    train_loader = DataLoader(dataset,\n",
        "                              batch_size=batch_train,\n",
        "                              sampler=train_sampler)\n",
        "    val_loader = DataLoader(dataset,\n",
        "                            batch_size=batch_eval,\n",
        "                            sampler=val_sampler)\n",
        "    test_loader = DataLoader(dataset,\n",
        "                            batch_size=1,\n",
        "                            sampler=test_sampler)\n",
        "\n",
        "    return train_loader, val_loader, test_loader"
      ],
      "metadata": {
        "execution": {
          "iopub.status.busy": "2023-12-05T09:40:46.193476Z",
          "iopub.execute_input": "2023-12-05T09:40:46.193830Z",
          "iopub.status.idle": "2023-12-05T09:40:46.204566Z",
          "shell.execute_reply.started": "2023-12-05T09:40:46.193791Z",
          "shell.execute_reply": "2023-12-05T09:40:46.203573Z"
        },
        "trusted": true,
        "id": "j_dAAEKjUQ-x"
      },
      "execution_count": null,
      "outputs": []
    },
    {
      "cell_type": "code",
      "source": [
        "def training_loop(model, train_dataloader, optimizer, criterion, device=\"cuda\"):\n",
        "    model.train()\n",
        "    running_loss = 0.0\n",
        "    num_batches = 0\n",
        "    for batch in train_dataloader:\n",
        "        features, labels, lengths = batch\n",
        "        features = features.to(device)\n",
        "        labels = labels.to(device)\n",
        "        labels = torch.tensor(labels, dtype=torch.float, device=device)\n",
        "        lengths = lengths.to(device)\n",
        "        # zero grads in the optimizer\n",
        "        optimizer.zero_grad()\n",
        "        # run forward pass\n",
        "        outputs = model.forward(features.float(), lengths)\n",
        "        # calculate loss\n",
        "        loss = criterion(outputs, labels)\n",
        "        # Run backward pass\n",
        "        loss.backward()\n",
        "        # Update the parameteres\n",
        "        optimizer.step()\n",
        "        running_loss += loss.item()\n",
        "        num_batches += 1\n",
        "    train_loss = running_loss / num_batches\n",
        "\n",
        "    return train_loss  # Return train_loss and anything else you need\n",
        "\n",
        "\n",
        "def validation_loop(model, val_dataloader, criterion, device=\"cuda\"):\n",
        "    model.eval()\n",
        "    running_loss = 0.0\n",
        "    num_batches = 0\n",
        "    #y_pred = torch.empty(0, dtype=torch.int64)\n",
        "    #y_true = torch.empty(0, dtype=torch.int64)\n",
        "    y_pred = torch.empty(0, dtype=torch.float, device=device)\n",
        "    y_true = torch.empty(0, dtype=torch.float, device=device)\n",
        "    with torch.no_grad():\n",
        "        for num_batch, batch in enumerate(val_dataloader):\n",
        "            features, labels, lengths = batch\n",
        "            features = features.to(device)\n",
        "            labels = labels.to(device)\n",
        "            labels = torch.tensor(labels, dtype=torch.float, device=device)\n",
        "            lengths = lengths.to(device)\n",
        "            # TODO: YOUR CODE HERE\n",
        "            # Run forward pass\n",
        "            outputs = model.forward(features.float(), lengths)\n",
        "            # calculate loss\n",
        "            loss = criterion(outputs, labels)\n",
        "            running_loss += loss.item()\n",
        "            # Predict\n",
        "            y_pred = torch.cat((y_pred, outputs))\n",
        "            y_true = torch.cat((y_true, labels))\n",
        "            num_batches += 1\n",
        "    valid_loss = running_loss / num_batches\n",
        "    return valid_loss, y_pred, y_true  # Return validation_loss and anything else you need\n",
        "\n",
        "\n",
        "def train(model, train_dataloader, val_dataloader, optimizer, epochs, criterion, device=\"cuda\", overfit_batch=False, patience = 20):\n",
        "    t_loss = []\n",
        "    val_loss = []\n",
        "    model = model.to(device).float()\n",
        "    early_stopping = EarlyStopping(patience, mode=\"min\")\n",
        "    if overfit_batch:\n",
        "        overfit_with_a_couple_of_batches(model, train_dataloader, optimizer, criterion)\n",
        "    else:\n",
        "        for epoch in range(epochs):\n",
        "            training_loss = training_loop(model, train_dataloader, optimizer, criterion)\n",
        "            valid_loss, y_pred, y_true = validation_loop(model, val_dataloader, criterion)\n",
        "\n",
        "            print(\n",
        "                \"Epoch {}: train loss = {}, valid loss = {}\".format(\n",
        "                    epoch, training_loss, valid_loss\n",
        "                )\n",
        "            )\n",
        "            t_loss.append(training_loss)\n",
        "            val_loss.append(valid_loss)\n",
        "            #check early stop criterion if early_stp is True\n",
        "            if early_stp and early_stopping.stop(model, valid_loss):\n",
        "                print(\"early stopping... \", epoch)\n",
        "                early_stopping.resume(model)\n",
        "                break\n",
        "    #return trained model and losses during training\n",
        "    return model, t_loss, val_loss\n"
      ],
      "metadata": {
        "execution": {
          "iopub.status.busy": "2023-12-05T09:40:48.849961Z",
          "iopub.execute_input": "2023-12-05T09:40:48.850242Z",
          "iopub.status.idle": "2023-12-05T09:40:48.874744Z",
          "shell.execute_reply.started": "2023-12-05T09:40:48.850216Z",
          "shell.execute_reply": "2023-12-05T09:40:48.873912Z"
        },
        "trusted": true,
        "id": "CwN2zJGXUQ-x"
      },
      "execution_count": null,
      "outputs": []
    },
    {
      "cell_type": "code",
      "source": [
        "# Pytorch Dataset Class for creating the MultiTask dataset\n",
        "class MultitaskDataset(Dataset):\n",
        "    def __init__(self, path, attr, train=True, max_length=-1, clsss_mapping=None, read_spec_fn=read_fused_spectrogram):\n",
        "        t = 'train' if train else 'test'\n",
        "        # Construct the path to label text file\n",
        "        p = os.path.join(path, t)\n",
        "        self.full_path = p\n",
        "        self.attr = attr\n",
        "        self.index = os.path.join(path, \"{}_labels.txt\".format(t))\n",
        "        # get training or test files and also their label\n",
        "        self.files, labels = self.get_files_labels(self.index, class_mapping)\n",
        "        # load spectrogram or chomagram or both from eaxh file\n",
        "        self.feats = [read_spec_fn(os.path.join(p, f)) for f in self.files]\n",
        "        self.feat_dim = self.feats[0].shape[1]\n",
        "        # keep length for each datum and max _length in dataset\n",
        "        self.lengths = [len(i) for i in self.feats]\n",
        "        self.max_length = max(self.lengths) if max_length <= 0 else max_length\n",
        "        # zero padd data to max_length\n",
        "        self.zero_pad_and_stack = PaddingTransform(self.max_length)\n",
        "        # trasform labels to numbers\n",
        "        if isinstance(labels, (list, tuple)):\n",
        "            self.labels = np.array(labels).astype('float')\n",
        "\n",
        "    def get_files_labels(self, txt, class_mapping):\n",
        "        with open(txt, 'r') as fd:\n",
        "            lines = [l.rstrip().split('\\t') for l in fd.readlines()[1:]]\n",
        "        files, labels = [], []\n",
        "        for l in lines:\n",
        "            l = l[0].split(',')\n",
        "            if(self.attr==3): label = l[self.attr].strip('\\n')\n",
        "            else: label = l[self.attr]\n",
        "            # Kaggle automatically unzips the npy.gz format so this hack is needed\n",
        "            fname = int(l[0])\n",
        "            npy_file = '{}.fused.full.npy'.format(fname)\n",
        "            files.append(npy_file)\n",
        "            labels.append(label)\n",
        "        return files, labels\n",
        "\n",
        "    def __getitem__(self, item):\n",
        "        # TODO: Inspect output and comment on how the output is formatted\n",
        "        l = min(self.lengths[item], self.max_length)\n",
        "        # output = padded feature eg 128 * max_length for spectrogram, label, original feat lenght\n",
        "        return self.zero_pad_and_stack(self.feats[item]), self.labels[item], l\n",
        "\n",
        "    def __len__(self):\n",
        "        return len(self.labels)\n",
        ""
      ],
      "metadata": {
        "execution": {
          "iopub.status.busy": "2023-12-05T09:40:52.589165Z",
          "iopub.execute_input": "2023-12-05T09:40:52.589458Z",
          "iopub.status.idle": "2023-12-05T09:40:52.607315Z",
          "shell.execute_reply.started": "2023-12-05T09:40:52.589429Z",
          "shell.execute_reply": "2023-12-05T09:40:52.606337Z"
        },
        "trusted": true,
        "id": "jxhXEfG3UQ-x"
      },
      "execution_count": null,
      "outputs": []
    },
    {
      "cell_type": "code",
      "source": [
        "import torch\n",
        "import torch.nn as nn\n",
        "\n",
        "# LSTM modification for regression\n",
        "\n",
        "class LSTMBackbone(nn.Module):\n",
        "    def __init__(\n",
        "        self,\n",
        "        input_dim,\n",
        "        rnn_size=128,\n",
        "        num_layers=1,\n",
        "        bidirectional=False,\n",
        "        dropout=0.1,\n",
        "    ):\n",
        "        super(LSTMBackbone, self).__init__()\n",
        "        self.batch_first = True\n",
        "        self.bidirectional = bidirectional\n",
        "        self.feature_size = rnn_size * 2 if self.bidirectional else rnn_size\n",
        "\n",
        "        self.input_dim = input_dim\n",
        "        self.rnn_size = rnn_size\n",
        "        self.num_layers = num_layers\n",
        "        self.hidden_size = rnn_size\n",
        "        self.pack = PackSequence()\n",
        "        self.unpack = PadPackedSequence()\n",
        "        self.lstm = nn.LSTM(\n",
        "            input_size=input_dim,\n",
        "            hidden_size=rnn_size,\n",
        "            num_layers=num_layers,\n",
        "            batch_first=True,\n",
        "            bidirectional=self.bidirectional,\n",
        "            dropout=dropout,\n",
        "        )\n",
        "        self.drop = nn.Dropout(dropout)\n",
        "        self.fc = nn.Linear(self.feature_size, output_dim)\n",
        "\n",
        "    def forward(self, x, lengths):\n",
        "        \"\"\"LSTM forward\n",
        "        Args:\n",
        "            x (torch.Tensor):\n",
        "                [B, S, F] Batch size x sequence length x feature size\n",
        "                padded inputs\n",
        "            lengths (torch.tensor):\n",
        "                [B] Original lengths of each padded sequence in the batch\n",
        "        Returns:\n",
        "            torch.Tensor:\n",
        "                [B, H] Batch size x hidden size lstm last timestep outputs\n",
        "                2 x hidden_size if bidirectional\n",
        "        \"\"\"\n",
        "        packed = self.pack(x, lengths)\n",
        "        output, _ = self.lstm(packed)\n",
        "        output, lengths = self.unpack(output)\n",
        "        output = self.drop(output)\n",
        "\n",
        "        rnn_all_outputs, last_timestep = self._final_output(output, lengths)\n",
        "        # Use the last_timestep for classification / regression\n",
        "        # Alternatively rnn_all_outputs can be used with an attention mechanism\n",
        "        output = self.fc(last_timestep)\n",
        "        return output\n",
        "\n",
        "    def _merge_bi(self, forward, backward):\n",
        "        \"\"\"Merge forward and backward states\n",
        "        Args:\n",
        "            forward (torch.Tensor): [B, L, H] Forward states\n",
        "            backward (torch.Tensor): [B, L, H] Backward states\n",
        "        Returns:\n",
        "            torch.Tensor: [B, L, 2*H] Merged forward and backward states\n",
        "        \"\"\"\n",
        "        return torch.cat((forward, backward), dim=-1)\n",
        "\n",
        "    def _final_output(self, out, lengths):\n",
        "        \"\"\"Create RNN ouputs\n",
        "        Collect last hidden state for forward and backward states\n",
        "        Code adapted from https://stackoverflow.com/a/50950188\n",
        "        Args:\n",
        "            out (torch.Tensor): [B, L, num_directions * H] RNN outputs\n",
        "            lengths (torch.Tensor): [B] Original sequence lengths\n",
        "        Returns:\n",
        "            Tuple[torch.Tensor, torch.Tensor]: (\n",
        "                merged forward and backward states [B, L, H] or [B, L, 2*H],\n",
        "                merged last forward and backward state [B, H] or [B, 2*H]\n",
        "            )\n",
        "        \"\"\"\n",
        "\n",
        "        if not self.bidirectional:\n",
        "            return out, self._select_last_unpadded(out, lengths)\n",
        "\n",
        "        forward, backward = (out[..., : self.hidden_size], out[..., self.hidden_size :])\n",
        "        # Last backward corresponds to first token\n",
        "        last_backward_out = backward[:, 0, :] if self.batch_first else backward[0, ...]\n",
        "        # Last forward for real length or seq (unpadded tokens)\n",
        "        last_forward_out = self._select_last_unpadded(forward, lengths)\n",
        "        out = self._merge_bi(forward, backward)\n",
        "\n",
        "        return out, self._merge_bi(last_forward_out, last_backward_out)\n",
        "\n",
        "    def _select_last_unpadded(self, out, lengths):\n",
        "        \"\"\"Get the last timestep before padding starts\n",
        "        Args:\n",
        "            out (torch.Tensor): [B, L, H] Fprward states\n",
        "            lengths (torch.Tensor): [B] Original sequence lengths\n",
        "        Returns:\n",
        "            torch.Tensor: [B, H] Features for last sequence timestep\n",
        "        \"\"\"\n",
        "        gather_dim = 1  # Batch first\n",
        "        gather_idx = (\n",
        "            (lengths - 1)  # -1 to convert to indices\n",
        "            .unsqueeze(1)  # (B) -> (B, 1)\n",
        "            .expand((-1, self.hidden_size))  # (B, 1) -> (B, H)\n",
        "            # (B, 1, H) if batch_first else (1, B, H)\n",
        "            .unsqueeze(gather_dim)\n",
        "        )\n",
        "        # Last forward for real length or seq (unpadded tokens)\n",
        "        last_out = out.gather(gather_dim, gather_idx).squeeze(gather_dim)\n",
        "\n",
        "        return last_out"
      ],
      "metadata": {
        "execution": {
          "iopub.status.busy": "2023-12-05T09:40:55.227878Z",
          "iopub.execute_input": "2023-12-05T09:40:55.228160Z",
          "iopub.status.idle": "2023-12-05T09:40:55.249311Z",
          "shell.execute_reply.started": "2023-12-05T09:40:55.228133Z",
          "shell.execute_reply": "2023-12-05T09:40:55.248612Z"
        },
        "trusted": true,
        "id": "EdAR0j9AUQ-y"
      },
      "execution_count": null,
      "outputs": []
    },
    {
      "cell_type": "code",
      "source": [
        "import torch\n",
        "import torch.nn as nn\n",
        "\n",
        "# CNN modification for regression\n",
        "\n",
        "class CNNBackbone(nn.Module):\n",
        "\n",
        "    def __init__(self, H, W):\n",
        "\n",
        "        super(CNNBackbone, self).__init__()\n",
        "        self.a = H\n",
        "        self.b = W\n",
        "        for i in range(4):\n",
        "            self.a = ((self.a-6)//2) + 1\n",
        "            self.b = ((self.b-6)//2) + 1\n",
        "\n",
        "        super(CNNBackbone, self).__init__()\n",
        "        self.layer1 = nn.Sequential(\n",
        "            nn.Conv2d(in_channels=1, out_channels=4, kernel_size=5),\n",
        "            nn.BatchNorm2d(num_features=4),\n",
        "            nn.ReLU(),\n",
        "            nn.MaxPool2d(kernel_size=2, stride=2),\n",
        "\n",
        "        )\n",
        "        self.layer2 = nn.Sequential(\n",
        "            nn.Conv2d(in_channels=4, out_channels=16, kernel_size=5),\n",
        "            nn.BatchNorm2d(num_features=16),\n",
        "            nn.ReLU(),\n",
        "            nn.MaxPool2d(kernel_size=2, stride=2),\n",
        "\n",
        "        )\n",
        "        self.layer3 = nn.Sequential(\n",
        "            nn.Conv2d(in_channels=16, out_channels=64, kernel_size=5),\n",
        "            nn.BatchNorm2d(num_features=64),\n",
        "            nn.ReLU(),\n",
        "            nn.MaxPool2d(kernel_size=2, stride=2),\n",
        "\n",
        "        )\n",
        "        self.layer4 = nn.Sequential(\n",
        "            nn.Conv2d(in_channels=64, out_channels=256, kernel_size=5),\n",
        "            nn.BatchNorm2d(num_features=256),\n",
        "            nn.ReLU(),\n",
        "            nn.MaxPool2d(kernel_size=2, stride=2),\n",
        "\n",
        "        )\n",
        "        self.fc1 = nn.Linear(self.a*self.b*256, 1)\n",
        "        self.dropout = nn.Dropout2d(p=0.1)\n",
        "\n",
        "    #(n_samples, channels, height, width)\n",
        "    def forward(self, x, lengths):\n",
        "        x = x.unsqueeze(1)\n",
        "        output = self.layer1(x)\n",
        "        output = self.layer2(output)\n",
        "        output = self.layer3(output)\n",
        "        output = self.layer4(output)\n",
        "        output = output.view(output.size(0), -1)\n",
        "        output = self.dropout(output)\n",
        "        output = self.fc1(output)\n",
        "        return output"
      ],
      "metadata": {
        "execution": {
          "iopub.status.busy": "2023-12-05T12:00:56.030090Z",
          "iopub.execute_input": "2023-12-05T12:00:56.030374Z",
          "iopub.status.idle": "2023-12-05T12:00:56.048413Z",
          "shell.execute_reply.started": "2023-12-05T12:00:56.030347Z",
          "shell.execute_reply": "2023-12-05T12:00:56.047566Z"
        },
        "trusted": true,
        "id": "xT2xkiuFUQ-y"
      },
      "execution_count": null,
      "outputs": []
    },
    {
      "cell_type": "code",
      "source": [
        "# define score arrays\n",
        "\n",
        "score_LSTM = []\n",
        "score_CNN = []"
      ],
      "metadata": {
        "execution": {
          "iopub.status.busy": "2023-12-05T09:51:00.962900Z",
          "iopub.execute_input": "2023-12-05T09:51:00.963214Z",
          "iopub.status.idle": "2023-12-05T09:51:00.966882Z",
          "shell.execute_reply.started": "2023-12-05T09:51:00.963183Z",
          "shell.execute_reply": "2023-12-05T09:51:00.965952Z"
        },
        "trusted": true,
        "id": "pVHn1PtnUQ-y"
      },
      "execution_count": null,
      "outputs": []
    },
    {
      "cell_type": "markdown",
      "source": [
        "# Valence"
      ],
      "metadata": {
        "id": "vJJ14gFHUQ-y"
      }
    },
    {
      "cell_type": "code",
      "source": [
        "path = path = '../input/patreco3-multitask-affective-music/data/multitask_dataset/'\n",
        "\n",
        "mel_specs = MultitaskDataset(\n",
        "    path,\n",
        "    attr = 1,\n",
        "    train=True,\n",
        "    max_length=-1,\n",
        "    read_spec_fn=read_mel_spectrogram)\n",
        "\n",
        "train_loader_mel, val_loader_mel, test_loader = torch_train_val_test_split(mel_specs, 32 ,32, 32, val_size=.1, test_size=.1)\n",
        "\n",
        "# fix model hyperparameters\n",
        "lr = 1e-4\n",
        "weight_decay = 0\n",
        "epochs = 70\n",
        "early_stp = False\n",
        "input_dim = train_loader_mel.dataset.feats[0].shape\n",
        "#\n",
        "rnn_size = 128\n",
        "num_layers = 2\n",
        "bidirectional = False\n",
        "dropout = 0.1\n",
        "output_dim = 1"
      ],
      "metadata": {
        "execution": {
          "iopub.status.busy": "2023-12-05T13:26:00.725390Z",
          "iopub.execute_input": "2023-12-05T13:26:00.725698Z",
          "iopub.status.idle": "2023-12-05T13:26:03.595449Z",
          "shell.execute_reply.started": "2023-12-05T13:26:00.725665Z",
          "shell.execute_reply": "2023-12-05T13:26:03.594685Z"
        },
        "trusted": true,
        "id": "DtDLUuIRUQ-y"
      },
      "execution_count": null,
      "outputs": []
    },
    {
      "cell_type": "code",
      "source": [
        "# define model according to given code\n",
        "model_lstm_reg = LSTMBackbone(\n",
        "                input_dim[-1],\n",
        "                rnn_size,\n",
        "                num_layers,\n",
        "                bidirectional=bidirectional,\n",
        "                dropout=dropout,\n",
        "            )\n",
        "\n",
        "# Initialize AdamW\n",
        "criterion = nn.MSELoss()\n",
        "optimizer = torch.optim.AdamW(model_lstm_reg.parameters(),  lr=lr, weight_decay=weight_decay)"
      ],
      "metadata": {
        "execution": {
          "iopub.status.busy": "2023-12-05T13:26:09.245461Z",
          "iopub.execute_input": "2023-12-05T13:26:09.245777Z",
          "iopub.status.idle": "2023-12-05T13:26:09.254339Z",
          "shell.execute_reply.started": "2023-12-05T13:26:09.245743Z",
          "shell.execute_reply": "2023-12-05T13:26:09.253664Z"
        },
        "trusted": true,
        "id": "xntArxjUUQ-y"
      },
      "execution_count": null,
      "outputs": []
    },
    {
      "cell_type": "code",
      "source": [
        "#train model\n",
        "\n",
        "model_lstm_reg, t_loss, val_loss = train(model_lstm_reg,train_loader_mel, val_loader_mel, optimizer, epochs, criterion)\n",
        "#plot losses during learning\n",
        "plt.plot(t_loss, label = 'training_loss')\n",
        "plt.plot(val_loss, label = 'validation_loss')\n",
        "plt.xlabel('epoch')\n",
        "plt.ylabel('mean loss')\n",
        "plt.legend( loc='upper left')\n",
        "plt.show()"
      ],
      "metadata": {
        "execution": {
          "iopub.status.busy": "2023-12-05T13:26:12.641054Z",
          "iopub.execute_input": "2023-12-05T13:26:12.641402Z",
          "iopub.status.idle": "2023-12-05T13:31:49.488748Z",
          "shell.execute_reply.started": "2023-12-05T13:26:12.641365Z",
          "shell.execute_reply": "2023-12-05T13:31:49.487908Z"
        },
        "trusted": true,
        "id": "L_5VElsyUQ-y",
        "outputId": "c18a7d12-09a3-42a3-fac0-29ba42f1dc05"
      },
      "execution_count": null,
      "outputs": [
        {
          "name": "stderr",
          "text": "/opt/conda/lib/python3.6/site-packages/ipykernel_launcher.py:9: UserWarning: To copy construct from a tensor, it is recommended to use sourceTensor.clone().detach() or sourceTensor.clone().detach().requires_grad_(True), rather than torch.tensor(sourceTensor).\n  if __name__ == '__main__':\n/opt/conda/lib/python3.6/site-packages/torch/nn/modules/loss.py:431: UserWarning: Using a target size (torch.Size([32])) that is different to the input size (torch.Size([32, 1])). This will likely lead to incorrect results due to broadcasting. Please ensure they have the same size.\n  return F.mse_loss(input, target, reduction=self.reduction)\n/opt/conda/lib/python3.6/site-packages/torch/nn/modules/loss.py:431: UserWarning: Using a target size (torch.Size([2])) that is different to the input size (torch.Size([2, 1])). This will likely lead to incorrect results due to broadcasting. Please ensure they have the same size.\n  return F.mse_loss(input, target, reduction=self.reduction)\n/opt/conda/lib/python3.6/site-packages/ipykernel_launcher.py:41: UserWarning: To copy construct from a tensor, it is recommended to use sourceTensor.clone().detach() or sourceTensor.clone().detach().requires_grad_(True), rather than torch.tensor(sourceTensor).\n/opt/conda/lib/python3.6/site-packages/torch/nn/modules/loss.py:431: UserWarning: Using a target size (torch.Size([16])) that is different to the input size (torch.Size([16, 1])). This will likely lead to incorrect results due to broadcasting. Please ensure they have the same size.\n  return F.mse_loss(input, target, reduction=self.reduction)\n",
          "output_type": "stream"
        },
        {
          "name": "stdout",
          "text": "Epoch 0: train loss = 0.13573036201555153, valid loss = 0.08122135885059834\nEpoch 1: train loss = 0.06717843536672921, valid loss = 0.07610257714986801\nEpoch 2: train loss = 0.06532253235064704, valid loss = 0.07163525559008121\nEpoch 3: train loss = 0.06993370374728894, valid loss = 0.07354303076863289\nEpoch 4: train loss = 0.06655392577422076, valid loss = 0.071339787915349\nEpoch 5: train loss = 0.06544789350752173, valid loss = 0.07308230176568031\nEpoch 6: train loss = 0.06648159618007726, valid loss = 0.07344532385468483\nEpoch 7: train loss = 0.06632664388623731, valid loss = 0.073007982224226\nEpoch 8: train loss = 0.06482926409306197, valid loss = 0.07087559066712856\nEpoch 9: train loss = 0.06387204188725044, valid loss = 0.07210982777178288\nEpoch 10: train loss = 0.06669546715144453, valid loss = 0.07372546382248402\nEpoch 11: train loss = 0.06663290398388073, valid loss = 0.0740054864436388\nEpoch 12: train loss = 0.06499430447303016, valid loss = 0.073721157386899\nEpoch 13: train loss = 0.06533676128962944, valid loss = 0.07244754955172539\nEpoch 14: train loss = 0.0670746224450654, valid loss = 0.0741936694830656\nEpoch 15: train loss = 0.0660474815502249, valid loss = 0.07467457745224237\nEpoch 16: train loss = 0.06464272416357336, valid loss = 0.07400242611765862\nEpoch 17: train loss = 0.06823207386608782, valid loss = 0.07454515248537064\nEpoch 18: train loss = 0.06911624184456365, valid loss = 0.07620860263705254\nEpoch 19: train loss = 0.0672792518704102, valid loss = 0.07216434646397829\nEpoch 20: train loss = 0.06491575685554538, valid loss = 0.07498910184949636\nEpoch 21: train loss = 0.06638409762546935, valid loss = 0.07493234239518642\nEpoch 22: train loss = 0.0662752222912065, valid loss = 0.07458556070923805\nEpoch 23: train loss = 0.06901406817908945, valid loss = 0.07499953918159008\nEpoch 24: train loss = 0.06457677355100369, valid loss = 0.07159113511443138\nEpoch 25: train loss = 0.06512033284224313, valid loss = 0.0726938471198082\nEpoch 26: train loss = 0.0637301463987036, valid loss = 0.07064787484705448\nEpoch 27: train loss = 0.065747765503053, valid loss = 0.07303867861628532\nEpoch 28: train loss = 0.06435140948100336, valid loss = 0.07118957675993443\nEpoch 29: train loss = 0.06464659332715232, valid loss = 0.07001259736716747\nEpoch 30: train loss = 0.06696080519207592, valid loss = 0.07284360192716122\nEpoch 31: train loss = 0.06427770210751171, valid loss = 0.07291173003613949\nEpoch 32: train loss = 0.06456346334568386, valid loss = 0.07220052182674408\nEpoch 33: train loss = 0.0632383834554589, valid loss = 0.07247148267924786\nEpoch 34: train loss = 0.06892753919136935, valid loss = 0.07244046218693256\nEpoch 35: train loss = 0.0635192213451554, valid loss = 0.07294362410902977\nEpoch 36: train loss = 0.06438950095968, valid loss = 0.07385036442428827\nEpoch 37: train loss = 0.06455061970085933, valid loss = 0.07317673787474632\nEpoch 38: train loss = 0.06355585202831647, valid loss = 0.07454680651426315\nEpoch 39: train loss = 0.06376088680378322, valid loss = 0.07217391952872276\nEpoch 40: train loss = 0.06709979114861324, valid loss = 0.0744329672306776\nEpoch 41: train loss = 0.0658312226677763, valid loss = 0.07392509654164314\nEpoch 42: train loss = 0.06615364448777561, valid loss = 0.0764198349788785\nEpoch 43: train loss = 0.06587893965429273, valid loss = 0.07371556386351585\nEpoch 44: train loss = 0.06318122820511203, valid loss = 0.07276280596852303\nEpoch 45: train loss = 0.06619452312588692, valid loss = 0.07259354181587696\nEpoch 46: train loss = 0.06581872470419982, valid loss = 0.0772035550326109\nEpoch 47: train loss = 0.06540069073952477, valid loss = 0.07353901118040085\nEpoch 48: train loss = 0.0647829178849171, valid loss = 0.07472781278192997\nEpoch 49: train loss = 0.06527858972549438, valid loss = 0.07147017307579517\nEpoch 50: train loss = 0.06630580743839001, valid loss = 0.07617714628577232\nEpoch 51: train loss = 0.06344191598352687, valid loss = 0.07227319478988647\nEpoch 52: train loss = 0.06400425565140001, valid loss = 0.0733170360326767\nEpoch 53: train loss = 0.06466514797046266, valid loss = 0.07414194941520691\nEpoch 54: train loss = 0.06693523145955184, valid loss = 0.07105128280818462\nEpoch 55: train loss = 0.0635690198376261, valid loss = 0.07443810440599918\nEpoch 56: train loss = 0.07038398498091204, valid loss = 0.07192366383969784\nEpoch 57: train loss = 0.06444171816110611, valid loss = 0.07101617753505707\nEpoch 58: train loss = 0.06432337069819713, valid loss = 0.07497666217386723\nEpoch 59: train loss = 0.06687683599262402, valid loss = 0.07125135138630867\nEpoch 60: train loss = 0.06624474376440048, valid loss = 0.07258429192006588\nEpoch 61: train loss = 0.06519682692556546, valid loss = 0.07448781095445156\nEpoch 62: train loss = 0.06489779170731018, valid loss = 0.07372294925153255\nEpoch 63: train loss = 0.06598836453310375, valid loss = 0.07379547506570816\nEpoch 64: train loss = 0.0674838171950702, valid loss = 0.07422123290598392\nEpoch 65: train loss = 0.06339956964325995, valid loss = 0.07206691987812519\nEpoch 66: train loss = 0.06474117870474684, valid loss = 0.0737072303891182\nEpoch 67: train loss = 0.06538434416569512, valid loss = 0.07629137765616179\nEpoch 68: train loss = 0.06313266142688949, valid loss = 0.07251590304076672\nEpoch 69: train loss = 0.06638094808520942, valid loss = 0.07505610957741737\n",
          "output_type": "stream"
        },
        {
          "output_type": "display_data",
          "data": {
            "text/plain": "<Figure size 432x288 with 1 Axes>",
            "image/png": "[encoded data removed]"
          },
          "metadata": {
            "needs_background": "light"
          }
        }
      ]
    },
    {
      "cell_type": "code",
      "source": [
        "# Report metrics on trained model\n",
        "from sklearn.metrics import mean_absolute_error\n",
        "from sklearn.metrics import mean_squared_error\n",
        "from scipy import stats\n",
        "import matplotlib.pyplot as plt\n",
        "\n",
        "test_loss, y_pred, y_true = validation_loop(model_lstm_reg, test_loader, criterion)\n",
        "y_pred = torch.tensor(y_pred, device='cpu')\n",
        "y_true = torch.tensor(y_true, device='cpu')\n",
        "print(\"MAE: \", mean_absolute_error(y_true, y_pred))\n",
        "print(\"MSE: \", mean_squared_error(y_true, y_pred))\n",
        "y_pred = np.array(y_pred)\n",
        "y_true = np.array(y_true)\n",
        "sp = stats.spearmanr(y_true, y_pred)[0]\n",
        "score_LSTM.append(sp)\n",
        "print(\"Spearman correlation (Valence, LSTM): \", sp)\n",
        "\n",
        "# plt.style.use('seaborn-whitegrid')\n",
        "plt.plot(y_true , y_pred, 'o', color='blue');\n",
        "plt.title(\"LSTM - Valence\")\n",
        "plt.xlabel(\"y_true\")\n",
        "plt.ylabel(\"y_pred\")"
      ],
      "metadata": {
        "execution": {
          "iopub.status.busy": "2023-12-05T13:32:44.342805Z",
          "iopub.execute_input": "2023-12-05T13:32:44.343145Z",
          "iopub.status.idle": "2023-12-05T13:32:47.473975Z",
          "shell.execute_reply.started": "2023-12-05T13:32:44.343109Z",
          "shell.execute_reply": "2023-12-05T13:32:47.473376Z"
        },
        "trusted": true,
        "id": "EGgUFo5AUQ-z",
        "outputId": "ae99f4eb-626c-4e2f-8b54-2d423060752c"
      },
      "execution_count": null,
      "outputs": [
        {
          "name": "stderr",
          "text": "/opt/conda/lib/python3.6/site-packages/ipykernel_launcher.py:41: UserWarning: To copy construct from a tensor, it is recommended to use sourceTensor.clone().detach() or sourceTensor.clone().detach().requires_grad_(True), rather than torch.tensor(sourceTensor).\n/opt/conda/lib/python3.6/site-packages/torch/nn/modules/loss.py:431: UserWarning: Using a target size (torch.Size([1])) that is different to the input size (torch.Size([1, 1])). This will likely lead to incorrect results due to broadcasting. Please ensure they have the same size.\n  return F.mse_loss(input, target, reduction=self.reduction)\n",
          "output_type": "stream"
        },
        {
          "name": "stdout",
          "text": "MAE:  0.2315339\nMSE:  0.07194029\nSpearman correlation (Valence, LSTM):  -0.0422618526452527\n",
          "output_type": "stream"
        },
        {
          "name": "stderr",
          "text": "/opt/conda/lib/python3.6/site-packages/ipykernel_launcher.py:8: UserWarning: To copy construct from a tensor, it is recommended to use sourceTensor.clone().detach() or sourceTensor.clone().detach().requires_grad_(True), rather than torch.tensor(sourceTensor).\n  \n/opt/conda/lib/python3.6/site-packages/ipykernel_launcher.py:9: UserWarning: To copy construct from a tensor, it is recommended to use sourceTensor.clone().detach() or sourceTensor.clone().detach().requires_grad_(True), rather than torch.tensor(sourceTensor).\n  if __name__ == '__main__':\n",
          "output_type": "stream"
        },
        {
          "execution_count": 166,
          "output_type": "execute_result",
          "data": {
            "text/plain": "Text(0, 0.5, 'y_pred')"
          },
          "metadata": {}
        },
        {
          "output_type": "display_data",
          "data": {
            "text/plain": "<Figure size 432x288 with 1 Axes>",
            "image/png": "[encoded data removed]"
          },
          "metadata": {
            "needs_background": "light"
          }
        }
      ]
    },
    {
      "cell_type": "code",
      "source": [
        "# define model according to given code\n",
        "\n",
        "model_cnn_reg = CNNBackbone(input_dim[0], input_dim[1])\n",
        "\n",
        "# Initialize AdamW\n",
        "criterion = nn.MSELoss()\n",
        "optimizer = torch.optim.AdamW(model_cnn_reg.parameters(),  lr=lr, weight_decay=weight_decay)"
      ],
      "metadata": {
        "execution": {
          "iopub.status.busy": "2023-12-05T09:58:01.476149Z",
          "iopub.execute_input": "2023-12-05T09:58:01.476447Z",
          "iopub.status.idle": "2023-12-05T09:58:01.488368Z",
          "shell.execute_reply.started": "2023-12-05T09:58:01.476418Z",
          "shell.execute_reply": "2023-12-05T09:58:01.487701Z"
        },
        "trusted": true,
        "id": "2VX0ADVtUQ-z"
      },
      "execution_count": null,
      "outputs": []
    },
    {
      "cell_type": "code",
      "source": [
        "#train model\n",
        "\n",
        "model_cnn_reg, t_loss, val_loss = train(model_cnn_reg,train_loader_mel, val_loader_mel, optimizer, epochs, criterion)\n",
        "#plot losses during learning\n",
        "plt.plot(t_loss, label = 'training_loss')\n",
        "plt.plot(val_loss, label = 'validation_loss')\n",
        "plt.xlabel('epoch')\n",
        "plt.ylabel('mean loss')\n",
        "plt.legend( loc='upper left')\n",
        "plt.show()"
      ],
      "metadata": {
        "execution": {
          "iopub.status.busy": "2023-12-05T09:58:02.796440Z",
          "iopub.execute_input": "2023-12-05T09:58:02.796746Z",
          "iopub.status.idle": "2023-12-05T10:05:08.996981Z",
          "shell.execute_reply.started": "2023-12-05T09:58:02.796716Z",
          "shell.execute_reply": "2023-12-05T10:05:08.996204Z"
        },
        "trusted": true,
        "id": "fqg8eIVnUQ-z",
        "outputId": "dbdac609-25b5-4e48-9d51-45f4626c8731"
      },
      "execution_count": null,
      "outputs": [
        {
          "name": "stderr",
          "text": "/opt/conda/lib/python3.6/site-packages/ipykernel_launcher.py:9: UserWarning: To copy construct from a tensor, it is recommended to use sourceTensor.clone().detach() or sourceTensor.clone().detach().requires_grad_(True), rather than torch.tensor(sourceTensor).\n  if __name__ == '__main__':\n/opt/conda/lib/python3.6/site-packages/torch/nn/modules/loss.py:431: UserWarning: Using a target size (torch.Size([32])) that is different to the input size (torch.Size([32, 1])). This will likely lead to incorrect results due to broadcasting. Please ensure they have the same size.\n  return F.mse_loss(input, target, reduction=self.reduction)\n/opt/conda/lib/python3.6/site-packages/torch/nn/modules/loss.py:431: UserWarning: Using a target size (torch.Size([2])) that is different to the input size (torch.Size([2, 1])). This will likely lead to incorrect results due to broadcasting. Please ensure they have the same size.\n  return F.mse_loss(input, target, reduction=self.reduction)\n/opt/conda/lib/python3.6/site-packages/ipykernel_launcher.py:41: UserWarning: To copy construct from a tensor, it is recommended to use sourceTensor.clone().detach() or sourceTensor.clone().detach().requires_grad_(True), rather than torch.tensor(sourceTensor).\n/opt/conda/lib/python3.6/site-packages/torch/nn/modules/loss.py:431: UserWarning: Using a target size (torch.Size([16])) that is different to the input size (torch.Size([16, 1])). This will likely lead to incorrect results due to broadcasting. Please ensure they have the same size.\n  return F.mse_loss(input, target, reduction=self.reduction)\n",
          "output_type": "stream"
        },
        {
          "name": "stdout",
          "text": "Epoch 0: train loss = 4.651946077572888, valid loss = 1.033594325184822\nEpoch 1: train loss = 0.48717443593617143, valid loss = 0.28419309854507446\nEpoch 2: train loss = 0.1692559415924138, valid loss = 0.14171955548226833\nEpoch 3: train loss = 0.14851503973377161, valid loss = 0.14266564138233662\nEpoch 4: train loss = 0.17665116771541792, valid loss = 0.13143885508179665\nEpoch 5: train loss = 0.15693720738435613, valid loss = 0.12010250054299831\nEpoch 6: train loss = 0.12848028617686238, valid loss = 0.1388833336532116\nEpoch 7: train loss = 0.13198763389011908, valid loss = 0.11170726642012596\nEpoch 8: train loss = 0.11527100205421448, valid loss = 0.10307031683623791\nEpoch 9: train loss = 0.1155238614000123, valid loss = 0.1218832153826952\nEpoch 10: train loss = 0.11907188080508134, valid loss = 0.1318872682750225\nEpoch 11: train loss = 0.12142437542306966, valid loss = 0.1321987435221672\nEpoch 12: train loss = 0.14895127944905182, valid loss = 0.14971894025802612\nEpoch 13: train loss = 0.1323614683130692, valid loss = 0.20393100008368492\nEpoch 14: train loss = 0.14647309970239114, valid loss = 0.08771408163011074\nEpoch 15: train loss = 0.1271733788066897, valid loss = 0.09044710174202919\nEpoch 16: train loss = 0.1342973035985026, valid loss = 0.08816064149141312\nEpoch 17: train loss = 0.11379385803794038, valid loss = 0.13058465160429478\nEpoch 18: train loss = 0.12991439474040065, valid loss = 0.08725347183644772\nEpoch 19: train loss = 0.12051640984056325, valid loss = 0.10496708005666733\nEpoch 20: train loss = 0.11920520920177986, valid loss = 0.1383226364850998\nEpoch 21: train loss = 0.11007723199396298, valid loss = 0.09581401571631432\nEpoch 22: train loss = 0.11623003796256821, valid loss = 0.08859212324023247\nEpoch 23: train loss = 0.11712967270407183, valid loss = 0.1364183034747839\nEpoch 24: train loss = 0.1318762586291494, valid loss = 0.08392690867185593\nEpoch 25: train loss = 0.11654495602024012, valid loss = 0.07895530015230179\nEpoch 26: train loss = 0.15263016367780752, valid loss = 0.1410011723637581\nEpoch 27: train loss = 0.1481116753200005, valid loss = 0.09213695302605629\nEpoch 28: train loss = 0.131091075788798, valid loss = 0.11601971089839935\nEpoch 29: train loss = 0.11332416971182001, valid loss = 0.118999557569623\nEpoch 30: train loss = 0.11889441198958405, valid loss = 0.24176258966326714\nEpoch 31: train loss = 0.14516380763259426, valid loss = 0.07828941941261292\nEpoch 32: train loss = 0.11819555867334892, valid loss = 0.07821882702410221\nEpoch 33: train loss = 0.12563737867207364, valid loss = 0.11236822418868542\nEpoch 34: train loss = 0.11020925730980675, valid loss = 0.08137005567550659\nEpoch 35: train loss = 0.10184161776098712, valid loss = 0.10633637756109238\nEpoch 36: train loss = 0.10695838285931225, valid loss = 0.08068138547241688\nEpoch 37: train loss = 0.11445614130332551, valid loss = 0.12536253966391087\nEpoch 38: train loss = 0.13640789353641972, valid loss = 0.18196198716759682\nEpoch 39: train loss = 0.15234621614217758, valid loss = 0.2117793671786785\nEpoch 40: train loss = 0.15031191912190667, valid loss = 0.2341577596962452\nEpoch 41: train loss = 0.17144957107716594, valid loss = 0.08042985945940018\nEpoch 42: train loss = 0.111942484461028, valid loss = 0.0813237763941288\nEpoch 43: train loss = 0.11745696155161693, valid loss = 0.38211706280708313\nEpoch 44: train loss = 0.2388564684781535, valid loss = 0.33559736609458923\nEpoch 45: train loss = 0.32385712528023225, valid loss = 0.10201318562030792\nEpoch 46: train loss = 0.15946682131495968, valid loss = 0.19792364910244942\nEpoch 47: train loss = 0.17334093153476715, valid loss = 0.10278558731079102\nEpoch 48: train loss = 0.1530101353238369, valid loss = 0.20974623039364815\nEpoch 49: train loss = 0.13784138087568612, valid loss = 0.11880632862448692\nEpoch 50: train loss = 0.21747284973489828, valid loss = 0.1119560319930315\nEpoch 51: train loss = 0.11505922058532977, valid loss = 0.20598163083195686\nEpoch 52: train loss = 0.11531285132313597, valid loss = 0.09080726280808449\nEpoch 53: train loss = 0.09649321847948535, valid loss = 0.13645500876009464\nEpoch 54: train loss = 0.10581563438834815, valid loss = 0.10110889002680779\nEpoch 55: train loss = 0.09788912663172031, valid loss = 0.10092312283813953\nEpoch 56: train loss = 0.10432539597667496, valid loss = 0.10030574165284634\nEpoch 57: train loss = 0.12461420893669128, valid loss = 0.11208364553749561\nEpoch 58: train loss = 0.17425602494642653, valid loss = 0.42921945452690125\nEpoch 59: train loss = 0.1276011943560222, valid loss = 0.1448045913130045\nEpoch 60: train loss = 0.1623445525765419, valid loss = 0.20825381577014923\nEpoch 61: train loss = 0.16655834712858858, valid loss = 0.2805507257580757\nEpoch 62: train loss = 0.12229091031798, valid loss = 0.46147945523262024\nEpoch 63: train loss = 0.18544435886473493, valid loss = 0.29717254638671875\nEpoch 64: train loss = 0.16174908393415913, valid loss = 0.09438077546656132\nEpoch 65: train loss = 0.1173624088024271, valid loss = 0.13320298120379448\nEpoch 66: train loss = 0.13644253192790623, valid loss = 0.2624615505337715\nEpoch 67: train loss = 0.1328428024104957, valid loss = 0.1179304625838995\nEpoch 68: train loss = 0.11330928537866165, valid loss = 0.08089479804039001\nEpoch 69: train loss = 0.08953851846785381, valid loss = 0.1641907263547182\n",
          "output_type": "stream"
        },
        {
          "output_type": "display_data",
          "data": {
            "text/plain": "<Figure size 432x288 with 1 Axes>",
            "image/png": "[encoded data removed]"
          },
          "metadata": {
            "needs_background": "light"
          }
        }
      ]
    },
    {
      "cell_type": "code",
      "source": [
        "# Report metrics on trained model\n",
        "from sklearn.metrics import mean_absolute_error\n",
        "from sklearn.metrics import mean_squared_error\n",
        "from scipy import stats\n",
        "import matplotlib.pyplot as plt\n",
        "\n",
        "test_loss, y_pred, y_true = validation_loop(model_cnn_reg, test_loader, criterion)\n",
        "y_pred = torch.tensor(y_pred, device='cpu')\n",
        "y_true = torch.tensor(y_true, device='cpu')\n",
        "print(\"MAE: \", mean_absolute_error(y_true, y_pred))\n",
        "print(\"MSE: \", mean_squared_error(y_true, y_pred))\n",
        "y_pred = np.array(y_pred)\n",
        "y_true = np.array(y_true)\n",
        "sp = stats.spearmanr(y_true, y_pred)[0]\n",
        "score_CNN.append(sp)\n",
        "print(\"Spearman correlation (Valence, CNN): \", sp)\n",
        "\n",
        "# plt.style.use('seaborn-whitegrid')\n",
        "plt.plot(y_true , y_pred, 'o', color='blue');\n",
        "plt.title(\"CNN - Valence\")\n",
        "plt.xlabel(\"y_true\")\n",
        "plt.ylabel(\"y_pred\")"
      ],
      "metadata": {
        "execution": {
          "iopub.status.busy": "2023-12-05T10:05:45.172152Z",
          "iopub.execute_input": "2023-12-05T10:05:45.172472Z",
          "iopub.status.idle": "2023-12-05T10:05:45.580974Z",
          "shell.execute_reply.started": "2023-12-05T10:05:45.172439Z",
          "shell.execute_reply": "2023-12-05T10:05:45.580057Z"
        },
        "trusted": true,
        "id": "x5IRwypaUQ-z",
        "outputId": "24425902-d6d1-47a3-b735-cae2630f2660"
      },
      "execution_count": null,
      "outputs": [
        {
          "name": "stderr",
          "text": "/opt/conda/lib/python3.6/site-packages/ipykernel_launcher.py:41: UserWarning: To copy construct from a tensor, it is recommended to use sourceTensor.clone().detach() or sourceTensor.clone().detach().requires_grad_(True), rather than torch.tensor(sourceTensor).\n/opt/conda/lib/python3.6/site-packages/torch/nn/modules/loss.py:431: UserWarning: Using a target size (torch.Size([1])) that is different to the input size (torch.Size([1, 1])). This will likely lead to incorrect results due to broadcasting. Please ensure they have the same size.\n  return F.mse_loss(input, target, reduction=self.reduction)\n",
          "output_type": "stream"
        },
        {
          "name": "stdout",
          "text": "MAE:  0.3170012\nMSE:  0.14148627\nSpearman correlation (Valence, CNN):  0.1706124297014054\n",
          "output_type": "stream"
        },
        {
          "name": "stderr",
          "text": "/opt/conda/lib/python3.6/site-packages/ipykernel_launcher.py:8: UserWarning: To copy construct from a tensor, it is recommended to use sourceTensor.clone().detach() or sourceTensor.clone().detach().requires_grad_(True), rather than torch.tensor(sourceTensor).\n  \n/opt/conda/lib/python3.6/site-packages/ipykernel_launcher.py:9: UserWarning: To copy construct from a tensor, it is recommended to use sourceTensor.clone().detach() or sourceTensor.clone().detach().requires_grad_(True), rather than torch.tensor(sourceTensor).\n  if __name__ == '__main__':\n",
          "output_type": "stream"
        },
        {
          "execution_count": 44,
          "output_type": "execute_result",
          "data": {
            "text/plain": "Text(0, 0.5, 'y_pred')"
          },
          "metadata": {}
        },
        {
          "output_type": "display_data",
          "data": {
            "text/plain": "<Figure size 432x288 with 1 Axes>",
            "image/png": "[encoded data removed]"
          },
          "metadata": {
            "needs_background": "light"
          }
        }
      ]
    },
    {
      "cell_type": "markdown",
      "source": [
        "# Energy"
      ],
      "metadata": {
        "id": "Tuvg7fDzUQ-0"
      }
    },
    {
      "cell_type": "code",
      "source": [
        "path = path = '../input/patreco3-multitask-affective-music/data/multitask_dataset/'\n",
        "\n",
        "mel_specs = MultitaskDataset(\n",
        "    path,\n",
        "    attr = 2,\n",
        "    train=True,\n",
        "    max_length=-1,\n",
        "    read_spec_fn=read_mel_spectrogram)\n",
        "\n",
        "train_loader_mel, val_loader_mel, test_loader = torch_train_val_test_split(mel_specs, 32 ,32, 32, val_size=.1, test_size=.1)\n",
        "\n",
        "# fix model hyperparameters\n",
        "lr = 1e-4\n",
        "weight_decay = 0\n",
        "epochs = 70\n",
        "early_stp = False\n",
        "input_dim = train_loader_mel.dataset.feats[0].shape\n",
        "#\n",
        "rnn_size = 128\n",
        "num_layers = 2\n",
        "bidirectional = False\n",
        "dropout = 0.1\n",
        "output_dim = 1"
      ],
      "metadata": {
        "execution": {
          "iopub.status.busy": "2023-12-05T10:14:25.838441Z",
          "iopub.execute_input": "2023-12-05T10:14:25.838752Z",
          "iopub.status.idle": "2023-12-05T10:14:28.420760Z",
          "shell.execute_reply.started": "2023-12-05T10:14:25.838723Z",
          "shell.execute_reply": "2023-12-05T10:14:28.420112Z"
        },
        "trusted": true,
        "id": "ku2ZOco-UQ-0"
      },
      "execution_count": null,
      "outputs": []
    },
    {
      "cell_type": "code",
      "source": [
        "# define model according to given code\n",
        "model_lstm_reg = LSTMBackbone(\n",
        "                input_dim[-1],\n",
        "                rnn_size,\n",
        "                num_layers,\n",
        "                bidirectional=bidirectional,\n",
        "                dropout=dropout,\n",
        "            )\n",
        "\n",
        "# Initialize AdamW\n",
        "criterion = nn.MSELoss()\n",
        "optimizer = torch.optim.AdamW(model_lstm_reg.parameters(),  lr=lr, weight_decay=weight_decay)"
      ],
      "metadata": {
        "execution": {
          "iopub.status.busy": "2023-12-05T10:14:28.780997Z",
          "iopub.execute_input": "2023-12-05T10:14:28.781270Z",
          "iopub.status.idle": "2023-12-05T10:14:28.790975Z",
          "shell.execute_reply.started": "2023-12-05T10:14:28.781244Z",
          "shell.execute_reply": "2023-12-05T10:14:28.790368Z"
        },
        "trusted": true,
        "id": "v7p-__7JUQ-0"
      },
      "execution_count": null,
      "outputs": []
    },
    {
      "cell_type": "code",
      "source": [
        "#train model\n",
        "\n",
        "model_lstm_reg, t_loss, val_loss = train(model_lstm_reg,train_loader_mel, val_loader_mel, optimizer, epochs, criterion)\n",
        "#plot losses during learning\n",
        "plt.plot(t_loss, label = 'training_loss')\n",
        "plt.plot(val_loss, label = 'validation_loss')\n",
        "plt.xlabel('epoch')\n",
        "plt.ylabel('mean loss')\n",
        "plt.legend( loc='upper left')\n",
        "plt.show()"
      ],
      "metadata": {
        "execution": {
          "iopub.status.busy": "2023-12-05T10:14:32.165691Z",
          "iopub.execute_input": "2023-12-05T10:14:32.165991Z",
          "iopub.status.idle": "2023-12-05T10:20:10.998535Z",
          "shell.execute_reply.started": "2023-12-05T10:14:32.165963Z",
          "shell.execute_reply": "2023-12-05T10:20:10.997720Z"
        },
        "trusted": true,
        "id": "X7KYZDazUQ-0",
        "outputId": "751b4e4f-f7aa-494e-bba4-62dbfb9db776"
      },
      "execution_count": null,
      "outputs": [
        {
          "name": "stderr",
          "text": "/opt/conda/lib/python3.6/site-packages/ipykernel_launcher.py:9: UserWarning: To copy construct from a tensor, it is recommended to use sourceTensor.clone().detach() or sourceTensor.clone().detach().requires_grad_(True), rather than torch.tensor(sourceTensor).\n  if __name__ == '__main__':\n/opt/conda/lib/python3.6/site-packages/torch/nn/modules/loss.py:431: UserWarning: Using a target size (torch.Size([32])) that is different to the input size (torch.Size([32, 1])). This will likely lead to incorrect results due to broadcasting. Please ensure they have the same size.\n  return F.mse_loss(input, target, reduction=self.reduction)\n/opt/conda/lib/python3.6/site-packages/torch/nn/modules/loss.py:431: UserWarning: Using a target size (torch.Size([2])) that is different to the input size (torch.Size([2, 1])). This will likely lead to incorrect results due to broadcasting. Please ensure they have the same size.\n  return F.mse_loss(input, target, reduction=self.reduction)\n/opt/conda/lib/python3.6/site-packages/ipykernel_launcher.py:41: UserWarning: To copy construct from a tensor, it is recommended to use sourceTensor.clone().detach() or sourceTensor.clone().detach().requires_grad_(True), rather than torch.tensor(sourceTensor).\n/opt/conda/lib/python3.6/site-packages/torch/nn/modules/loss.py:431: UserWarning: Using a target size (torch.Size([16])) that is different to the input size (torch.Size([16, 1])). This will likely lead to incorrect results due to broadcasting. Please ensure they have the same size.\n  return F.mse_loss(input, target, reduction=self.reduction)\n",
          "output_type": "stream"
        },
        {
          "name": "stdout",
          "text": "Epoch 0: train loss = 0.206914016270432, valid loss = 0.07834404055029154\nEpoch 1: train loss = 0.07228037278200018, valid loss = 0.0758640905842185\nEpoch 2: train loss = 0.06683260228099494, valid loss = 0.06880849320441484\nEpoch 3: train loss = 0.06667599030609789, valid loss = 0.07407891564071178\nEpoch 4: train loss = 0.07221517621957023, valid loss = 0.073198352009058\nEpoch 5: train loss = 0.0675797479162956, valid loss = 0.07730190642178059\nEpoch 6: train loss = 0.06576328673239412, valid loss = 0.08339415956288576\nEpoch 7: train loss = 0.06879055410109718, valid loss = 0.07305544055998325\nEpoch 8: train loss = 0.06722180532484219, valid loss = 0.0714329369366169\nEpoch 9: train loss = 0.06818293625938482, valid loss = 0.07441320829093456\nEpoch 10: train loss = 0.06619649033608108, valid loss = 0.07483333628624678\nEpoch 11: train loss = 0.06771473368180209, valid loss = 0.07462579756975174\nEpoch 12: train loss = 0.06570046725843487, valid loss = 0.07500922679901123\nEpoch 13: train loss = 0.0687391877431294, valid loss = 0.07830158621072769\nEpoch 14: train loss = 0.06735998533409217, valid loss = 0.07295077294111252\nEpoch 15: train loss = 0.06764667500452749, valid loss = 0.07070064730942249\nEpoch 16: train loss = 0.07069605216383934, valid loss = 0.07604753412306309\nEpoch 17: train loss = 0.06497790575316496, valid loss = 0.07101213466376066\nEpoch 18: train loss = 0.06526574656238844, valid loss = 0.0763880480080843\nEpoch 19: train loss = 0.06688349963775997, valid loss = 0.07709933444857597\nEpoch 20: train loss = 0.06969066413825956, valid loss = 0.07508864812552929\nEpoch 21: train loss = 0.06689888084756918, valid loss = 0.07689356803894043\nEpoch 22: train loss = 0.06613387604211939, valid loss = 0.0770433321595192\nEpoch 23: train loss = 0.06657233461737633, valid loss = 0.07757336180657148\nEpoch 24: train loss = 0.06539832167969696, valid loss = 0.0717619638890028\nEpoch 25: train loss = 0.06639257330318978, valid loss = 0.0744044566527009\nEpoch 26: train loss = 0.07173513248562813, valid loss = 0.07586833648383617\nEpoch 27: train loss = 0.06711875878531358, valid loss = 0.07426992617547512\nEpoch 28: train loss = 0.06747691423214715, valid loss = 0.07322526536881924\nEpoch 29: train loss = 0.07110921177884628, valid loss = 0.0740118632093072\nEpoch 30: train loss = 0.06855541673199884, valid loss = 0.07830237038433552\nEpoch 31: train loss = 0.0672047643055176, valid loss = 0.07280266471207142\nEpoch 32: train loss = 0.06870322186371376, valid loss = 0.07205216679722071\nEpoch 33: train loss = 0.06769935285736775, valid loss = 0.06944750575348735\nEpoch 34: train loss = 0.06867598305488455, valid loss = 0.07355908118188381\nEpoch 35: train loss = 0.06686236221214821, valid loss = 0.07643412426114082\nEpoch 36: train loss = 0.07075258575636766, valid loss = 0.07735155895352364\nEpoch 37: train loss = 0.06626415265531375, valid loss = 0.07307472731918097\nEpoch 38: train loss = 0.0676132306970399, valid loss = 0.07465792447328568\nEpoch 39: train loss = 0.06641396854458184, valid loss = 0.07380334846675396\nEpoch 40: train loss = 0.06730116749631948, valid loss = 0.07477773167192936\nEpoch 41: train loss = 0.06581673090314043, valid loss = 0.07961715757846832\nEpoch 42: train loss = 0.06589062062316928, valid loss = 0.07422208040952682\nEpoch 43: train loss = 0.0661400798065909, valid loss = 0.07815431989729404\nEpoch 44: train loss = 0.06537389344182508, valid loss = 0.0718347942456603\nEpoch 45: train loss = 0.06941259613838689, valid loss = 0.06921121291816235\nEpoch 46: train loss = 0.06530754563623462, valid loss = 0.07607685215771198\nEpoch 47: train loss = 0.06689549378793815, valid loss = 0.0735676009207964\nEpoch 48: train loss = 0.06623767264958086, valid loss = 0.07342804409563541\nEpoch 49: train loss = 0.07135839426311953, valid loss = 0.07253382913768291\nEpoch 50: train loss = 0.06631565180703483, valid loss = 0.07390526309609413\nEpoch 51: train loss = 0.06707074274790698, valid loss = 0.07120101060718298\nEpoch 52: train loss = 0.06619436640677781, valid loss = 0.0751130823045969\nEpoch 53: train loss = 0.0667454335710098, valid loss = 0.07532288134098053\nEpoch 54: train loss = 0.06589934705146427, valid loss = 0.07829380687326193\nEpoch 55: train loss = 0.06684255574283929, valid loss = 0.07489474676549435\nEpoch 56: train loss = 0.06457415767463631, valid loss = 0.07670028693974018\nEpoch 57: train loss = 0.06517594307661057, valid loss = 0.08067943155765533\nEpoch 58: train loss = 0.06486158561089943, valid loss = 0.07384554482996464\nEpoch 59: train loss = 0.0658215601639501, valid loss = 0.07417166233062744\nEpoch 60: train loss = 0.06651839356997917, valid loss = 0.07236329186707735\nEpoch 61: train loss = 0.0655966426791816, valid loss = 0.07461523450911045\nEpoch 62: train loss = 0.06628532335162163, valid loss = 0.07641038298606873\nEpoch 63: train loss = 0.06605617162482492, valid loss = 0.07254527881741524\nEpoch 64: train loss = 0.06475707586726238, valid loss = 0.07045435439795256\nEpoch 65: train loss = 0.06816793477226948, valid loss = 0.07200078293681145\nEpoch 66: train loss = 0.06756507875076656, valid loss = 0.07434002496302128\nEpoch 67: train loss = 0.06550833223194912, valid loss = 0.07756323553621769\nEpoch 68: train loss = 0.06688495211560151, valid loss = 0.07188643887639046\nEpoch 69: train loss = 0.06439890776728761, valid loss = 0.07693745940923691\n",
          "output_type": "stream"
        },
        {
          "output_type": "display_data",
          "data": {
            "text/plain": "<Figure size 432x288 with 1 Axes>",
            "image/png": "[encoded data removed]"
          },
          "metadata": {
            "needs_background": "light"
          }
        }
      ]
    },
    {
      "cell_type": "code",
      "source": [
        "# Report metrics on trained model\n",
        "from sklearn.metrics import mean_absolute_error\n",
        "from sklearn.metrics import mean_squared_error\n",
        "from scipy import stats\n",
        "import matplotlib.pyplot as plt\n",
        "\n",
        "test_loss, y_pred, y_true = validation_loop(model_lstm_reg, test_loader, criterion)\n",
        "y_pred = torch.tensor(y_pred, device='cpu')\n",
        "y_true = torch.tensor(y_true, device='cpu')\n",
        "print(\"MAE: \", mean_absolute_error(y_true, y_pred))\n",
        "print(\"MSE: \", mean_squared_error(y_true, y_pred))\n",
        "y_pred = np.array(y_pred)\n",
        "y_true = np.array(y_true)\n",
        "sp = stats.spearmanr(y_true, y_pred)[0]\n",
        "score_LSTM.append(sp)\n",
        "print(\"Spearman correlation (Energy, LSTM): \", sp)\n",
        "\n",
        "# plt.style.use('seaborn-whitegrid')\n",
        "plt.plot(y_true , y_pred, 'o', color='blue');\n",
        "plt.title(\"LSTM - Energy\")\n",
        "plt.xlabel(\"y_true\")\n",
        "plt.ylabel(\"y_pred\")"
      ],
      "metadata": {
        "execution": {
          "iopub.status.busy": "2023-12-05T10:20:19.938998Z",
          "iopub.execute_input": "2023-12-05T10:20:19.939313Z",
          "iopub.status.idle": "2023-12-05T10:20:23.142005Z",
          "shell.execute_reply.started": "2023-12-05T10:20:19.939278Z",
          "shell.execute_reply": "2023-12-05T10:20:23.141320Z"
        },
        "trusted": true,
        "id": "lsl2W2EwUQ-0",
        "outputId": "294a7b6f-d192-485a-816a-132d1869f411"
      },
      "execution_count": null,
      "outputs": [
        {
          "name": "stderr",
          "text": "/opt/conda/lib/python3.6/site-packages/ipykernel_launcher.py:41: UserWarning: To copy construct from a tensor, it is recommended to use sourceTensor.clone().detach() or sourceTensor.clone().detach().requires_grad_(True), rather than torch.tensor(sourceTensor).\n/opt/conda/lib/python3.6/site-packages/torch/nn/modules/loss.py:431: UserWarning: Using a target size (torch.Size([1])) that is different to the input size (torch.Size([1, 1])). This will likely lead to incorrect results due to broadcasting. Please ensure they have the same size.\n  return F.mse_loss(input, target, reduction=self.reduction)\n",
          "output_type": "stream"
        },
        {
          "name": "stdout",
          "text": "MAE:  0.20689525\nMSE:  0.06566645\nSpearman correlation (Energy, LSTM):  0.28859238127708053\n",
          "output_type": "stream"
        },
        {
          "name": "stderr",
          "text": "/opt/conda/lib/python3.6/site-packages/ipykernel_launcher.py:8: UserWarning: To copy construct from a tensor, it is recommended to use sourceTensor.clone().detach() or sourceTensor.clone().detach().requires_grad_(True), rather than torch.tensor(sourceTensor).\n  \n/opt/conda/lib/python3.6/site-packages/ipykernel_launcher.py:9: UserWarning: To copy construct from a tensor, it is recommended to use sourceTensor.clone().detach() or sourceTensor.clone().detach().requires_grad_(True), rather than torch.tensor(sourceTensor).\n  if __name__ == '__main__':\n",
          "output_type": "stream"
        },
        {
          "execution_count": 57,
          "output_type": "execute_result",
          "data": {
            "text/plain": "Text(0, 0.5, 'y_pred')"
          },
          "metadata": {}
        },
        {
          "output_type": "display_data",
          "data": {
            "text/plain": "<Figure size 432x288 with 1 Axes>",
            "image/png": "[encoded data removed]"
          },
          "metadata": {
            "needs_background": "light"
          }
        }
      ]
    },
    {
      "cell_type": "code",
      "source": [
        "# define model according to given code\n",
        "\n",
        "model_cnn_reg = CNNBackbone(input_dim[0], input_dim[1])\n",
        "\n",
        "# Initialize AdamW\n",
        "criterion = nn.MSELoss()\n",
        "optimizer = torch.optim.AdamW(model_cnn_reg.parameters(),  lr=lr, weight_decay=weight_decay)"
      ],
      "metadata": {
        "execution": {
          "iopub.status.busy": "2023-12-05T10:20:35.824614Z",
          "iopub.execute_input": "2023-12-05T10:20:35.824931Z",
          "iopub.status.idle": "2023-12-05T10:20:35.836406Z",
          "shell.execute_reply.started": "2023-12-05T10:20:35.824892Z",
          "shell.execute_reply": "2023-12-05T10:20:35.835624Z"
        },
        "trusted": true,
        "id": "QSgvRsUeUQ-0"
      },
      "execution_count": null,
      "outputs": []
    },
    {
      "cell_type": "code",
      "source": [
        "#train model\n",
        "\n",
        "model_cnn_reg, t_loss, val_loss = train(model_cnn_reg,train_loader_mel, val_loader_mel, optimizer, epochs, criterion)\n",
        "#plot losses during learning\n",
        "plt.plot(t_loss, label = 'training_loss')\n",
        "plt.plot(val_loss, label = 'validation_loss')\n",
        "plt.xlabel('epoch')\n",
        "plt.ylabel('mean loss')\n",
        "plt.legend( loc='upper left')\n",
        "plt.show()"
      ],
      "metadata": {
        "execution": {
          "iopub.status.busy": "2023-12-05T10:20:38.806697Z",
          "iopub.execute_input": "2023-12-05T10:20:38.807016Z",
          "iopub.status.idle": "2023-12-05T10:27:44.950413Z",
          "shell.execute_reply.started": "2023-12-05T10:20:38.806986Z",
          "shell.execute_reply": "2023-12-05T10:27:44.949670Z"
        },
        "trusted": true,
        "id": "5itaT0wLUQ-0",
        "outputId": "1815d2c2-f474-46a8-da01-c8895f840ffc"
      },
      "execution_count": null,
      "outputs": [
        {
          "name": "stderr",
          "text": "/opt/conda/lib/python3.6/site-packages/ipykernel_launcher.py:9: UserWarning: To copy construct from a tensor, it is recommended to use sourceTensor.clone().detach() or sourceTensor.clone().detach().requires_grad_(True), rather than torch.tensor(sourceTensor).\n  if __name__ == '__main__':\n/opt/conda/lib/python3.6/site-packages/torch/nn/modules/loss.py:431: UserWarning: Using a target size (torch.Size([32])) that is different to the input size (torch.Size([32, 1])). This will likely lead to incorrect results due to broadcasting. Please ensure they have the same size.\n  return F.mse_loss(input, target, reduction=self.reduction)\n/opt/conda/lib/python3.6/site-packages/torch/nn/modules/loss.py:431: UserWarning: Using a target size (torch.Size([2])) that is different to the input size (torch.Size([2, 1])). This will likely lead to incorrect results due to broadcasting. Please ensure they have the same size.\n  return F.mse_loss(input, target, reduction=self.reduction)\n/opt/conda/lib/python3.6/site-packages/ipykernel_launcher.py:41: UserWarning: To copy construct from a tensor, it is recommended to use sourceTensor.clone().detach() or sourceTensor.clone().detach().requires_grad_(True), rather than torch.tensor(sourceTensor).\n/opt/conda/lib/python3.6/site-packages/torch/nn/modules/loss.py:431: UserWarning: Using a target size (torch.Size([16])) that is different to the input size (torch.Size([16, 1])). This will likely lead to incorrect results due to broadcasting. Please ensure they have the same size.\n  return F.mse_loss(input, target, reduction=self.reduction)\n",
          "output_type": "stream"
        },
        {
          "name": "stdout",
          "text": "Epoch 0: train loss = 5.089432266765628, valid loss = 1.1082800030708313\nEpoch 1: train loss = 0.557198703289032, valid loss = 0.26930660381913185\nEpoch 2: train loss = 0.19274639929163045, valid loss = 0.15437427535653114\nEpoch 3: train loss = 0.18129545861277088, valid loss = 0.15484106913208961\nEpoch 4: train loss = 0.20965261500457238, valid loss = 0.21748929470777512\nEpoch 5: train loss = 0.13946468588607064, valid loss = 0.11055847629904747\nEpoch 6: train loss = 0.12913568189431882, valid loss = 0.1037696972489357\nEpoch 7: train loss = 0.11990238957363984, valid loss = 0.1256239339709282\nEpoch 8: train loss = 0.11926136114474001, valid loss = 0.12886481545865536\nEpoch 9: train loss = 0.11463217732721362, valid loss = 0.11673955619335175\nEpoch 10: train loss = 0.11839365471025994, valid loss = 0.2851403057575226\nEpoch 11: train loss = 0.17658440614568777, valid loss = 0.11310025118291378\nEpoch 12: train loss = 0.13497994326311966, valid loss = 0.22930185496807098\nEpoch 13: train loss = 0.1565231030871128, valid loss = 0.24572407826781273\nEpoch 14: train loss = 0.13398102465374717, valid loss = 0.11401699110865593\nEpoch 15: train loss = 0.12106398595818157, valid loss = 0.10560734756290913\nEpoch 16: train loss = 0.12396213746276395, valid loss = 0.18270893767476082\nEpoch 17: train loss = 0.13205350293167706, valid loss = 0.1659034565091133\nEpoch 18: train loss = 0.12811593968292762, valid loss = 0.11966915614902973\nEpoch 19: train loss = 0.13200843950797772, valid loss = 0.1670391820371151\nEpoch 20: train loss = 0.14510405320545722, valid loss = 0.17793255671858788\nEpoch 21: train loss = 0.15046050759225055, valid loss = 0.11911051906645298\nEpoch 22: train loss = 0.12050855031301236, valid loss = 0.2501388192176819\nEpoch 23: train loss = 0.1414828786048396, valid loss = 0.18016690015792847\nEpoch 24: train loss = 0.13315471904031162, valid loss = 0.09354490600526333\nEpoch 25: train loss = 0.15361887473484565, valid loss = 0.15810084715485573\nEpoch 26: train loss = 0.1330486574563487, valid loss = 0.10779565759003162\nEpoch 27: train loss = 0.12321099972930448, valid loss = 0.11272723041474819\nEpoch 28: train loss = 0.14858505617955636, valid loss = 0.2996681481599808\nEpoch 29: train loss = 0.22695008357023372, valid loss = 0.16538334265351295\nEpoch 30: train loss = 0.15757987956548558, valid loss = 0.11611936613917351\nEpoch 31: train loss = 0.1256003595631698, valid loss = 0.09931993298232555\nEpoch 32: train loss = 0.11563513453664451, valid loss = 0.1723775528371334\nEpoch 33: train loss = 0.12671064636830626, valid loss = 0.3140454515814781\nEpoch 34: train loss = 0.19150097154337783, valid loss = 0.3922940865159035\nEpoch 35: train loss = 0.21778267544919047, valid loss = 0.2621087245643139\nEpoch 36: train loss = 0.13184357408819528, valid loss = 0.1483578234910965\nEpoch 37: train loss = 0.14553763036584033, valid loss = 0.2056361362338066\nEpoch 38: train loss = 0.15538773197552253, valid loss = 0.1799769513309002\nEpoch 39: train loss = 0.15665222447493982, valid loss = 0.1270669586956501\nEpoch 40: train loss = 0.1177287523088784, valid loss = 0.2383999153971672\nEpoch 41: train loss = 0.13107181777214183, valid loss = 0.13905122317373753\nEpoch 42: train loss = 0.11942234365590687, valid loss = 0.23297562077641487\nEpoch 43: train loss = 0.1557123018749829, valid loss = 0.12007491290569305\nEpoch 44: train loss = 0.13347814977169037, valid loss = 0.3711971417069435\nEpoch 45: train loss = 0.1852183904627274, valid loss = 0.12410708889365196\nEpoch 46: train loss = 0.12577800908736114, valid loss = 0.11105730570852757\nEpoch 47: train loss = 0.10974804812978053, valid loss = 0.11209530010819435\nEpoch 48: train loss = 0.11012968048453331, valid loss = 0.1274487003684044\nEpoch 49: train loss = 0.12115019354326971, valid loss = 0.152245931327343\nEpoch 50: train loss = 0.12969544247306627, valid loss = 0.10067362897098064\nEpoch 51: train loss = 0.13389994204044342, valid loss = 0.16126802563667297\nEpoch 52: train loss = 0.13891024656336884, valid loss = 0.2750760577619076\nEpoch 53: train loss = 0.18259118368913388, valid loss = 0.11231245845556259\nEpoch 54: train loss = 0.13529752991322813, valid loss = 0.21697257831692696\nEpoch 55: train loss = 0.2189344684111661, valid loss = 0.17828500270843506\nEpoch 56: train loss = 0.12769411632726932, valid loss = 0.2867204323410988\nEpoch 57: train loss = 0.16090505441714978, valid loss = 0.20166436955332756\nEpoch 58: train loss = 0.1496279527401102, valid loss = 0.09941446967422962\nEpoch 59: train loss = 0.12864221247105762, valid loss = 0.12695320695638657\nEpoch 60: train loss = 0.10438667558904352, valid loss = 0.10321163013577461\nEpoch 61: train loss = 0.11211727585258155, valid loss = 0.15127242729067802\nEpoch 62: train loss = 0.13941295881723537, valid loss = 0.6337413489818573\nEpoch 63: train loss = 0.2670315810447109, valid loss = 0.19321370124816895\nEpoch 64: train loss = 0.1653301458934258, valid loss = 0.10137463547289371\nEpoch 65: train loss = 0.15141338488922038, valid loss = 0.15430078469216824\nEpoch 66: train loss = 0.11889335102048414, valid loss = 0.10180997103452682\nEpoch 67: train loss = 0.10283750860855498, valid loss = 0.1428149677813053\nEpoch 68: train loss = 0.13237663923666396, valid loss = 0.5738543123006821\nEpoch 69: train loss = 0.22687532727060647, valid loss = 0.1751427724957466\n",
          "output_type": "stream"
        },
        {
          "output_type": "display_data",
          "data": {
            "text/plain": "<Figure size 432x288 with 1 Axes>",
            "image/png": "[encoded data removed]"
          },
          "metadata": {
            "needs_background": "light"
          }
        }
      ]
    },
    {
      "cell_type": "code",
      "source": [
        "# Report metrics on trained model\n",
        "from sklearn.metrics import mean_absolute_error\n",
        "from sklearn.metrics import mean_squared_error\n",
        "from scipy import stats\n",
        "import matplotlib.pyplot as plt\n",
        "\n",
        "test_loss, y_pred, y_true = validation_loop(model_cnn_reg, test_loader, criterion)\n",
        "y_pred = torch.tensor(y_pred, device='cpu')\n",
        "y_true = torch.tensor(y_true, device='cpu')\n",
        "print(\"MAE: \", mean_absolute_error(y_true, y_pred))\n",
        "print(\"MSE: \", mean_squared_error(y_true, y_pred))\n",
        "y_pred = np.array(y_pred)\n",
        "y_true = np.array(y_true)\n",
        "sp = stats.spearmanr(y_true, y_pred)[0]\n",
        "score_CNN.append(sp)\n",
        "print(\"Spearman correlation (Energy, CNN): \", sp)\n",
        "\n",
        "# plt.style.use('seaborn-whitegrid')\n",
        "plt.plot(y_true , y_pred, 'o', color='blue');\n",
        "plt.title(\"CNN - Energy\")\n",
        "plt.xlabel(\"y_true\")\n",
        "plt.ylabel(\"y_pred\")"
      ],
      "metadata": {
        "execution": {
          "iopub.status.busy": "2023-12-05T10:28:38.195953Z",
          "iopub.execute_input": "2023-12-05T10:28:38.196290Z",
          "iopub.status.idle": "2023-12-05T10:28:38.621814Z",
          "shell.execute_reply.started": "2023-12-05T10:28:38.196252Z",
          "shell.execute_reply": "2023-12-05T10:28:38.620936Z"
        },
        "trusted": true,
        "id": "Ld-QRlmBUQ-1",
        "outputId": "211b87b9-5d1b-4f30-eb19-44464de9335d"
      },
      "execution_count": null,
      "outputs": [
        {
          "name": "stderr",
          "text": "/opt/conda/lib/python3.6/site-packages/ipykernel_launcher.py:41: UserWarning: To copy construct from a tensor, it is recommended to use sourceTensor.clone().detach() or sourceTensor.clone().detach().requires_grad_(True), rather than torch.tensor(sourceTensor).\n/opt/conda/lib/python3.6/site-packages/torch/nn/modules/loss.py:431: UserWarning: Using a target size (torch.Size([1])) that is different to the input size (torch.Size([1, 1])). This will likely lead to incorrect results due to broadcasting. Please ensure they have the same size.\n  return F.mse_loss(input, target, reduction=self.reduction)\n",
          "output_type": "stream"
        },
        {
          "name": "stdout",
          "text": "MAE:  0.26992825\nMSE:  0.10265795\nSpearman correlation (Energy, CNN):  0.436781658324093\n",
          "output_type": "stream"
        },
        {
          "name": "stderr",
          "text": "/opt/conda/lib/python3.6/site-packages/ipykernel_launcher.py:8: UserWarning: To copy construct from a tensor, it is recommended to use sourceTensor.clone().detach() or sourceTensor.clone().detach().requires_grad_(True), rather than torch.tensor(sourceTensor).\n  \n/opt/conda/lib/python3.6/site-packages/ipykernel_launcher.py:9: UserWarning: To copy construct from a tensor, it is recommended to use sourceTensor.clone().detach() or sourceTensor.clone().detach().requires_grad_(True), rather than torch.tensor(sourceTensor).\n  if __name__ == '__main__':\n",
          "output_type": "stream"
        },
        {
          "execution_count": 60,
          "output_type": "execute_result",
          "data": {
            "text/plain": "Text(0, 0.5, 'y_pred')"
          },
          "metadata": {}
        },
        {
          "output_type": "display_data",
          "data": {
            "text/plain": "<Figure size 432x288 with 1 Axes>",
            "image/png": "[encoded data removed]"
          },
          "metadata": {
            "needs_background": "light"
          }
        }
      ]
    },
    {
      "cell_type": "markdown",
      "source": [
        "# Danceability"
      ],
      "metadata": {
        "id": "YUTS3UgpUQ-1"
      }
    },
    {
      "cell_type": "code",
      "source": [
        "path = path = '../input/patreco3-multitask-affective-music/data/multitask_dataset/'\n",
        "\n",
        "mel_specs = MultitaskDataset(\n",
        "    path,\n",
        "    attr = 3,\n",
        "    train=True,\n",
        "    max_length=-1,\n",
        "    read_spec_fn=read_mel_spectrogram)\n",
        "\n",
        "train_loader_mel, val_loader_mel, test_loader = torch_train_val_test_split(mel_specs, 32 ,32, 32, val_size=.05, test_size=.05)\n",
        "\n",
        "# fix model hyperparameters\n",
        "lr = 1e-4\n",
        "weight_decay = 0\n",
        "epochs = 70\n",
        "early_stp = False\n",
        "input_dim = train_loader_mel.dataset.feats[0].shape\n",
        "#\n",
        "rnn_size = 128\n",
        "num_layers = 2\n",
        "bidirectional = False\n",
        "dropout = 0.1\n",
        "output_dim = 1"
      ],
      "metadata": {
        "execution": {
          "iopub.status.busy": "2023-12-05T12:38:32.177689Z",
          "iopub.execute_input": "2023-12-05T12:38:32.177979Z",
          "iopub.status.idle": "2023-12-05T12:38:33.883887Z",
          "shell.execute_reply.started": "2023-12-05T12:38:32.177952Z",
          "shell.execute_reply": "2023-12-05T12:38:33.883105Z"
        },
        "trusted": true,
        "id": "beBWRKP4UQ-1"
      },
      "execution_count": null,
      "outputs": []
    },
    {
      "cell_type": "code",
      "source": [
        "# define model according to given code\n",
        "model_lstm_reg = LSTMBackbone(\n",
        "                input_dim[-1],\n",
        "                rnn_size,\n",
        "                num_layers,\n",
        "                bidirectional=bidirectional,\n",
        "                dropout=dropout,\n",
        "            )\n",
        "\n",
        "# Initialize AdamW\n",
        "criterion = nn.MSELoss()\n",
        "optimizer = torch.optim.AdamW(model_lstm_reg.parameters(),  lr=lr, weight_decay=weight_decay)"
      ],
      "metadata": {
        "execution": {
          "iopub.status.busy": "2023-12-05T11:07:53.645986Z",
          "iopub.execute_input": "2023-12-05T11:07:53.646286Z",
          "iopub.status.idle": "2023-12-05T11:07:53.655178Z",
          "shell.execute_reply.started": "2023-12-05T11:07:53.646247Z",
          "shell.execute_reply": "2023-12-05T11:07:53.654400Z"
        },
        "trusted": true,
        "id": "4XruOhfAUQ-1"
      },
      "execution_count": null,
      "outputs": []
    },
    {
      "cell_type": "code",
      "source": [
        "#train model\n",
        "\n",
        "model_lstm_reg, t_loss, val_loss = train(model_lstm_reg,train_loader_mel, val_loader_mel, optimizer, epochs, criterion)\n",
        "#plot losses during learning\n",
        "plt.plot(t_loss, label = 'training_loss')\n",
        "plt.plot(val_loss, label = 'validation_loss')\n",
        "plt.xlabel('epoch')\n",
        "plt.ylabel('mean loss')\n",
        "plt.legend( loc='upper left')\n",
        "plt.show()"
      ],
      "metadata": {
        "execution": {
          "iopub.status.busy": "2023-12-05T11:07:57.811998Z",
          "iopub.execute_input": "2023-12-05T11:07:57.812300Z",
          "iopub.status.idle": "2023-12-05T11:13:33.468632Z",
          "shell.execute_reply.started": "2023-12-05T11:07:57.812263Z",
          "shell.execute_reply": "2023-12-05T11:13:33.467653Z"
        },
        "trusted": true,
        "id": "lREurZ1YUQ-1",
        "outputId": "66598ef9-1e60-49cc-a548-9a7d3630fd05"
      },
      "execution_count": null,
      "outputs": [
        {
          "name": "stderr",
          "text": "/opt/conda/lib/python3.6/site-packages/ipykernel_launcher.py:9: UserWarning: To copy construct from a tensor, it is recommended to use sourceTensor.clone().detach() or sourceTensor.clone().detach().requires_grad_(True), rather than torch.tensor(sourceTensor).\n  if __name__ == '__main__':\n/opt/conda/lib/python3.6/site-packages/torch/nn/modules/loss.py:431: UserWarning: Using a target size (torch.Size([32])) that is different to the input size (torch.Size([32, 1])). This will likely lead to incorrect results due to broadcasting. Please ensure they have the same size.\n  return F.mse_loss(input, target, reduction=self.reduction)\n/opt/conda/lib/python3.6/site-packages/torch/nn/modules/loss.py:431: UserWarning: Using a target size (torch.Size([2])) that is different to the input size (torch.Size([2, 1])). This will likely lead to incorrect results due to broadcasting. Please ensure they have the same size.\n  return F.mse_loss(input, target, reduction=self.reduction)\n/opt/conda/lib/python3.6/site-packages/ipykernel_launcher.py:41: UserWarning: To copy construct from a tensor, it is recommended to use sourceTensor.clone().detach() or sourceTensor.clone().detach().requires_grad_(True), rather than torch.tensor(sourceTensor).\n/opt/conda/lib/python3.6/site-packages/torch/nn/modules/loss.py:431: UserWarning: Using a target size (torch.Size([16])) that is different to the input size (torch.Size([16, 1])). This will likely lead to incorrect results due to broadcasting. Please ensure they have the same size.\n  return F.mse_loss(input, target, reduction=self.reduction)\n",
          "output_type": "stream"
        },
        {
          "name": "stdout",
          "text": "Epoch 0: train loss = 0.06785600439741693, valid loss = 0.030319122597575188\nEpoch 1: train loss = 0.03373539788198882, valid loss = 0.027332895901054144\nEpoch 2: train loss = 0.03359427457225734, valid loss = 0.027171025052666664\nEpoch 3: train loss = 0.032769173319483626, valid loss = 0.0266333376057446\nEpoch 4: train loss = 0.03467962319224045, valid loss = 0.026469743810594082\nEpoch 5: train loss = 0.03277919362780863, valid loss = 0.030029898043721914\nEpoch 6: train loss = 0.03615731739535414, valid loss = 0.024653164902701974\nEpoch 7: train loss = 0.03342243579441104, valid loss = 0.0257476307451725\nEpoch 8: train loss = 0.03347016742517208, valid loss = 0.027226940728724003\nEpoch 9: train loss = 0.03384468010787306, valid loss = 0.025096321012824774\nEpoch 10: train loss = 0.032385006979517315, valid loss = 0.02952519664540887\nEpoch 11: train loss = 0.03317628331996243, valid loss = 0.027765108738094568\nEpoch 12: train loss = 0.03364975165961118, valid loss = 0.02617515716701746\nEpoch 13: train loss = 0.03267365971837064, valid loss = 0.027684230357408524\nEpoch 14: train loss = 0.03224990879795674, valid loss = 0.02765320986509323\nEpoch 15: train loss = 0.033114256658430756, valid loss = 0.029306777752935886\nEpoch 16: train loss = 0.03349241890527051, valid loss = 0.02652821084484458\nEpoch 17: train loss = 0.032680671340946495, valid loss = 0.02685257839038968\nEpoch 18: train loss = 0.03350817116683927, valid loss = 0.027402132749557495\nEpoch 19: train loss = 0.03442731538209422, valid loss = 0.027059017680585384\nEpoch 20: train loss = 0.03505121717422173, valid loss = 0.027252306696027517\nEpoch 21: train loss = 0.03511031941863997, valid loss = 0.026171712670475245\nEpoch 22: train loss = 0.036228622855811285, valid loss = 0.025335047859698534\nEpoch 23: train loss = 0.03415527759954847, valid loss = 0.028354935348033905\nEpoch 24: train loss = 0.03312588714320084, valid loss = 0.02683817408978939\nEpoch 25: train loss = 0.03210259288356736, valid loss = 0.028232195414602757\nEpoch 26: train loss = 0.03276845331078973, valid loss = 0.02804735256358981\nEpoch 27: train loss = 0.03387093132939832, valid loss = 0.03082310687750578\nEpoch 28: train loss = 0.03301124340565554, valid loss = 0.026363439857959747\nEpoch 29: train loss = 0.03374276676311575, valid loss = 0.02693741535767913\nEpoch 30: train loss = 0.03268351887577567, valid loss = 0.026870034635066986\nEpoch 31: train loss = 0.03227403178682615, valid loss = 0.02931211981922388\nEpoch 32: train loss = 0.032560104889602495, valid loss = 0.02781063597649336\nEpoch 33: train loss = 0.03439331170299958, valid loss = 0.03159919427707791\nEpoch 34: train loss = 0.03342211586904937, valid loss = 0.027789240702986717\nEpoch 35: train loss = 0.03392595444516889, valid loss = 0.027010550955310464\nEpoch 36: train loss = 0.036017282512681235, valid loss = 0.02504649618640542\nEpoch 37: train loss = 0.033908606282082095, valid loss = 0.025890555698424578\nEpoch 38: train loss = 0.032144782872035586, valid loss = 0.027952436357736588\nEpoch 39: train loss = 0.032549880493175365, valid loss = 0.025973705109208822\nEpoch 40: train loss = 0.03277166624521387, valid loss = 0.02950440812855959\nEpoch 41: train loss = 0.0327029367266544, valid loss = 0.027758514042943716\nEpoch 42: train loss = 0.032833489557278564, valid loss = 0.027844117488712072\nEpoch 43: train loss = 0.03450049845309093, valid loss = 0.028058697003871202\nEpoch 44: train loss = 0.03345923241356324, valid loss = 0.027455816511064768\nEpoch 45: train loss = 0.03294706309278463, valid loss = 0.025653120130300522\nEpoch 46: train loss = 0.03231425541613636, valid loss = 0.02499460242688656\nEpoch 47: train loss = 0.03346951755470243, valid loss = 0.02920348010957241\nEpoch 48: train loss = 0.03206713902282304, valid loss = 0.02709823753684759\nEpoch 49: train loss = 0.034020335831005, valid loss = 0.027001796290278435\nEpoch 50: train loss = 0.03212235948263571, valid loss = 0.027227892074733973\nEpoch 51: train loss = 0.03224980985296184, valid loss = 0.02762911794707179\nEpoch 52: train loss = 0.03298935596028279, valid loss = 0.02804848039522767\nEpoch 53: train loss = 0.03414911494172852, valid loss = 0.027516393922269344\nEpoch 54: train loss = 0.03192906598721085, valid loss = 0.026051857974380255\nEpoch 55: train loss = 0.033020629194276084, valid loss = 0.02766585350036621\nEpoch 56: train loss = 0.03306248777642332, valid loss = 0.029635310173034668\nEpoch 57: train loss = 0.03239881780383916, valid loss = 0.027847617864608765\nEpoch 58: train loss = 0.032724179327487946, valid loss = 0.026323287282139063\nEpoch 59: train loss = 0.03434147544462105, valid loss = 0.02764091920107603\nEpoch 60: train loss = 0.0345724122919913, valid loss = 0.027841878589242697\nEpoch 61: train loss = 0.032333259695562826, valid loss = 0.02996854344382882\nEpoch 62: train loss = 0.03215330986884134, valid loss = 0.025577479507774115\nEpoch 63: train loss = 0.03417883813381195, valid loss = 0.026938929921016097\nEpoch 64: train loss = 0.03197293150527724, valid loss = 0.027237264439463615\nEpoch 65: train loss = 0.0318912162750574, valid loss = 0.027485978323966265\nEpoch 66: train loss = 0.03266302945798841, valid loss = 0.027645787224173546\nEpoch 67: train loss = 0.03230835657952161, valid loss = 0.027568306773900986\nEpoch 68: train loss = 0.03182631777599454, valid loss = 0.029016817919909954\nEpoch 69: train loss = 0.03171488216371629, valid loss = 0.028642024379223585\n",
          "output_type": "stream"
        },
        {
          "output_type": "display_data",
          "data": {
            "text/plain": "<Figure size 432x288 with 1 Axes>",
            "image/png": "[encoded data removed]"
          },
          "metadata": {
            "needs_background": "light"
          }
        }
      ]
    },
    {
      "cell_type": "code",
      "source": [
        "# Report metrics on trained model\n",
        "from sklearn.metrics import mean_absolute_error\n",
        "from sklearn.metrics import mean_squared_error\n",
        "from scipy import stats\n",
        "import matplotlib.pyplot as plt\n",
        "\n",
        "test_loss, y_pred, y_true = validation_loop(model_lstm_reg, test_loader, criterion)\n",
        "y_pred = torch.tensor(y_pred, device='cpu')\n",
        "y_true = torch.tensor(y_true, device='cpu')\n",
        "print(\"MAE: \", mean_absolute_error(y_true, y_pred))\n",
        "print(\"MSE: \", mean_squared_error(y_true, y_pred))\n",
        "y_pred = np.array(y_pred)\n",
        "y_true = np.array(y_true)\n",
        "sp = stats.spearmanr(y_true, y_pred)[0]\n",
        "score_LSTM.append(sp)\n",
        "print(\"Spearman correlation (Danceability, LSTM): \", sp)\n",
        "\n",
        "# plt.style.use('seaborn-whitegrid')\n",
        "plt.plot(y_true , y_pred, 'o', color='blue');\n",
        "plt.title(\"LSTM - Danceability\")\n",
        "plt.xlabel(\"y_true\")\n",
        "plt.ylabel(\"y_pred\")"
      ],
      "metadata": {
        "execution": {
          "iopub.status.busy": "2023-12-05T11:14:43.476446Z",
          "iopub.execute_input": "2023-12-05T11:14:43.476807Z",
          "iopub.status.idle": "2023-12-05T11:14:46.637329Z",
          "shell.execute_reply.started": "2023-12-05T11:14:43.476768Z",
          "shell.execute_reply": "2023-12-05T11:14:46.636438Z"
        },
        "trusted": true,
        "id": "KBzP7W1_UQ-1",
        "outputId": "9c66ede9-9f82-45ef-b8c2-84bf97453fd2"
      },
      "execution_count": null,
      "outputs": [
        {
          "name": "stderr",
          "text": "/opt/conda/lib/python3.6/site-packages/ipykernel_launcher.py:41: UserWarning: To copy construct from a tensor, it is recommended to use sourceTensor.clone().detach() or sourceTensor.clone().detach().requires_grad_(True), rather than torch.tensor(sourceTensor).\n/opt/conda/lib/python3.6/site-packages/torch/nn/modules/loss.py:431: UserWarning: Using a target size (torch.Size([1])) that is different to the input size (torch.Size([1, 1])). This will likely lead to incorrect results due to broadcasting. Please ensure they have the same size.\n  return F.mse_loss(input, target, reduction=self.reduction)\n",
          "output_type": "stream"
        },
        {
          "name": "stdout",
          "text": "MAE:  0.12522058\nMSE:  0.023779018\nSpearman correlation (Danceability, LSTM):  0.3022985144002603\n",
          "output_type": "stream"
        },
        {
          "name": "stderr",
          "text": "/opt/conda/lib/python3.6/site-packages/ipykernel_launcher.py:8: UserWarning: To copy construct from a tensor, it is recommended to use sourceTensor.clone().detach() or sourceTensor.clone().detach().requires_grad_(True), rather than torch.tensor(sourceTensor).\n  \n/opt/conda/lib/python3.6/site-packages/ipykernel_launcher.py:9: UserWarning: To copy construct from a tensor, it is recommended to use sourceTensor.clone().detach() or sourceTensor.clone().detach().requires_grad_(True), rather than torch.tensor(sourceTensor).\n  if __name__ == '__main__':\n",
          "output_type": "stream"
        },
        {
          "execution_count": 91,
          "output_type": "execute_result",
          "data": {
            "text/plain": "Text(0, 0.5, 'y_pred')"
          },
          "metadata": {}
        },
        {
          "output_type": "display_data",
          "data": {
            "text/plain": "<Figure size 432x288 with 1 Axes>",
            "image/png": "[encoded data removed]"
          },
          "metadata": {
            "needs_background": "light"
          }
        }
      ]
    },
    {
      "cell_type": "code",
      "source": [
        "# define model according to given code\n",
        "model_cnn_reg = CNNBackbone(input_dim[0], input_dim[1])\n",
        "\n",
        "# Initialize AdamW\n",
        "criterion = nn.MSELoss()\n",
        "optimizer = torch.optim.AdamW(model_cnn_reg.parameters(),  lr=lr, weight_decay=weight_decay)"
      ],
      "metadata": {
        "execution": {
          "iopub.status.busy": "2023-12-05T13:08:24.127314Z",
          "iopub.execute_input": "2023-12-05T13:08:24.127622Z",
          "iopub.status.idle": "2023-12-05T13:08:24.140016Z",
          "shell.execute_reply.started": "2023-12-05T13:08:24.127581Z",
          "shell.execute_reply": "2023-12-05T13:08:24.139277Z"
        },
        "trusted": true,
        "id": "__Z710PzUQ-1"
      },
      "execution_count": null,
      "outputs": []
    },
    {
      "cell_type": "code",
      "source": [
        "#train model\n",
        "\n",
        "model_cnn_reg, t_loss, val_loss = train(model_cnn_reg,train_loader_mel, val_loader_mel, optimizer, epochs, criterion)\n",
        "#plot losses during learning\n",
        "plt.plot(t_loss, label = 'training_loss')\n",
        "plt.plot(val_loss, label = 'validation_loss')\n",
        "plt.xlabel('epoch')\n",
        "plt.ylabel('mean loss')\n",
        "plt.legend( loc='upper left')\n",
        "plt.show()"
      ],
      "metadata": {
        "execution": {
          "iopub.status.busy": "2023-12-05T13:08:25.437488Z",
          "iopub.execute_input": "2023-12-05T13:08:25.437805Z",
          "iopub.status.idle": "2023-12-05T13:16:16.446920Z",
          "shell.execute_reply.started": "2023-12-05T13:08:25.437772Z",
          "shell.execute_reply": "2023-12-05T13:16:16.446104Z"
        },
        "trusted": true,
        "id": "H40tJw-yUQ-2",
        "outputId": "b1f4820a-f3fb-44a3-95d0-0372f4c6fcd0"
      },
      "execution_count": null,
      "outputs": [
        {
          "name": "stderr",
          "text": "/opt/conda/lib/python3.6/site-packages/ipykernel_launcher.py:9: UserWarning: To copy construct from a tensor, it is recommended to use sourceTensor.clone().detach() or sourceTensor.clone().detach().requires_grad_(True), rather than torch.tensor(sourceTensor).\n  if __name__ == '__main__':\n/opt/conda/lib/python3.6/site-packages/torch/nn/modules/loss.py:431: UserWarning: Using a target size (torch.Size([32])) that is different to the input size (torch.Size([32, 1])). This will likely lead to incorrect results due to broadcasting. Please ensure they have the same size.\n  return F.mse_loss(input, target, reduction=self.reduction)\n/opt/conda/lib/python3.6/site-packages/torch/nn/modules/loss.py:431: UserWarning: Using a target size (torch.Size([18])) that is different to the input size (torch.Size([18, 1])). This will likely lead to incorrect results due to broadcasting. Please ensure they have the same size.\n  return F.mse_loss(input, target, reduction=self.reduction)\n/opt/conda/lib/python3.6/site-packages/ipykernel_launcher.py:41: UserWarning: To copy construct from a tensor, it is recommended to use sourceTensor.clone().detach() or sourceTensor.clone().detach().requires_grad_(True), rather than torch.tensor(sourceTensor).\n/opt/conda/lib/python3.6/site-packages/torch/nn/modules/loss.py:431: UserWarning: Using a target size (torch.Size([24])) that is different to the input size (torch.Size([24, 1])). This will likely lead to incorrect results due to broadcasting. Please ensure they have the same size.\n  return F.mse_loss(input, target, reduction=self.reduction)\n",
          "output_type": "stream"
        },
        {
          "name": "stdout",
          "text": "Epoch 0: train loss = 5.4481591591611505, valid loss = 0.08493534848093987\nEpoch 1: train loss = 0.4116361786145717, valid loss = 0.1652722880244255\nEpoch 2: train loss = 0.14346603932790458, valid loss = 0.08171393722295761\nEpoch 3: train loss = 0.12231601239182055, valid loss = 0.10232638940215111\nEpoch 4: train loss = 0.10526288242544979, valid loss = 0.0769004113972187\nEpoch 5: train loss = 0.09081039670854807, valid loss = 0.07325186394155025\nEpoch 6: train loss = 0.089765380253084, valid loss = 0.06863314285874367\nEpoch 7: train loss = 0.08397290227003396, valid loss = 0.10807308927178383\nEpoch 8: train loss = 0.08987483195960522, valid loss = 0.0814879797399044\nEpoch 9: train loss = 0.08212755317799747, valid loss = 0.07058793678879738\nEpoch 10: train loss = 0.08147137518972158, valid loss = 0.059945257380604744\nEpoch 11: train loss = 0.08477395051158965, valid loss = 0.05792226083576679\nEpoch 12: train loss = 0.0827075622510165, valid loss = 0.10596533492207527\nEpoch 13: train loss = 0.07358876406215131, valid loss = 0.05919407866895199\nEpoch 14: train loss = 0.07321367342956364, valid loss = 0.04786844737827778\nEpoch 15: train loss = 0.07198748632799834, valid loss = 0.05219186469912529\nEpoch 16: train loss = 0.10096474771853536, valid loss = 0.056061239913105965\nEpoch 17: train loss = 0.09038677287753671, valid loss = 0.04624902456998825\nEpoch 18: train loss = 0.07181729981675744, valid loss = 0.05383116565644741\nEpoch 19: train loss = 0.08739365416113287, valid loss = 0.04538998752832413\nEpoch 20: train loss = 0.07462732470594347, valid loss = 0.05539451539516449\nEpoch 21: train loss = 0.07313133322168142, valid loss = 0.0532100684940815\nEpoch 22: train loss = 0.07664861006196588, valid loss = 0.052351679652929306\nEpoch 23: train loss = 0.07099365326575935, valid loss = 0.08445429056882858\nEpoch 24: train loss = 0.07400211493950337, valid loss = 0.048555245622992516\nEpoch 25: train loss = 0.07128417084459215, valid loss = 0.057396210730075836\nEpoch 26: train loss = 0.07379864575341344, valid loss = 0.03887131251394749\nEpoch 27: train loss = 0.0694164817687124, valid loss = 0.0493540670722723\nEpoch 28: train loss = 0.09050146501976997, valid loss = 0.038582583889365196\nEpoch 29: train loss = 0.08572378975804895, valid loss = 0.04538710042834282\nEpoch 30: train loss = 0.08673357986845076, valid loss = 0.04342895932495594\nEpoch 31: train loss = 0.07031735661439598, valid loss = 0.05064721778035164\nEpoch 32: train loss = 0.07176254061050713, valid loss = 0.06590324081480503\nEpoch 33: train loss = 0.10418475314509124, valid loss = 0.05349111557006836\nEpoch 34: train loss = 0.0841540009714663, valid loss = 0.041076863184571266\nEpoch 35: train loss = 0.06463693280238658, valid loss = 0.04967780411243439\nEpoch 36: train loss = 0.0680698249489069, valid loss = 0.04498612508177757\nEpoch 37: train loss = 0.07381467893719673, valid loss = 0.055658455938100815\nEpoch 38: train loss = 0.08105969207827002, valid loss = 0.057146843522787094\nEpoch 39: train loss = 0.08464552368968725, valid loss = 0.04278636537492275\nEpoch 40: train loss = 0.0734729947289452, valid loss = 0.05614190362393856\nEpoch 41: train loss = 0.07005264260806143, valid loss = 0.0451706126332283\nEpoch 42: train loss = 0.06603012245614082, valid loss = 0.04669307544827461\nEpoch 43: train loss = 0.067702810280025, valid loss = 0.05672919750213623\nEpoch 44: train loss = 0.06456462608184665, valid loss = 0.04758699797093868\nEpoch 45: train loss = 0.06527788646053523, valid loss = 0.05315865017473698\nEpoch 46: train loss = 0.06838507670909166, valid loss = 0.07779209315776825\nEpoch 47: train loss = 0.08729601791128516, valid loss = 0.060109132900834084\nEpoch 48: train loss = 0.07944183587096632, valid loss = 0.07751158252358437\nEpoch 49: train loss = 0.0841860274085775, valid loss = 0.03485704492777586\nEpoch 50: train loss = 0.07501735119149089, valid loss = 0.038758859038352966\nEpoch 51: train loss = 0.07945173268672079, valid loss = 0.03458390198647976\nEpoch 52: train loss = 0.08472169784363359, valid loss = 0.04229259677231312\nEpoch 53: train loss = 0.08224401890765876, valid loss = 0.03612911514937878\nEpoch 54: train loss = 0.07992828183341771, valid loss = 0.045919470489025116\nEpoch 55: train loss = 0.0626251888461411, valid loss = 0.03620603308081627\nEpoch 56: train loss = 0.06332221592310816, valid loss = 0.044524649158120155\nEpoch 57: train loss = 0.07362802268471569, valid loss = 0.04061041213572025\nEpoch 58: train loss = 0.06541149655822664, valid loss = 0.035285042598843575\nEpoch 59: train loss = 0.0661420407705009, valid loss = 0.04425559751689434\nEpoch 60: train loss = 0.06999340932816267, valid loss = 0.03326705563813448\nEpoch 61: train loss = 0.08115452481433749, valid loss = 0.035135249607264996\nEpoch 62: train loss = 0.08113049040548503, valid loss = 0.07581830769777298\nEpoch 63: train loss = 0.06374551285989583, valid loss = 0.06725289300084114\nEpoch 64: train loss = 0.06665087398141623, valid loss = 0.04696989618241787\nEpoch 65: train loss = 0.06916427158284932, valid loss = 0.03379380516707897\nEpoch 66: train loss = 0.069085648865439, valid loss = 0.05403905734419823\nEpoch 67: train loss = 0.06589858455117792, valid loss = 0.04492891952395439\nEpoch 68: train loss = 0.06370795599650592, valid loss = 0.051059093326330185\nEpoch 69: train loss = 0.06629764952231199, valid loss = 0.07160879112780094\n",
          "output_type": "stream"
        },
        {
          "output_type": "display_data",
          "data": {
            "text/plain": "<Figure size 432x288 with 1 Axes>",
            "image/png": "[encoded data removed]"
          },
          "metadata": {
            "needs_background": "light"
          }
        }
      ]
    },
    {
      "cell_type": "code",
      "source": [
        "# Report metrics on trained model\n",
        "from sklearn.metrics import mean_absolute_error\n",
        "from sklearn.metrics import mean_squared_error\n",
        "from scipy import stats\n",
        "import matplotlib.pyplot as plt\n",
        "\n",
        "test_loss, y_pred, y_true = validation_loop(model_cnn_reg, test_loader, criterion)\n",
        "y_pred = torch.tensor(y_pred, device='cpu')\n",
        "y_true = torch.tensor(y_true, device='cpu')\n",
        "print(\"MAE: \", mean_absolute_error(y_true, y_pred))\n",
        "print(\"MSE: \", mean_squared_error(y_true, y_pred))\n",
        "y_pred = np.array(y_pred)\n",
        "y_true = np.array(y_true)\n",
        "sp = stats.spearmanr(y_true, y_pred)[0]\n",
        "score_CNN.append(sp)\n",
        "print(\"Spearman correlation (Danceability, CNN): \", sp)\n",
        "\n",
        "# plt.style.use('seaborn-whitegrid')\n",
        "plt.plot(y_true , y_pred, 'o', color='blue');\n",
        "plt.title(\"CNN - Danceability\")\n",
        "plt.xlabel(\"y_true\")\n",
        "plt.ylabel(\"y_pred\")"
      ],
      "metadata": {
        "execution": {
          "iopub.status.busy": "2023-12-05T13:23:03.356060Z",
          "iopub.execute_input": "2023-12-05T13:23:03.356373Z",
          "iopub.status.idle": "2023-12-05T13:23:03.649057Z",
          "shell.execute_reply.started": "2023-12-05T13:23:03.356344Z",
          "shell.execute_reply": "2023-12-05T13:23:03.648278Z"
        },
        "trusted": true,
        "id": "DwuARLDeUQ-2",
        "outputId": "1922dcec-67b6-49ac-a71e-07dddf626461"
      },
      "execution_count": null,
      "outputs": [
        {
          "name": "stdout",
          "text": "MAE:  0.21744569\nMSE:  0.07037796\nSpearman correlation (Danceability, CNN):  0.12273356476644907\n",
          "output_type": "stream"
        },
        {
          "name": "stderr",
          "text": "/opt/conda/lib/python3.6/site-packages/ipykernel_launcher.py:41: UserWarning: To copy construct from a tensor, it is recommended to use sourceTensor.clone().detach() or sourceTensor.clone().detach().requires_grad_(True), rather than torch.tensor(sourceTensor).\n/opt/conda/lib/python3.6/site-packages/torch/nn/modules/loss.py:431: UserWarning: Using a target size (torch.Size([1])) that is different to the input size (torch.Size([1, 1])). This will likely lead to incorrect results due to broadcasting. Please ensure they have the same size.\n  return F.mse_loss(input, target, reduction=self.reduction)\n/opt/conda/lib/python3.6/site-packages/ipykernel_launcher.py:8: UserWarning: To copy construct from a tensor, it is recommended to use sourceTensor.clone().detach() or sourceTensor.clone().detach().requires_grad_(True), rather than torch.tensor(sourceTensor).\n  \n/opt/conda/lib/python3.6/site-packages/ipykernel_launcher.py:9: UserWarning: To copy construct from a tensor, it is recommended to use sourceTensor.clone().detach() or sourceTensor.clone().detach().requires_grad_(True), rather than torch.tensor(sourceTensor).\n  if __name__ == '__main__':\n",
          "output_type": "stream"
        },
        {
          "execution_count": 156,
          "output_type": "execute_result",
          "data": {
            "text/plain": "Text(0, 0.5, 'y_pred')"
          },
          "metadata": {}
        },
        {
          "output_type": "display_data",
          "data": {
            "text/plain": "<Figure size 432x288 with 1 Axes>",
            "image/png": "[encoded data removed]"
          },
          "metadata": {
            "needs_background": "light"
          }
        }
      ]
    },
    {
      "cell_type": "code",
      "source": [
        "# mean scores\n",
        "print(\"Mean score for LSTM: \", np.mean(score_LSTM))\n",
        "print(\"Mean score for CNN: \", np.mean(score_CNN_1))"
      ],
      "metadata": {
        "execution": {
          "iopub.status.busy": "2023-12-05T13:25:34.119207Z",
          "iopub.execute_input": "2023-12-05T13:25:34.119490Z",
          "iopub.status.idle": "2023-12-05T13:25:34.124656Z",
          "shell.execute_reply.started": "2023-12-05T13:25:34.119463Z",
          "shell.execute_reply": "2023-12-05T13:25:34.123851Z"
        },
        "trusted": true,
        "id": "CUsxPFNMUQ-2",
        "outputId": "74e2180f-fef8-4c52-922e-729e95e40f88"
      },
      "execution_count": null,
      "outputs": [
        {
          "name": "stdout",
          "text": "Mean score for LSTM:  0.2535693294637507\nMean score for CNN:  0.29391390462079753\n",
          "output_type": "stream"
        }
      ]
    },
    {
      "cell_type": "markdown",
      "source": [
        "# STEP 9"
      ],
      "metadata": {
        "id": "Qkt5URwAUQ-2"
      }
    },
    {
      "cell_type": "code",
      "source": [
        "import sys\n",
        "sys.path.insert(1, '/kaggle/input/lstm-b')\n",
        "#from lstm import LSTMBackbone\n",
        "from sklearn.metrics import accuracy_score, confusion_matrix\n",
        "#from modules import Classifier, MultitaskRegressor, Regressor\n",
        "\n",
        "\n",
        "class EarlyStopping(object):\n",
        "    def __init__(self, patience, mode=\"min\", base=np.Inf):\n",
        "        self.best = base\n",
        "        self.patience = patience\n",
        "        self.patience_left = patience\n",
        "        self.mode = mode\n",
        "\n",
        "    def stop(self, model, value: float) -> bool:\n",
        "        # TODO: YOUR CODE HERE\n",
        "        # Decrease patience if the metric hs not improved\n",
        "        # Stop when patience reaches zero\n",
        "        if not self.has_improved(value):\n",
        "            self.patience_left-=1\n",
        "        else:\n",
        "            #keep the best value of the metric so far\n",
        "            self.best = value\n",
        "            #save the model with the best metric so far\n",
        "            self.checkpoint(model)\n",
        "        #if there is no patience left stop training process\n",
        "        return self.patience_left == 0\n",
        "    #A function to save best models parameters during training\n",
        "    def checkpoint(self, model):\n",
        "        torch.save(model.state_dict(), 'best_model.pth')\n",
        "\n",
        "    #A function to load parameters of the best model during training\n",
        "    def resume(self, model):\n",
        "        model.load_state_dict(torch.load('best_model.pth'))\n",
        "\n",
        "    def has_improved(self, value: float) -> bool:\n",
        "        # TODO: YOUR CODE HERE\n",
        "        # Check if the metric has improved\n",
        "        return value < self.best\n",
        "\n",
        "\n",
        "def training_loop(model, train_dataloader, optimizer, criterion, device=\"cuda\"):\n",
        "    model.train()\n",
        "    running_loss = 0.0\n",
        "    num_batches = 0\n",
        "    for batch in train_dataloader:\n",
        "        features, labels, lengths = batch\n",
        "        features = features.to(device)\n",
        "        labels = labels.to(device)\n",
        "        labels = torch.tensor(labels, dtype=torch.long, device=device)\n",
        "        lengths = lengths.to(device)\n",
        "        # zero grads in the optimizer\n",
        "        optimizer.zero_grad()\n",
        "        # run forward pass\n",
        "        outputs = model.forward(features.float(), lengths)\n",
        "        # calculate loss\n",
        "        loss = criterion(outputs, labels)\n",
        "        # Run backward pass\n",
        "        loss.backward()\n",
        "        # Update the parameteres\n",
        "        optimizer.step()\n",
        "        running_loss += loss.item()\n",
        "        num_batches += 1\n",
        "    train_loss = running_loss / num_batches\n",
        "\n",
        "    return train_loss  # Return train_loss and anything else you need\n",
        "\n",
        "\n",
        "def validation_loop(model, val_dataloader, criterion, device=\"cuda\"):\n",
        "    model.eval()\n",
        "    running_loss = 0.0\n",
        "    num_batches = 0\n",
        "    #y_pred = torch.empty(0, dtype=torch.int64)\n",
        "    #y_true = torch.empty(0, dtype=torch.int64)\n",
        "    y_pred = torch.empty(0, dtype=torch.int64, device=device)\n",
        "    y_true = torch.empty(0, dtype=torch.int64, device=device)\n",
        "    with torch.no_grad():\n",
        "        for num_batch, batch in enumerate(val_dataloader):\n",
        "            features, labels, lengths = batch\n",
        "            features = features.to(device)\n",
        "            labels = labels.to(device)\n",
        "            labels = torch.tensor(labels, dtype=torch.long, device=device)\n",
        "            lengths = lengths.to(device)\n",
        "            # TODO: YOUR CODE HERE\n",
        "            # Run forward pass\n",
        "            logits = model.forward(features.float(), lengths)\n",
        "            # calculate loss\n",
        "            loss = criterion(logits, labels)\n",
        "            running_loss += loss.item()\n",
        "            # Predict\n",
        "            outputs = torch.argmax(logits, dim = 1)# Calculate the argmax of logits\n",
        "            y_pred = torch.cat((y_pred, outputs))\n",
        "            y_true = torch.cat((y_true, labels))\n",
        "            num_batches += 1\n",
        "    valid_loss = running_loss / num_batches\n",
        "\n",
        "    return valid_loss, y_pred, y_true  # Return validation_loss and anything else you need\n",
        "\n",
        "\n",
        "def overfit_with_a_couple_of_batches(model, train_dataloader, optimizer, criterion):\n",
        "    epochs = 5000  # An absurd number of epochs\n",
        "    # TODO: select a couple of batches from the dataloader\n",
        "    batches = [next(iter(train_dataloader)) for i in range(2)]\n",
        "    # TODO: Run the training loop for an absurd amount of epochs\n",
        "    for epoch in range(epochs):\n",
        "        training_loss = training_loop(model, batches, optimizer, criterion)\n",
        "        if epoch%1000 is 0:\n",
        "            print(\"Epoch:\", epoch)\n",
        "    b_loss, y_pred, y_true = validation_loop(model, batches, criterion)\n",
        "    y_pred = torch.tensor(y_pred, device='cpu')\n",
        "    y_true = torch.tensor(y_true, device='cpu')\n",
        "    b_accuracy = accuracy_score(y_true, y_pred)\n",
        "    print(\"Batch overfitting: loss = {}, acc = {}\".format(b_loss, b_accuracy))\n",
        "\n",
        "\n",
        "def train(model, train_dataloader, val_dataloader, optimizer, epochs, criterion, device=\"cuda\", overfit_batch=False, patience = 20):\n",
        "    t_loss = []\n",
        "    val_loss = []\n",
        "    val_acc = []\n",
        "    model = model.to(device).float()\n",
        "    early_stopping = EarlyStopping(patience, mode=\"min\")\n",
        "    if overfit_batch:\n",
        "        overfit_with_a_couple_of_batches(model, train_dataloader, optimizer, criterion)\n",
        "    else:\n",
        "        for epoch in range(epochs):\n",
        "            training_loss = training_loop(model, train_dataloader, optimizer, criterion)\n",
        "            valid_loss, y_pred, y_true = validation_loop(model, val_dataloader, criterion)\n",
        "\n",
        "            # TODO: Calculate and print accuracy score\n",
        "            y_pred = torch.tensor(y_pred, device='cpu')\n",
        "            y_true = torch.tensor(y_true, device='cpu')\n",
        "            valid_accuracy = accuracy_score(y_true, y_pred)\n",
        "            print(\n",
        "                \"Epoch {}: train loss = {}, valid loss = {}, valid acc = {}\".format(\n",
        "                    epoch, training_loss, valid_loss, valid_accuracy\n",
        "                )\n",
        "            )\n",
        "            t_loss.append(training_loss)\n",
        "            val_loss.append(valid_loss)\n",
        "            val_acc.append(valid_accuracy)\n",
        "            #check early stop criterion if early_stp is True\n",
        "            if early_stp and early_stopping.stop(model, valid_loss):\n",
        "                print(\"early stopping... \", epoch)\n",
        "                early_stopping.resume(model)\n",
        "                break\n",
        "    #return trained model and losses during training\n",
        "    return model, t_loss, val_loss, val_acc"
      ],
      "metadata": {
        "execution": {
          "iopub.status.busy": "2023-12-05T15:07:51.379089Z",
          "iopub.execute_input": "2023-12-05T15:07:51.379392Z",
          "iopub.status.idle": "2023-12-05T15:07:51.416823Z",
          "shell.execute_reply.started": "2023-12-05T15:07:51.379363Z",
          "shell.execute_reply": "2023-12-05T15:07:51.415738Z"
        },
        "trusted": true,
        "id": "rwXsxo3UUQ-2"
      },
      "execution_count": null,
      "outputs": []
    },
    {
      "cell_type": "code",
      "source": [
        "import torch\n",
        "import torch.nn as nn\n",
        "\n",
        "# CNN definition (Classification Task)\n",
        "\n",
        "class CNNBackbone(nn.Module):\n",
        "\n",
        "    def __init__(self, H, W):\n",
        "\n",
        "        super(CNNBackbone, self).__init__()\n",
        "        self.a = H\n",
        "        self.b = W\n",
        "        for i in range(4):\n",
        "            self.a = ((self.a-6)//2) + 1\n",
        "            self.b = ((self.b-6)//2) + 1\n",
        "\n",
        "        self.layer1 = nn.Sequential(\n",
        "            nn.Conv2d(in_channels=1, out_channels=4, kernel_size=5),\n",
        "            nn.BatchNorm2d(num_features=4),\n",
        "            nn.ReLU(),\n",
        "            nn.MaxPool2d(kernel_size=2, stride=2),\n",
        "\n",
        "        )\n",
        "        self.layer2 = nn.Sequential(\n",
        "            nn.Conv2d(in_channels=4, out_channels=16, kernel_size=5),\n",
        "            nn.BatchNorm2d(num_features=16),\n",
        "            nn.ReLU(),\n",
        "            nn.MaxPool2d(kernel_size=2, stride=2),\n",
        "\n",
        "        )\n",
        "        self.layer3 = nn.Sequential(\n",
        "            nn.Conv2d(in_channels=16, out_channels=64, kernel_size=5),\n",
        "            nn.BatchNorm2d(num_features=64),\n",
        "            nn.ReLU(),\n",
        "            nn.MaxPool2d(kernel_size=2, stride=2),\n",
        "\n",
        "        )\n",
        "        self.layer4 = nn.Sequential(\n",
        "            nn.Conv2d(in_channels=64, out_channels=256, kernel_size=5),\n",
        "            nn.BatchNorm2d(num_features=256),\n",
        "            nn.ReLU(),\n",
        "            nn.MaxPool2d(kernel_size=2, stride=2),\n",
        "\n",
        "        )\n",
        "\n",
        "        self.fc1 = nn.Linear(self.a*self.b*256, 10)  #78848\n",
        "        self.dropout = nn.Dropout2d(p=0.1)\n",
        "\n",
        "    #(n_samples, channels, height, width)\n",
        "    def forward(self, x, lengths):\n",
        "        x = x.unsqueeze(1)\n",
        "        output = self.layer1(x)\n",
        "        output = self.layer2(output)\n",
        "        output = self.layer3(output)\n",
        "        output = self.layer4(output)\n",
        "        output = output.view(output.size(0), -1)\n",
        "        output = self.dropout(output)\n",
        "        output = self.fc1(output)\n",
        "        return output"
      ],
      "metadata": {
        "execution": {
          "iopub.status.busy": "2023-12-05T15:07:54.769963Z",
          "iopub.execute_input": "2023-12-05T15:07:54.770240Z",
          "iopub.status.idle": "2023-12-05T15:07:54.788443Z",
          "shell.execute_reply.started": "2023-12-05T15:07:54.770214Z",
          "shell.execute_reply": "2023-12-05T15:07:54.787727Z"
        },
        "trusted": true,
        "id": "3F4qLj8xUQ-2"
      },
      "execution_count": null,
      "outputs": []
    },
    {
      "cell_type": "code",
      "source": [
        "# Train first model with mel spectrograms without beat sync\n",
        "\n",
        "path = '../input/patreco3-multitask-affective-music/data/fma_genre_spectrograms/'\n",
        "\n",
        "# construct dataset\n",
        "mel_specs = SpectrogramDataset(\n",
        "         path,\n",
        "         train=True,\n",
        "         class_mapping=class_mapping,\n",
        "         max_length=-1,\n",
        "         read_spec_fn=read_mel_spectrogram)\n",
        "#split dataset to train, val\n",
        "train_loader_mel, val_loader_mel = torch_train_val_split(mel_specs, 32 ,32, val_size=.2)\n",
        "\n",
        "# construct test dataset\n",
        "test_loader = SpectrogramDataset(\n",
        "     path,\n",
        "     train=False,\n",
        "     class_mapping=class_mapping,\n",
        "     max_length=-1,\n",
        "     read_spec_fn=read_mel_spectrogram)\n",
        "test_loader, _ = torch_train_val_split(test_loader, 32 ,32, val_size=0)\n",
        "\n",
        "# fix model hyperparameters\n",
        "lr = 1e-4\n",
        "weight_decay = 0\n",
        "epochs = 70\n",
        "early_stp = True\n",
        "input_dim = train_loader_mel.dataset.feats[0].shape"
      ],
      "metadata": {
        "execution": {
          "iopub.status.busy": "2023-12-05T15:07:58.391067Z",
          "iopub.execute_input": "2023-12-05T15:07:58.391382Z",
          "iopub.status.idle": "2023-12-05T15:08:05.135433Z",
          "shell.execute_reply.started": "2023-12-05T15:07:58.391348Z",
          "shell.execute_reply": "2023-12-05T15:08:05.134505Z"
        },
        "trusted": true,
        "id": "pGmfeE_zUQ-2"
      },
      "execution_count": null,
      "outputs": []
    },
    {
      "cell_type": "code",
      "source": [
        "# define model according to given code\n",
        "\n",
        "model_f = CNNBackbone(input_dim[0], input_dim[1])\n",
        "\n",
        "# Initialize AdamW\n",
        "criterion = nn.CrossEntropyLoss()\n",
        "optimizer = torch.optim.AdamW(model_f.parameters(),  lr=lr, weight_decay=weight_decay)"
      ],
      "metadata": {
        "execution": {
          "iopub.status.busy": "2023-12-05T15:08:09.919527Z",
          "iopub.execute_input": "2023-12-05T15:08:09.919835Z",
          "iopub.status.idle": "2023-12-05T15:08:09.937205Z",
          "shell.execute_reply.started": "2023-12-05T15:08:09.919807Z",
          "shell.execute_reply": "2023-12-05T15:08:09.936422Z"
        },
        "trusted": true,
        "id": "G2_rFAIOUQ-3"
      },
      "execution_count": null,
      "outputs": []
    },
    {
      "cell_type": "code",
      "source": [
        "print(\"Retrain CNN classification model for Transfer Learning...\")\n",
        "model_f, t_loss, val_loss, val_acc = train(model_f,train_loader_mel, val_loader_mel, optimizer, epochs, criterion)\n",
        "#plot losses during learning\n",
        "plt.plot(t_loss, label = 'training_loss')\n",
        "plt.plot(val_loss, label = 'validation_loss')\n",
        "plt.xlabel('epoch')\n",
        "plt.ylabel('mean loss')\n",
        "plt.legend( loc='upper left')\n",
        "plt.show()"
      ],
      "metadata": {
        "execution": {
          "iopub.status.busy": "2023-12-05T15:08:12.129382Z",
          "iopub.execute_input": "2023-12-05T15:08:12.129672Z",
          "iopub.status.idle": "2023-12-05T15:13:53.401792Z",
          "shell.execute_reply.started": "2023-12-05T15:08:12.129646Z",
          "shell.execute_reply": "2023-12-05T15:13:53.400879Z"
        },
        "trusted": true,
        "id": "ir96p5ucUQ-3",
        "outputId": "3f6b512d-32eb-4246-840f-ae0816426103"
      },
      "execution_count": null,
      "outputs": [
        {
          "name": "stdout",
          "text": "Retrain CNN classification model for Trasnfer Learning...\n",
          "output_type": "stream"
        },
        {
          "name": "stderr",
          "text": "/opt/conda/lib/python3.6/site-packages/ipykernel_launcher.py:50: UserWarning: To copy construct from a tensor, it is recommended to use sourceTensor.clone().detach() or sourceTensor.clone().detach().requires_grad_(True), rather than torch.tensor(sourceTensor).\n/opt/conda/lib/python3.6/site-packages/ipykernel_launcher.py:82: UserWarning: To copy construct from a tensor, it is recommended to use sourceTensor.clone().detach() or sourceTensor.clone().detach().requires_grad_(True), rather than torch.tensor(sourceTensor).\n/opt/conda/lib/python3.6/site-packages/ipykernel_launcher.py:130: UserWarning: To copy construct from a tensor, it is recommended to use sourceTensor.clone().detach() or sourceTensor.clone().detach().requires_grad_(True), rather than torch.tensor(sourceTensor).\n/opt/conda/lib/python3.6/site-packages/ipykernel_launcher.py:131: UserWarning: To copy construct from a tensor, it is recommended to use sourceTensor.clone().detach() or sourceTensor.clone().detach().requires_grad_(True), rather than torch.tensor(sourceTensor).\n",
          "output_type": "stream"
        },
        {
          "name": "stdout",
          "text": "Epoch 0: train loss = 2.726103891586435, valid loss = 2.843386475245158, valid acc = 0.2386117136659436\nEpoch 1: train loss = 2.0116366435741555, valid loss = 2.359126011530558, valid acc = 0.30151843817787416\nEpoch 2: train loss = 1.6003359145131604, valid loss = 1.9900832653045655, valid acc = 0.3405639913232104\nEpoch 3: train loss = 1.1445215693835555, valid loss = 2.1379716396331787, valid acc = 0.3405639913232104\nEpoch 4: train loss = 0.9507101578959103, valid loss = 2.2791608333587647, valid acc = 0.3297180043383948\nEpoch 5: train loss = 0.725010719278763, valid loss = 2.2443718830744426, valid acc = 0.3752711496746204\nEpoch 6: train loss = 0.6253923511710661, valid loss = 2.6391525586446125, valid acc = 0.34273318872017355\nEpoch 7: train loss = 0.3757003687065223, valid loss = 2.0679049094518027, valid acc = 0.37093275488069416\nEpoch 8: train loss = 0.24461288377642632, valid loss = 1.9417554219563802, valid acc = 0.3947939262472885\nEpoch 9: train loss = 0.18676614697123395, valid loss = 1.9525368611017864, valid acc = 0.40130151843817785\nEpoch 10: train loss = 0.12067997275755324, valid loss = 1.922307809193929, valid acc = 0.420824295010846\nEpoch 11: train loss = 0.08561177615975511, valid loss = 1.8967835346857707, valid acc = 0.42950108459869846\nEpoch 12: train loss = 0.0754660254280115, valid loss = 2.014903163909912, valid acc = 0.4229934924078091\nEpoch 13: train loss = 0.060174507891823506, valid loss = 1.937655750910441, valid acc = 0.4229934924078091\nEpoch 14: train loss = 0.040379580238769794, valid loss = 1.9714328845342, valid acc = 0.41865509761388287\nEpoch 15: train loss = 0.03573054878105377, valid loss = 1.8935441573460896, valid acc = 0.4229934924078091\nEpoch 16: train loss = 0.028240288318745022, valid loss = 1.9295252402623495, valid acc = 0.42516268980477223\nEpoch 17: train loss = 0.029660125166691583, valid loss = 1.949989652633667, valid acc = 0.42950108459869846\nEpoch 18: train loss = 0.030434131686543596, valid loss = 1.9351493914922078, valid acc = 0.40130151843817785\nEpoch 19: train loss = 0.021674514539411355, valid loss = 1.9921837250391643, valid acc = 0.4229934924078091\nEpoch 20: train loss = 0.016063931076947986, valid loss = 1.9512592077255249, valid acc = 0.41865509761388287\nEpoch 21: train loss = 0.01677375187262379, valid loss = 1.9793564478556316, valid acc = 0.42950108459869846\nEpoch 22: train loss = 0.014602545006521818, valid loss = 1.9531353155771891, valid acc = 0.42950108459869846\nEpoch 23: train loss = 0.012845862062712168, valid loss = 1.9993254899978639, valid acc = 0.42733188720173537\nEpoch 24: train loss = 0.012961732239687237, valid loss = 2.032065010070801, valid acc = 0.4229934924078091\nEpoch 25: train loss = 0.01005285191510258, valid loss = 1.985622493426005, valid acc = 0.42516268980477223\nEpoch 26: train loss = 0.010495080596542564, valid loss = 2.004371976852417, valid acc = 0.4164859002169197\nearly stopping...  26\n",
          "output_type": "stream"
        },
        {
          "output_type": "display_data",
          "data": {
            "text/plain": "<Figure size 432x288 with 1 Axes>",
            "image/png": "[encoded data removed]"
          },
          "metadata": {
            "needs_background": "light"
          }
        }
      ]
    },
    {
      "cell_type": "code",
      "source": [
        "def training_loop(model, train_dataloader, optimizer, criterion, device=\"cuda\"):\n",
        "    model.train()\n",
        "    running_loss = 0.0\n",
        "    num_batches = 0\n",
        "    for batch in train_dataloader:\n",
        "        features, labels, lengths = batch\n",
        "        features = features.to(device)\n",
        "        labels = labels.to(device)\n",
        "        labels = torch.tensor(labels, dtype=torch.float, device=device)\n",
        "        lengths = lengths.to(device)\n",
        "        # zero grads in the optimizer\n",
        "        optimizer.zero_grad()\n",
        "        # run forward pass\n",
        "        outputs = model.forward(features.float(), lengths)\n",
        "        # calculate loss\n",
        "        loss = criterion(outputs, labels)\n",
        "        # Run backward pass\n",
        "        loss.backward()\n",
        "        # Update the parameteres\n",
        "        optimizer.step()\n",
        "        running_loss += loss.item()\n",
        "        num_batches += 1\n",
        "    train_loss = running_loss / num_batches\n",
        "\n",
        "    return train_loss  # Return train_loss and anything else you need\n",
        "\n",
        "\n",
        "def validation_loop(model, val_dataloader, criterion, device=\"cuda\"):\n",
        "    model.eval()\n",
        "    running_loss = 0.0\n",
        "    num_batches = 0\n",
        "    #y_pred = torch.empty(0, dtype=torch.int64)\n",
        "    #y_true = torch.empty(0, dtype=torch.int64)\n",
        "    y_pred = torch.empty(0, dtype=torch.float, device=device)\n",
        "    y_true = torch.empty(0, dtype=torch.float, device=device)\n",
        "    with torch.no_grad():\n",
        "        for num_batch, batch in enumerate(val_dataloader):\n",
        "            features, labels, lengths = batch\n",
        "            features = features.to(device)\n",
        "            labels = labels.to(device)\n",
        "            labels = torch.tensor(labels, dtype=torch.float, device=device)\n",
        "            lengths = lengths.to(device)\n",
        "            # TODO: YOUR CODE HERE\n",
        "            # Run forward pass\n",
        "            outputs = model.forward(features.float(), lengths)\n",
        "            # calculate loss\n",
        "            loss = criterion(outputs, labels)\n",
        "            running_loss += loss.item()\n",
        "            # Predict\n",
        "            y_pred = torch.cat((y_pred, outputs))\n",
        "            y_true = torch.cat((y_true, labels))\n",
        "            num_batches += 1\n",
        "    valid_loss = running_loss / num_batches\n",
        "    return valid_loss, y_pred, y_true  # Return validation_loss and anything else you need\n",
        "\n",
        "\n",
        "def train(model, train_dataloader, val_dataloader, optimizer, epochs, criterion, device=\"cuda\", overfit_batch=False, patience = 20):\n",
        "    t_loss = []\n",
        "    val_loss = []\n",
        "    model = model.to(device).float()\n",
        "    early_stopping = EarlyStopping(patience, mode=\"min\")\n",
        "    if overfit_batch:\n",
        "        overfit_with_a_couple_of_batches(model, train_dataloader, optimizer, criterion)\n",
        "    else:\n",
        "        for epoch in range(epochs):\n",
        "            training_loss = training_loop(model, train_dataloader, optimizer, criterion)\n",
        "            valid_loss, y_pred, y_true = validation_loop(model, val_dataloader, criterion)\n",
        "\n",
        "            print(\n",
        "                \"Epoch {}: train loss = {}, valid loss = {}\".format(\n",
        "                    epoch, training_loss, valid_loss\n",
        "                )\n",
        "            )\n",
        "            t_loss.append(training_loss)\n",
        "            val_loss.append(valid_loss)\n",
        "            #check early stop criterion if early_stp is True\n",
        "            if early_stp and early_stopping.stop(model, valid_loss):\n",
        "                print(\"early stopping... \", epoch)\n",
        "                early_stopping.resume(model)\n",
        "                break\n",
        "    #return trained model and losses during training\n",
        "    return model, t_loss, val_loss\n"
      ],
      "metadata": {
        "execution": {
          "iopub.status.busy": "2023-12-05T15:16:04.009183Z",
          "iopub.execute_input": "2023-12-05T15:16:04.009514Z",
          "iopub.status.idle": "2023-12-05T15:16:04.032194Z",
          "shell.execute_reply.started": "2023-12-05T15:16:04.009484Z",
          "shell.execute_reply": "2023-12-05T15:16:04.031461Z"
        },
        "trusted": true,
        "id": "FVFLxku6UQ-3"
      },
      "execution_count": null,
      "outputs": []
    },
    {
      "cell_type": "code",
      "source": [
        "'''\n",
        "Αφού εκαπιδεύοσυμε το μοντέλο CNN που επιλέξαμε ως καλύτερο,\n",
        "φορτώνουμε τα βάρη του με την καλύτερη απόδοση (που είναι\n",
        "αποθηκευμένα στο 'best_model.pth' μέσω του checkpoint() του\n",
        "Early Stopping) σε ένα νέο μοντέλο, του οποίου αλλάζουμε το\n",
        "τελευταίο επίπεδο ώστε να έχει output_dim = 1 και ξεκινάμε\n",
        "την διαδικασία του Transfer Learning\n",
        "'''\n",
        "model_tf = CNNBackbone(input_dim[0], input_dim[1])\n",
        "model_tf.load_state_dict(torch.load('best_model.pth'))\n",
        "num_ftrs = model_tf.fc1.in_features\n",
        "model_tf.fc1 = nn.Linear(num_ftrs, 1)"
      ],
      "metadata": {
        "execution": {
          "iopub.status.busy": "2023-12-05T15:23:17.204423Z",
          "iopub.execute_input": "2023-12-05T15:23:17.204746Z",
          "iopub.status.idle": "2023-12-05T15:23:17.229258Z",
          "shell.execute_reply.started": "2023-12-05T15:23:17.204714Z",
          "shell.execute_reply": "2023-12-05T15:23:17.228692Z"
        },
        "trusted": true,
        "id": "xDlTw0TyUQ-3"
      },
      "execution_count": null,
      "outputs": []
    },
    {
      "cell_type": "code",
      "source": [
        "path = path = '../input/patreco3-multitask-affective-music/data/multitask_dataset/'\n",
        "\n",
        "mel_specs = MultitaskDataset(\n",
        "    path,\n",
        "    attr = 3,\n",
        "    train=True,\n",
        "    max_length=-1,\n",
        "    read_spec_fn=read_mel_spectrogram)\n",
        "\n",
        "train_loader_mel, val_loader_mel, test_loader = torch_train_val_test_split(mel_specs, 32 ,32, 32, val_size=.15, test_size=.15)\n",
        "\n",
        "# fix model hyperparameters\n",
        "lr = 1e-4\n",
        "weight_decay = 0\n",
        "epochs = 10\n",
        "early_stp = False\n",
        "input_dim = train_loader_mel.dataset.feats[0].shape"
      ],
      "metadata": {
        "execution": {
          "iopub.status.busy": "2023-12-05T15:23:18.766014Z",
          "iopub.execute_input": "2023-12-05T15:23:18.766305Z",
          "iopub.status.idle": "2023-12-05T15:23:20.644446Z",
          "shell.execute_reply.started": "2023-12-05T15:23:18.766279Z",
          "shell.execute_reply": "2023-12-05T15:23:20.643716Z"
        },
        "trusted": true,
        "id": "-zE542PkUQ-3"
      },
      "execution_count": null,
      "outputs": []
    },
    {
      "cell_type": "code",
      "source": [
        "# Initialize AdamW\n",
        "criterion = nn.MSELoss()\n",
        "optimizer = torch.optim.AdamW(model_tf.parameters(),  lr=lr, weight_decay=weight_decay)"
      ],
      "metadata": {
        "execution": {
          "iopub.status.busy": "2023-12-05T15:23:23.093451Z",
          "iopub.execute_input": "2023-12-05T15:23:23.093740Z",
          "iopub.status.idle": "2023-12-05T15:23:23.098384Z",
          "shell.execute_reply.started": "2023-12-05T15:23:23.093712Z",
          "shell.execute_reply": "2023-12-05T15:23:23.097395Z"
        },
        "trusted": true,
        "id": "ZWoQWu9hUQ-3"
      },
      "execution_count": null,
      "outputs": []
    },
    {
      "cell_type": "code",
      "source": [
        "#train model\n",
        "model_tf, t_loss, val_loss = train(model_tf,train_loader_mel, val_loader_mel, optimizer, epochs, criterion)\n",
        "#plot losses during learning\n",
        "plt.plot(t_loss, label = 'training_loss')\n",
        "plt.plot(val_loss, label = 'validation_loss')\n",
        "plt.xlabel('epoch')\n",
        "plt.ylabel('mean loss')\n",
        "plt.legend( loc='upper left')\n",
        "plt.show()"
      ],
      "metadata": {
        "execution": {
          "iopub.status.busy": "2023-12-05T15:28:22.877975Z",
          "iopub.execute_input": "2023-12-05T15:28:22.878316Z",
          "iopub.status.idle": "2023-12-05T15:30:10.652915Z",
          "shell.execute_reply.started": "2023-12-05T15:28:22.878283Z",
          "shell.execute_reply": "2023-12-05T15:30:10.652007Z"
        },
        "trusted": true,
        "id": "s3wJ_4XnUQ-3",
        "outputId": "93f04a9d-1e72-478e-cb39-99ad671390c6"
      },
      "execution_count": null,
      "outputs": [
        {
          "name": "stderr",
          "text": "/opt/conda/lib/python3.6/site-packages/ipykernel_launcher.py:9: UserWarning: To copy construct from a tensor, it is recommended to use sourceTensor.clone().detach() or sourceTensor.clone().detach().requires_grad_(True), rather than torch.tensor(sourceTensor).\n  if __name__ == '__main__':\n/opt/conda/lib/python3.6/site-packages/torch/nn/modules/loss.py:431: UserWarning: Using a target size (torch.Size([32])) that is different to the input size (torch.Size([32, 1])). This will likely lead to incorrect results due to broadcasting. Please ensure they have the same size.\n  return F.mse_loss(input, target, reduction=self.reduction)\n/opt/conda/lib/python3.6/site-packages/torch/nn/modules/loss.py:431: UserWarning: Using a target size (torch.Size([18])) that is different to the input size (torch.Size([18, 1])). This will likely lead to incorrect results due to broadcasting. Please ensure they have the same size.\n  return F.mse_loss(input, target, reduction=self.reduction)\n/opt/conda/lib/python3.6/site-packages/ipykernel_launcher.py:41: UserWarning: To copy construct from a tensor, it is recommended to use sourceTensor.clone().detach() or sourceTensor.clone().detach().requires_grad_(True), rather than torch.tensor(sourceTensor).\n/opt/conda/lib/python3.6/site-packages/torch/nn/modules/loss.py:431: UserWarning: Using a target size (torch.Size([8])) that is different to the input size (torch.Size([8, 1])). This will likely lead to incorrect results due to broadcasting. Please ensure they have the same size.\n  return F.mse_loss(input, target, reduction=self.reduction)\n",
          "output_type": "stream"
        },
        {
          "name": "stdout",
          "text": "Epoch 0: train loss = 0.07008624628186226, valid loss = 0.06136650840441386\nEpoch 1: train loss = 0.06857554957270623, valid loss = 0.07794679701328278\nEpoch 2: train loss = 0.06877050533890725, valid loss = 0.06965774670243263\nEpoch 3: train loss = 0.07823721438646317, valid loss = 0.05341482410828272\nEpoch 4: train loss = 0.06429396197199821, valid loss = 0.05997903645038605\nEpoch 5: train loss = 0.06454267501831054, valid loss = 0.054095989714066185\nEpoch 6: train loss = 0.061340107917785644, valid loss = 0.05733611745138963\nEpoch 7: train loss = 0.05938083752989769, valid loss = 0.06097073356310526\nEpoch 8: train loss = 0.06775652706623077, valid loss = 0.05476004568239053\nEpoch 9: train loss = 0.057991039156913754, valid loss = 0.052669353783130646\nEpoch 10: train loss = 0.05793948113918304, valid loss = 0.0543015773097674\nEpoch 11: train loss = 0.0632453253865242, valid loss = 0.05615450876454512\nEpoch 12: train loss = 0.06161070927977562, valid loss = 0.04421565681695938\nEpoch 13: train loss = 0.06396153345704078, valid loss = 0.07874315418303013\nEpoch 14: train loss = 0.06379044368863106, valid loss = 0.05161400201419989\nEpoch 15: train loss = 0.06460832983255387, valid loss = 0.04964069649577141\nEpoch 16: train loss = 0.05841112479567528, valid loss = 0.04412289491544167\nEpoch 17: train loss = 0.0628504690527916, valid loss = 0.06378751744826634\nEpoch 18: train loss = 0.06032135978341103, valid loss = 0.04887948806087176\nEpoch 19: train loss = 0.06196121945977211, valid loss = 0.058011709402004875\n",
          "output_type": "stream"
        },
        {
          "output_type": "display_data",
          "data": {
            "text/plain": "<Figure size 432x288 with 1 Axes>",
            "image/png": "[encoded data removed]"
          },
          "metadata": {
            "needs_background": "light"
          }
        }
      ]
    },
    {
      "cell_type": "code",
      "source": [
        "# Report metrics on trained model\n",
        "from sklearn.metrics import mean_absolute_error\n",
        "from sklearn.metrics import mean_squared_error\n",
        "from scipy import stats\n",
        "import matplotlib.pyplot as plt\n",
        "\n",
        "test_loss, y_pred, y_true = validation_loop(model_cnn_reg, test_loader, criterion)\n",
        "y_pred = torch.tensor(y_pred, device='cpu')\n",
        "y_true = torch.tensor(y_true, device='cpu')\n",
        "print(\"MAE: \", mean_absolute_error(y_true, y_pred))\n",
        "print(\"MSE: \", mean_squared_error(y_true, y_pred))\n",
        "y_pred = np.array(y_pred)\n",
        "y_true = np.array(y_true)\n",
        "sp = stats.spearmanr(y_true, y_pred)[0]\n",
        "print(\"Spearman correlation (Danceability, CNN_tf): \", sp)\n",
        "\n",
        "# plt.style.use('seaborn-whitegrid')\n",
        "plt.plot(y_true , y_pred, 'o', color='blue');\n",
        "plt.title(\"CNN_tf - Danceability\")\n",
        "plt.xlabel(\"y_true\")\n",
        "plt.ylabel(\"y_pred\")"
      ],
      "metadata": {
        "execution": {
          "iopub.status.busy": "2023-12-05T15:30:16.574384Z",
          "iopub.execute_input": "2023-12-05T15:30:16.574688Z",
          "iopub.status.idle": "2023-12-05T15:30:17.084961Z",
          "shell.execute_reply.started": "2023-12-05T15:30:16.574657Z",
          "shell.execute_reply": "2023-12-05T15:30:17.084069Z"
        },
        "trusted": true,
        "id": "taOYlcopUQ-4",
        "outputId": "3d3bf75e-09f2-42d1-bc2a-c8d12156c761"
      },
      "execution_count": null,
      "outputs": [
        {
          "name": "stderr",
          "text": "/opt/conda/lib/python3.6/site-packages/ipykernel_launcher.py:41: UserWarning: To copy construct from a tensor, it is recommended to use sourceTensor.clone().detach() or sourceTensor.clone().detach().requires_grad_(True), rather than torch.tensor(sourceTensor).\n/opt/conda/lib/python3.6/site-packages/torch/nn/modules/loss.py:431: UserWarning: Using a target size (torch.Size([1])) that is different to the input size (torch.Size([1, 1])). This will likely lead to incorrect results due to broadcasting. Please ensure they have the same size.\n  return F.mse_loss(input, target, reduction=self.reduction)\n",
          "output_type": "stream"
        },
        {
          "name": "stdout",
          "text": "MAE:  0.20199862\nMSE:  0.05671205\nSpearman correlation (Danceability, CNN_tf):  0.1818476322982237\n",
          "output_type": "stream"
        },
        {
          "name": "stderr",
          "text": "/opt/conda/lib/python3.6/site-packages/ipykernel_launcher.py:8: UserWarning: To copy construct from a tensor, it is recommended to use sourceTensor.clone().detach() or sourceTensor.clone().detach().requires_grad_(True), rather than torch.tensor(sourceTensor).\n  \n/opt/conda/lib/python3.6/site-packages/ipykernel_launcher.py:9: UserWarning: To copy construct from a tensor, it is recommended to use sourceTensor.clone().detach() or sourceTensor.clone().detach().requires_grad_(True), rather than torch.tensor(sourceTensor).\n  if __name__ == '__main__':\n",
          "output_type": "stream"
        },
        {
          "execution_count": 264,
          "output_type": "execute_result",
          "data": {
            "text/plain": "Text(0, 0.5, 'y_pred')"
          },
          "metadata": {}
        },
        {
          "output_type": "display_data",
          "data": {
            "text/plain": "<Figure size 432x288 with 1 Axes>",
            "image/png": "[encoded data removed]"
          },
          "metadata": {
            "needs_background": "light"
          }
        }
      ]
    },
    {
      "cell_type": "markdown",
      "source": [
        "# STEP 10"
      ],
      "metadata": {
        "id": "g_3fPVheUQ-4"
      }
    },
    {
      "cell_type": "code",
      "source": [
        "import torch\n",
        "import torch.nn as nn\n",
        "\n",
        "# CNN definition for Multitask Learning (3 outputs)\n",
        "\n",
        "class CNNBackbone(nn.Module):\n",
        "\n",
        "    def __init__(self, H, W):\n",
        "\n",
        "        super(CNNBackbone, self).__init__()\n",
        "        self.a = H\n",
        "        self.b = W\n",
        "        for i in range(4):\n",
        "            self.a = ((self.a-6)//2) + 1\n",
        "            self.b = ((self.b-6)//2) + 1\n",
        "\n",
        "        self.layer1 = nn.Sequential(\n",
        "            nn.Conv2d(in_channels=1, out_channels=4, kernel_size=5),\n",
        "            nn.BatchNorm2d(num_features=4),\n",
        "            nn.ReLU(),\n",
        "            nn.MaxPool2d(kernel_size=2, stride=2),\n",
        "\n",
        "        )\n",
        "        self.layer2 = nn.Sequential(\n",
        "            nn.Conv2d(in_channels=4, out_channels=16, kernel_size=5),\n",
        "            nn.BatchNorm2d(num_features=16),\n",
        "            nn.ReLU(),\n",
        "            nn.MaxPool2d(kernel_size=2, stride=2),\n",
        "\n",
        "        )\n",
        "        self.layer3 = nn.Sequential(\n",
        "            nn.Conv2d(in_channels=16, out_channels=64, kernel_size=5),\n",
        "            nn.BatchNorm2d(num_features=64),\n",
        "            nn.ReLU(),\n",
        "            nn.MaxPool2d(kernel_size=2, stride=2),\n",
        "\n",
        "        )\n",
        "        self.layer4 = nn.Sequential(\n",
        "            nn.Conv2d(in_channels=64, out_channels=256, kernel_size=5),\n",
        "            nn.BatchNorm2d(num_features=256),\n",
        "            nn.ReLU(),\n",
        "            nn.MaxPool2d(kernel_size=2, stride=2),\n",
        "\n",
        "        )\n",
        "\n",
        "        self.fc1 = nn.Linear(self.a*self.b*256, 3)  #78848\n",
        "        self.dropout = nn.Dropout2d(p=0.1)\n",
        "\n",
        "    #(n_samples, channels, height, width)\n",
        "    def forward(self, x, lengths):\n",
        "        x = x.unsqueeze(1)\n",
        "        output = self.layer1(x)\n",
        "        output = self.layer2(output)\n",
        "        output = self.layer3(output)\n",
        "        output = self.layer4(output)\n",
        "        output = output.view(output.size(0), -1)\n",
        "        output = self.dropout(output)\n",
        "        output = self.fc1(output)\n",
        "        return output"
      ],
      "metadata": {
        "execution": {
          "iopub.status.busy": "2023-12-05T16:01:21.388599Z",
          "iopub.execute_input": "2023-12-05T16:01:21.388937Z",
          "iopub.status.idle": "2023-12-05T16:01:21.408683Z",
          "shell.execute_reply.started": "2023-12-05T16:01:21.388902Z",
          "shell.execute_reply": "2023-12-05T16:01:21.407810Z"
        },
        "trusted": true,
        "id": "Xji756ueUQ-4"
      },
      "execution_count": null,
      "outputs": []
    },
    {
      "cell_type": "code",
      "source": [
        "# Pytorch Dataset Class for creating the MultiTask dataset\n",
        "class MultitaskDataset(Dataset):\n",
        "    def __init__(self, path, train=True, max_length=-1, clsss_mapping=None, read_spec_fn=read_fused_spectrogram):\n",
        "        t = 'train' if train else 'test'\n",
        "        # Construct the path to label text file\n",
        "        p = os.path.join(path, t)\n",
        "        self.full_path = p\n",
        "        self.index = os.path.join(path, \"{}_labels.txt\".format(t))\n",
        "        # get training or test files and also their label\n",
        "        self.files, labels = self.get_files_labels(self.index, class_mapping)\n",
        "        # load spectrogram or chomagram or both from eaxh file\n",
        "        self.feats = [read_spec_fn(os.path.join(p, f)) for f in self.files]\n",
        "        self.feat_dim = self.feats[0].shape[1]\n",
        "        # keep length for each datum and max _length in dataset\n",
        "        self.lengths = [len(i) for i in self.feats]\n",
        "        self.max_length = max(self.lengths) if max_length <= 0 else max_length\n",
        "        # zero padd data to max_length\n",
        "        self.zero_pad_and_stack = PaddingTransform(self.max_length)\n",
        "        # trasform labels to numbers\n",
        "        if isinstance(labels, (list, tuple)):\n",
        "            self.labels = np.array(labels).astype('float')\n",
        "\n",
        "    def get_files_labels(self, txt, class_mapping):\n",
        "        with open(txt, 'r') as fd:\n",
        "            lines = [l.rstrip().split('\\t') for l in fd.readlines()[1:]]\n",
        "        files, labels = [], []\n",
        "        for l in lines:\n",
        "            label = []\n",
        "            l = l[0].split(',')\n",
        "            label.append(l[1])\n",
        "            label.append(l[2])\n",
        "            label.append(l[3].strip('\\n'))\n",
        "            # Kaggle automatically unzips the npy.gz format so this hack is needed\n",
        "            fname = int(l[0])\n",
        "            npy_file = '{}.fused.full.npy'.format(fname)\n",
        "            files.append(npy_file)\n",
        "            labels.append(label)\n",
        "        return files, labels\n",
        "\n",
        "    def __getitem__(self, item):\n",
        "        # TODO: Inspect output and comment on how the output is formatted\n",
        "        l = min(self.lengths[item], self.max_length)\n",
        "        # output = padded feature eg 128 * max_length for spectrogram, label, original feat lenght\n",
        "        return self.zero_pad_and_stack(self.feats[item]), self.labels[item], l\n",
        "\n",
        "    def __len__(self):\n",
        "        return len(self.labels)\n",
        ""
      ],
      "metadata": {
        "execution": {
          "iopub.status.busy": "2023-12-05T15:46:08.468120Z",
          "iopub.execute_input": "2023-12-05T15:46:08.468421Z",
          "iopub.status.idle": "2023-12-05T15:46:08.486560Z",
          "shell.execute_reply.started": "2023-12-05T15:46:08.468392Z",
          "shell.execute_reply": "2023-12-05T15:46:08.485810Z"
        },
        "trusted": true,
        "id": "hQyrLx6YUQ-4"
      },
      "execution_count": null,
      "outputs": []
    },
    {
      "cell_type": "code",
      "source": [
        "def training_loop(model, train_dataloader, optimizer, criterion, device=\"cuda\"):\n",
        "    model.train()\n",
        "    running_loss = 0.0\n",
        "    num_batches = 0\n",
        "    for batch in train_dataloader:\n",
        "        features, labels, lengths = batch\n",
        "        features = features.to(device)\n",
        "        labels = labels.to(device)\n",
        "        labels = torch.tensor(labels, dtype=torch.float, device=device)\n",
        "        lengths = lengths.to(device)\n",
        "        # zero grads in the optimizer\n",
        "        optimizer.zero_grad()\n",
        "        # run forward pass\n",
        "        outputs = model.forward(features.float(), lengths)\n",
        "        # calculate loss\n",
        "        loss = criterion(outputs, labels)\n",
        "        # Run backward pass\n",
        "        loss.backward()\n",
        "        # Update the parameteres\n",
        "        optimizer.step()\n",
        "        running_loss += loss.item()\n",
        "        num_batches += 1\n",
        "    train_loss = running_loss / num_batches\n",
        "\n",
        "    return train_loss  # Return train_loss and anything else you need\n",
        "\n",
        "\n",
        "def validation_loop(model, val_dataloader, criterion, device=\"cuda\"):\n",
        "    model.eval()\n",
        "    running_loss = 0.0\n",
        "    num_batches = 0\n",
        "    #y_pred = torch.empty(0, dtype=torch.int64)\n",
        "    #y_true = torch.empty(0, dtype=torch.int64)\n",
        "    y_pred = torch.empty(0, dtype=torch.float, device=device)\n",
        "    y_true = torch.empty(0, dtype=torch.float, device=device)\n",
        "    with torch.no_grad():\n",
        "        for num_batch, batch in enumerate(val_dataloader):\n",
        "            features, labels, lengths = batch\n",
        "            features = features.to(device)\n",
        "            labels = labels.to(device)\n",
        "            labels = torch.tensor(labels, dtype=torch.float, device=device)\n",
        "            lengths = lengths.to(device)\n",
        "            # TODO: YOUR CODE HERE\n",
        "            # Run forward pass\n",
        "            outputs = model.forward(features.float(), lengths)\n",
        "            # calculate loss\n",
        "            loss = criterion(outputs, labels)\n",
        "            running_loss += loss.item()\n",
        "            # Predict\n",
        "            y_pred = torch.cat((y_pred, outputs))\n",
        "            y_true = torch.cat((y_true, labels))\n",
        "            num_batches += 1\n",
        "    valid_loss = running_loss / num_batches\n",
        "    return valid_loss, y_pred, y_true  # Return validation_loss and anything else you need\n",
        "\n",
        "\n",
        "def train(model, train_dataloader, val_dataloader, optimizer, epochs, criterion, device=\"cuda\", overfit_batch=False, patience = 20):\n",
        "    t_loss = []\n",
        "    val_loss = []\n",
        "    model = model.to(device).float()\n",
        "    early_stopping = EarlyStopping(patience, mode=\"min\")\n",
        "    if overfit_batch:\n",
        "        overfit_with_a_couple_of_batches(model, train_dataloader, optimizer, criterion)\n",
        "    else:\n",
        "        for epoch in range(epochs):\n",
        "            training_loss = training_loop(model, train_dataloader, optimizer, criterion)\n",
        "            valid_loss, y_pred, y_true = validation_loop(model, val_dataloader, criterion)\n",
        "\n",
        "            print(\n",
        "                \"Epoch {}: train loss = {}, valid loss = {}\".format(\n",
        "                    epoch, training_loss, valid_loss\n",
        "                )\n",
        "            )\n",
        "            t_loss.append(training_loss)\n",
        "            val_loss.append(valid_loss)\n",
        "            #check early stop criterion if early_stp is True\n",
        "            if early_stp and early_stopping.stop(model, valid_loss):\n",
        "                print(\"early stopping... \", epoch)\n",
        "                early_stopping.resume(model)\n",
        "                break\n",
        "    #return trained model and losses during training\n",
        "    return model, t_loss, val_loss\n"
      ],
      "metadata": {
        "execution": {
          "iopub.status.busy": "2023-12-05T16:01:31.343009Z",
          "iopub.execute_input": "2023-12-05T16:01:31.343329Z",
          "iopub.status.idle": "2023-12-05T16:01:31.367821Z",
          "shell.execute_reply.started": "2023-12-05T16:01:31.343301Z",
          "shell.execute_reply": "2023-12-05T16:01:31.366849Z"
        },
        "trusted": true,
        "id": "pGci3sREUQ-4"
      },
      "execution_count": null,
      "outputs": []
    },
    {
      "cell_type": "code",
      "source": [
        "path = path = '../input/patreco3-multitask-affective-music/data/multitask_dataset/'\n",
        "\n",
        "mel_specs = MultitaskDataset(\n",
        "    path,\n",
        "    train=True,\n",
        "    max_length=-1,\n",
        "    read_spec_fn=read_mel_spectrogram)\n",
        "\n",
        "train_loader_mel, val_loader_mel, test_loader = torch_train_val_test_split(mel_specs, 32 ,32, 32, val_size=.1, test_size=.1)\n",
        "\n",
        "# fix model hyperparameters\n",
        "lr = 1e-4\n",
        "weight_decay = 0\n",
        "epochs = 70\n",
        "early_stp = False\n",
        "input_dim = train_loader_mel.dataset.feats[0].shape"
      ],
      "metadata": {
        "execution": {
          "iopub.status.busy": "2023-12-05T15:46:12.775927Z",
          "iopub.execute_input": "2023-12-05T15:46:12.776204Z",
          "iopub.status.idle": "2023-12-05T15:46:15.916242Z",
          "shell.execute_reply.started": "2023-12-05T15:46:12.776178Z",
          "shell.execute_reply": "2023-12-05T15:46:15.915635Z"
        },
        "trusted": true,
        "id": "0DCBedgQUQ-4"
      },
      "execution_count": null,
      "outputs": []
    },
    {
      "cell_type": "code",
      "source": [
        "model_mt = CNNBackbone(input_dim[0], input_dim[1])\n",
        "\n",
        "# Initialize AdamW\n",
        "criterion = nn.MSELoss()\n",
        "optimizer = torch.optim.AdamW(model_mt.parameters(),  lr=lr, weight_decay=weight_decay)"
      ],
      "metadata": {
        "execution": {
          "iopub.status.busy": "2023-12-05T16:01:45.987752Z",
          "iopub.execute_input": "2023-12-05T16:01:45.988087Z",
          "iopub.status.idle": "2023-12-05T16:01:46.001170Z",
          "shell.execute_reply.started": "2023-12-05T16:01:45.988052Z",
          "shell.execute_reply": "2023-12-05T16:01:46.000422Z"
        },
        "trusted": true,
        "id": "rEySebCsUQ-4"
      },
      "execution_count": null,
      "outputs": []
    },
    {
      "cell_type": "code",
      "source": [
        "#train model\n",
        "model_mt, t_loss, val_loss = train(model_mt,train_loader_mel, val_loader_mel, optimizer, epochs, criterion)\n",
        "#plot losses during learning\n",
        "plt.plot(t_loss, label = 'training_loss')\n",
        "plt.plot(val_loss, label = 'validation_loss')\n",
        "plt.xlabel('epoch')\n",
        "plt.ylabel('mean loss')\n",
        "plt.legend( loc='upper left')\n",
        "plt.show()"
      ],
      "metadata": {
        "execution": {
          "iopub.status.busy": "2023-12-05T16:01:49.130992Z",
          "iopub.execute_input": "2023-12-05T16:01:49.131304Z",
          "iopub.status.idle": "2023-12-05T16:08:56.605960Z",
          "shell.execute_reply.started": "2023-12-05T16:01:49.131269Z",
          "shell.execute_reply": "2023-12-05T16:08:56.605068Z"
        },
        "trusted": true,
        "id": "-N5I_wGjUQ-4",
        "outputId": "fba18974-e76a-45a9-b817-1802674a3a09"
      },
      "execution_count": null,
      "outputs": [
        {
          "name": "stderr",
          "text": "/opt/conda/lib/python3.6/site-packages/ipykernel_launcher.py:9: UserWarning: To copy construct from a tensor, it is recommended to use sourceTensor.clone().detach() or sourceTensor.clone().detach().requires_grad_(True), rather than torch.tensor(sourceTensor).\n  if __name__ == '__main__':\n/opt/conda/lib/python3.6/site-packages/ipykernel_launcher.py:41: UserWarning: To copy construct from a tensor, it is recommended to use sourceTensor.clone().detach() or sourceTensor.clone().detach().requires_grad_(True), rather than torch.tensor(sourceTensor).\n",
          "output_type": "stream"
        },
        {
          "name": "stdout",
          "text": "Epoch 0: train loss = 3.89681528971113, valid loss = 0.71092888712883\nEpoch 1: train loss = 0.27513775023920783, valid loss = 0.15399321168661118\nEpoch 2: train loss = 0.12766070869462243, valid loss = 0.06665526237338781\nEpoch 3: train loss = 0.10474572407788243, valid loss = 0.08149967528879642\nEpoch 4: train loss = 0.09256983586940272, valid loss = 0.06368065811693668\nEpoch 5: train loss = 0.0809709185670162, valid loss = 0.09573563002049923\nEpoch 6: train loss = 0.08451709241188805, valid loss = 0.05817503668367863\nEpoch 7: train loss = 0.07790533016467917, valid loss = 0.06947058066725731\nEpoch 8: train loss = 0.08112003769854019, valid loss = 0.06448613665997982\nEpoch 9: train loss = 0.06416663810096938, valid loss = 0.0846137385815382\nEpoch 10: train loss = 0.07390080045523315, valid loss = 0.07071886584162712\nEpoch 11: train loss = 0.08690998060949917, valid loss = 0.09723405726253986\nEpoch 12: train loss = 0.06504989749398725, valid loss = 0.052532763220369816\nEpoch 13: train loss = 0.05690750967839669, valid loss = 0.06183122098445892\nEpoch 14: train loss = 0.0576260086020519, valid loss = 0.06612241920083761\nEpoch 15: train loss = 0.06134998528607961, valid loss = 0.0468812994658947\nEpoch 16: train loss = 0.06261046885930259, valid loss = 0.0763709619641304\nEpoch 17: train loss = 0.07219176148546153, valid loss = 0.10675060749053955\nEpoch 18: train loss = 0.07632840617463507, valid loss = 0.06560255959630013\nEpoch 19: train loss = 0.07558019420710103, valid loss = 0.05024099163711071\nEpoch 20: train loss = 0.0616406686604023, valid loss = 0.06177356094121933\nEpoch 21: train loss = 0.058422770351171494, valid loss = 0.08659098017960787\nEpoch 22: train loss = 0.06122098028145988, valid loss = 0.0704665519297123\nEpoch 23: train loss = 0.06115000078390385, valid loss = 0.08652339316904545\nEpoch 24: train loss = 0.061027418179758666, valid loss = 0.0798880122601986\nEpoch 25: train loss = 0.05661749582866143, valid loss = 0.06643480341881514\nEpoch 26: train loss = 0.06788625092855816, valid loss = 0.09909038245677948\nEpoch 27: train loss = 0.06431865859134443, valid loss = 0.13631891831755638\nEpoch 28: train loss = 0.06462023137458439, valid loss = 0.12751478143036366\nEpoch 29: train loss = 0.07597121031119905, valid loss = 0.1264783162623644\nEpoch 30: train loss = 0.0677508029701381, valid loss = 0.12079210393130779\nEpoch 31: train loss = 0.07425378455684103, valid loss = 0.211449783295393\nEpoch 32: train loss = 0.1261047160830991, valid loss = 0.08436503820121288\nEpoch 33: train loss = 0.08520022240178339, valid loss = 0.2106543332338333\nEpoch 34: train loss = 0.09748027197502811, valid loss = 0.07143614441156387\nEpoch 35: train loss = 0.06452823520220559, valid loss = 0.0916673094034195\nEpoch 36: train loss = 0.07570938496240254, valid loss = 0.094161756336689\nEpoch 37: train loss = 0.059826703164084206, valid loss = 0.06416863575577736\nEpoch 38: train loss = 0.05858027080780473, valid loss = 0.3711763992905617\nEpoch 39: train loss = 0.12303524965356136, valid loss = 0.12423682771623135\nEpoch 40: train loss = 0.06624772438201411, valid loss = 0.1090412400662899\nEpoch 41: train loss = 0.08093445452636686, valid loss = 0.13165240548551083\nEpoch 42: train loss = 0.08850393508528841, valid loss = 0.10585500113666058\nEpoch 43: train loss = 0.05992341696702201, valid loss = 0.07452299818396568\nEpoch 44: train loss = 0.05677763847955342, valid loss = 0.10352782532572746\nEpoch 45: train loss = 0.08487137676826839, valid loss = 0.050815909169614315\nEpoch 46: train loss = 0.058626361383960164, valid loss = 0.08805795013904572\nEpoch 47: train loss = 0.054477831284547674, valid loss = 0.11060410737991333\nEpoch 48: train loss = 0.0790692738674838, valid loss = 0.09326532296836376\nEpoch 49: train loss = 0.06092010669667145, valid loss = 0.07570537365972996\nEpoch 50: train loss = 0.07247047357518098, valid loss = 0.13547835871577263\nEpoch 51: train loss = 0.0670946359891316, valid loss = 0.06708146259188652\nEpoch 52: train loss = 0.0672025516115386, valid loss = 0.18613630533218384\nEpoch 53: train loss = 0.09291076737231221, valid loss = 0.19978803023695946\nEpoch 54: train loss = 0.10107460502406647, valid loss = 0.11449613235890865\nEpoch 55: train loss = 0.0817909447540497, valid loss = 0.1266071144491434\nEpoch 56: train loss = 0.0888827051325091, valid loss = 0.08926361985504627\nEpoch 57: train loss = 0.05992706736613964, valid loss = 0.05883155204355717\nEpoch 58: train loss = 0.06559424294993796, valid loss = 0.08977646008133888\nEpoch 59: train loss = 0.06600877527019074, valid loss = 0.12451526708900928\nEpoch 60: train loss = 0.08786859748692348, valid loss = 0.10250574722886086\nEpoch 61: train loss = 0.06701586562497862, valid loss = 0.15905195847153664\nEpoch 62: train loss = 0.09075941428028304, valid loss = 0.11993876844644547\nEpoch 63: train loss = 0.08860901794556914, valid loss = 0.2946010082960129\nEpoch 64: train loss = 0.144418366253376, valid loss = 0.2463713437318802\nEpoch 65: train loss = 0.15541833664836555, valid loss = 0.31845226883888245\nEpoch 66: train loss = 0.20121118182252193, valid loss = 0.11302202939987183\nEpoch 67: train loss = 0.09259105345298504, valid loss = 0.07813793607056141\nEpoch 68: train loss = 0.08060760115241182, valid loss = 0.11602157913148403\nEpoch 69: train loss = 0.07344352042880552, valid loss = 0.07260226644575596\n",
          "output_type": "stream"
        },
        {
          "output_type": "display_data",
          "data": {
            "text/plain": "<Figure size 432x288 with 1 Axes>",
            "image/png": "[encoded data removed]"
          },
          "metadata": {
            "needs_background": "light"
          }
        }
      ]
    },
    {
      "cell_type": "code",
      "source": [
        "# Report metrics on trained model\n",
        "from sklearn.metrics import mean_absolute_error\n",
        "from sklearn.metrics import mean_squared_error\n",
        "from scipy import stats\n",
        "import matplotlib.pyplot as plt\n",
        "\n",
        "test_loss, y_pred, y_true = validation_loop(model_mt, test_loader, criterion)\n",
        "y_pred = torch.tensor(y_pred, device='cpu')\n",
        "y_true = torch.tensor(y_true, device='cpu')\n",
        "print(\"MAE: \", mean_absolute_error(y_true, y_pred))\n",
        "print(\"MSE: \", mean_squared_error(y_true, y_pred))\n",
        "y_pred = np.array(y_pred)\n",
        "y_true = np.array(y_true)\n",
        "\n",
        "valence_true = np.zeros(len(y_pred))\n",
        "energy_true = np.zeros(len(y_pred))\n",
        "danceability_true = np.zeros(len(y_pred))\n",
        "valence_pred = np.zeros(len(y_pred))\n",
        "energy_pred = np.zeros(len(y_pred))\n",
        "danceability_pred = np.zeros(len(y_pred))\n",
        "for i in range(len(y_pred)):\n",
        "    valence_true[i] = y_true[i][0]\n",
        "    energy_true[i] = y_true[i][1]\n",
        "    danceability_true[i] = y_true[i][2]\n",
        "    valence_pred[i] = y_pred[i][0]\n",
        "    energy_pred[i] = y_pred[i][1]\n",
        "    danceability_pred[i] = y_pred[i][2]\n",
        "\n",
        "sp_val = stats.spearmanr(valence_true, valence_pred)[0]\n",
        "print(\"Spearman correlation (Valence, CNN_mt): \", sp_val)\n",
        "\n",
        "sp_en = stats.spearmanr(energy_true, energy_pred)[0]\n",
        "print(\"Spearman correlation (Energy, CNN_mt): \", sp_en)\n",
        "\n",
        "sp_d = stats.spearmanr(danceability_true, danceability_pred)[0]\n",
        "print(\"Spearman correlation (Danceability, CNN_mt): \", sp_d)\n",
        "\n",
        "print(\"Mean Score for MultiTask CNN: \", np.mean([sp_val, sp_en, sp_d]))"
      ],
      "metadata": {
        "execution": {
          "iopub.status.busy": "2023-12-05T16:13:02.913319Z",
          "iopub.execute_input": "2023-12-05T16:13:02.913654Z",
          "iopub.status.idle": "2023-12-05T16:13:03.177723Z",
          "shell.execute_reply.started": "2023-12-05T16:13:02.913613Z",
          "shell.execute_reply": "2023-12-05T16:13:03.176815Z"
        },
        "trusted": true,
        "id": "R3b0EYKoUQ-5",
        "outputId": "18994f9d-cc06-496f-f84c-4acb255df960"
      },
      "execution_count": null,
      "outputs": [
        {
          "name": "stderr",
          "text": "/opt/conda/lib/python3.6/site-packages/ipykernel_launcher.py:41: UserWarning: To copy construct from a tensor, it is recommended to use sourceTensor.clone().detach() or sourceTensor.clone().detach().requires_grad_(True), rather than torch.tensor(sourceTensor).\n",
          "output_type": "stream"
        },
        {
          "name": "stdout",
          "text": "MAE:  0.23104703\nMSE:  0.079741605\nSpearman correlation (Valence, CNN_mt):  0.3738086239261793\nSpearman correlation (Energy, CNN_mt):  0.6848473719266704\nSpearman correlation (Danceability, CNN_mt):  0.3139665998553704\nMean Score for MultiTask CNN:  0.45754086523607346\n",
          "output_type": "stream"
        },
        {
          "name": "stderr",
          "text": "/opt/conda/lib/python3.6/site-packages/ipykernel_launcher.py:8: UserWarning: To copy construct from a tensor, it is recommended to use sourceTensor.clone().detach() or sourceTensor.clone().detach().requires_grad_(True), rather than torch.tensor(sourceTensor).\n  \n/opt/conda/lib/python3.6/site-packages/ipykernel_launcher.py:9: UserWarning: To copy construct from a tensor, it is recommended to use sourceTensor.clone().detach() or sourceTensor.clone().detach().requires_grad_(True), rather than torch.tensor(sourceTensor).\n  if __name__ == '__main__':\n",
          "output_type": "stream"
        }
      ]
    },
    {
      "cell_type": "code",
      "source": [
        "# plt.style.use('seaborn-whitegrid')\n",
        "plt.plot(y_true , y_pred, 'o', color='blue');\n",
        "plt.title(\"CNN_mt - Valence\")\n",
        "plt.xlabel(\"y_true\")\n",
        "plt.ylabel(\"y_pred\")"
      ],
      "metadata": {
        "execution": {
          "iopub.status.busy": "2023-12-05T16:13:07.617292Z",
          "iopub.execute_input": "2023-12-05T16:13:07.617565Z",
          "iopub.status.idle": "2023-12-05T16:13:07.780854Z",
          "shell.execute_reply.started": "2023-12-05T16:13:07.617538Z",
          "shell.execute_reply": "2023-12-05T16:13:07.780134Z"
        },
        "trusted": true,
        "id": "HbdYBBEPUQ-5",
        "outputId": "44b6d050-119b-4351-f376-96689816666a"
      },
      "execution_count": null,
      "outputs": [
        {
          "execution_count": 301,
          "output_type": "execute_result",
          "data": {
            "text/plain": "Text(0, 0.5, 'y_pred')"
          },
          "metadata": {}
        },
        {
          "output_type": "display_data",
          "data": {
            "text/plain": "<Figure size 432x288 with 1 Axes>",
            "image/png": "[encoded data removed]"
          },
          "metadata": {
            "needs_background": "light"
          }
        }
      ]
    },
    {
      "cell_type": "code",
      "source": [
        "# plt.style.use('seaborn-whitegrid')\n",
        "plt.plot(y_true , y_pred, 'o', color='blue');\n",
        "plt.title(\"CNN_mt - Energy\")\n",
        "plt.xlabel(\"y_true\")\n",
        "plt.ylabel(\"y_pred\")"
      ],
      "metadata": {
        "execution": {
          "iopub.status.busy": "2023-12-05T16:13:09.898653Z",
          "iopub.execute_input": "2023-12-05T16:13:09.898935Z",
          "iopub.status.idle": "2023-12-05T16:13:10.080949Z",
          "shell.execute_reply.started": "2023-12-05T16:13:09.898908Z",
          "shell.execute_reply": "2023-12-05T16:13:10.080252Z"
        },
        "trusted": true,
        "id": "ylIZNhmFUQ-5",
        "outputId": "7aa67f47-122b-46ce-e1ac-3ff48393f832"
      },
      "execution_count": null,
      "outputs": [
        {
          "execution_count": 302,
          "output_type": "execute_result",
          "data": {
            "text/plain": "Text(0, 0.5, 'y_pred')"
          },
          "metadata": {}
        },
        {
          "output_type": "display_data",
          "data": {
            "text/plain": "<Figure size 432x288 with 1 Axes>",
            "image/png": "[encoded data removed]"
          },
          "metadata": {
            "needs_background": "light"
          }
        }
      ]
    },
    {
      "cell_type": "code",
      "source": [
        "# plt.style.use('seaborn-whitegrid')\n",
        "plt.plot(y_true , y_pred, 'o', color='blue');\n",
        "plt.title(\"CNN_mt - Danceability\")\n",
        "plt.xlabel(\"y_true\")\n",
        "plt.ylabel(\"y_pred\")"
      ],
      "metadata": {
        "execution": {
          "iopub.status.busy": "2023-12-05T16:13:12.405225Z",
          "iopub.execute_input": "2023-12-05T16:13:12.405544Z",
          "iopub.status.idle": "2023-12-05T16:13:12.595440Z",
          "shell.execute_reply.started": "2023-12-05T16:13:12.405508Z",
          "shell.execute_reply": "2023-12-05T16:13:12.594694Z"
        },
        "trusted": true,
        "id": "VEqhcxpSUQ-5",
        "outputId": "b8dae4e8-0473-4811-a80f-199c5063da7c"
      },
      "execution_count": null,
      "outputs": [
        {
          "execution_count": 303,
          "output_type": "execute_result",
          "data": {
            "text/plain": "Text(0, 0.5, 'y_pred')"
          },
          "metadata": {}
        },
        {
          "output_type": "display_data",
          "data": {
            "text/plain": "<Figure size 432x288 with 1 Axes>",
            "image/png": "[encoded data removed]"
          },
          "metadata": {
            "needs_background": "light"
          }
        }
      ]
    }
  ]
}